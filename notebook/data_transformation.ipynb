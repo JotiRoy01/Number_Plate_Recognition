{
 "cells": [
  {
   "cell_type": "code",
   "execution_count": 74,
   "metadata": {},
   "outputs": [],
   "source": [
    "import pandas as pd\n",
    "import numpy as np\n",
    "import cv2\n",
    "import xml.etree.ElementTree as ET\n",
    "from ANPR.entity.config_entity import *\n",
    "from ANPR.entity.artifacts_entity import *\n",
    "from ANPR.exception import ANPR_Exceptioon\n",
    "from ANPR.constants import *\n",
    "from glob import glob\n",
    "from ANPR.utils.common import read_yaml\n",
    "from tensorflow.keras.preprocessing.image import img_to_array, load_img\n",
    "from ANPR.config.configuration import Configuration\n",
    "from ANPR.utils.common import save_numpy_array_data"
   ]
  },
  {
   "cell_type": "code",
   "execution_count": 2,
   "metadata": {},
   "outputs": [],
   "source": [
    "#!pip install opencv-python"
   ]
  },
  {
   "cell_type": "code",
   "execution_count": null,
   "metadata": {},
   "outputs": [],
   "source": []
  },
  {
   "cell_type": "code",
   "execution_count": 8,
   "metadata": {},
   "outputs": [],
   "source": [
    "data_ingestion_config = Configuration(config_file_path=CONFIG_FILE_PATH, current_time_stamp=CURRENT_TIME_STAMP)\n",
    "data_ingestion_artifacts = data_ingestion_config.get_data_ingestion_artifacts()\n",
    "\n",
    "def get_bounding_box_coordinates():\n",
    "        os.makedirs(data_ingestion_config.data_transformation_config().data_transformation_artifact_dir,exist_ok=True)\n",
    "        \"\"\"\n",
    "        Method Name :   get_bounding_box_coordinates\n",
    "        Description :   This method will indivisually take each file and parse into  xml.etree and find the object and find bndbox object. \n",
    "                        Then we extract xmin,xmax,ymin,ymax and saved those values in the dictionary named labels_dict.\n",
    "        \"\"\"\n",
    "        path = glob(os.path.join(data_ingestion_artifacts.image_data_dir,'*.xml'))\n",
    "        print(path)\n",
    "        labels_dict = dict(filepath=[],xmin=[],xmax=[],ymin=[],ymax=[])\n",
    "        for filename in path:\n",
    "            info = ET.parse(filename)\n",
    "            root = info.getroot()\n",
    "            member_object = root.find('object')\n",
    "            labels_info = member_object.find('bndbox')\n",
    "            xmin = int(labels_info.find('xmin').text)\n",
    "            xmax = int(labels_info.find('xmax').text)\n",
    "            ymin = int(labels_info.find('ymin').text)\n",
    "            ymax = int(labels_info.find('ymax').text)\n",
    "\n",
    "            labels_dict['filepath'].append(filename)\n",
    "            labels_dict['xmin'].append(xmin)\n",
    "            labels_dict['xmax'].append(xmax)\n",
    "            labels_dict['ymin'].append(ymin)\n",
    "            labels_dict['ymax'].append(ymax)\n",
    "            \n",
    "        dataframe = pd.DataFrame(labels_dict)\n",
    "        labels_file_dir = os.path.join(data_ingestion_config.data_transformation_config().data_transformation_artifact_dir, data_ingestion_config.data_transformation_config().labeled_dataframe)\n",
    "        dataframe.to_csv(labels_file_dir,index=False)\n",
    "        return dataframe"
   ]
  },
  {
   "cell_type": "code",
   "execution_count": 11,
   "metadata": {},
   "outputs": [
    {
     "name": "stdout",
     "output_type": "stream",
     "text": [
      "['d:\\\\Develops\\\\ML_PROJECT\\\\Number_Plate_Recognition\\\\notebook\\\\src\\\\ANPR\\\\artifacts\\\\ingested_dir\\\\raw_data\\\\images\\\\N1.xml', 'd:\\\\Develops\\\\ML_PROJECT\\\\Number_Plate_Recognition\\\\notebook\\\\src\\\\ANPR\\\\artifacts\\\\ingested_dir\\\\raw_data\\\\images\\\\N100.xml', 'd:\\\\Develops\\\\ML_PROJECT\\\\Number_Plate_Recognition\\\\notebook\\\\src\\\\ANPR\\\\artifacts\\\\ingested_dir\\\\raw_data\\\\images\\\\N101.xml', 'd:\\\\Develops\\\\ML_PROJECT\\\\Number_Plate_Recognition\\\\notebook\\\\src\\\\ANPR\\\\artifacts\\\\ingested_dir\\\\raw_data\\\\images\\\\N102.xml', 'd:\\\\Develops\\\\ML_PROJECT\\\\Number_Plate_Recognition\\\\notebook\\\\src\\\\ANPR\\\\artifacts\\\\ingested_dir\\\\raw_data\\\\images\\\\N103.xml', 'd:\\\\Develops\\\\ML_PROJECT\\\\Number_Plate_Recognition\\\\notebook\\\\src\\\\ANPR\\\\artifacts\\\\ingested_dir\\\\raw_data\\\\images\\\\N104.xml', 'd:\\\\Develops\\\\ML_PROJECT\\\\Number_Plate_Recognition\\\\notebook\\\\src\\\\ANPR\\\\artifacts\\\\ingested_dir\\\\raw_data\\\\images\\\\N105.xml', 'd:\\\\Develops\\\\ML_PROJECT\\\\Number_Plate_Recognition\\\\notebook\\\\src\\\\ANPR\\\\artifacts\\\\ingested_dir\\\\raw_data\\\\images\\\\N106.xml', 'd:\\\\Develops\\\\ML_PROJECT\\\\Number_Plate_Recognition\\\\notebook\\\\src\\\\ANPR\\\\artifacts\\\\ingested_dir\\\\raw_data\\\\images\\\\N107.xml', 'd:\\\\Develops\\\\ML_PROJECT\\\\Number_Plate_Recognition\\\\notebook\\\\src\\\\ANPR\\\\artifacts\\\\ingested_dir\\\\raw_data\\\\images\\\\N108.xml', 'd:\\\\Develops\\\\ML_PROJECT\\\\Number_Plate_Recognition\\\\notebook\\\\src\\\\ANPR\\\\artifacts\\\\ingested_dir\\\\raw_data\\\\images\\\\N109.xml', 'd:\\\\Develops\\\\ML_PROJECT\\\\Number_Plate_Recognition\\\\notebook\\\\src\\\\ANPR\\\\artifacts\\\\ingested_dir\\\\raw_data\\\\images\\\\N11.xml', 'd:\\\\Develops\\\\ML_PROJECT\\\\Number_Plate_Recognition\\\\notebook\\\\src\\\\ANPR\\\\artifacts\\\\ingested_dir\\\\raw_data\\\\images\\\\N110.xml', 'd:\\\\Develops\\\\ML_PROJECT\\\\Number_Plate_Recognition\\\\notebook\\\\src\\\\ANPR\\\\artifacts\\\\ingested_dir\\\\raw_data\\\\images\\\\N111.xml', 'd:\\\\Develops\\\\ML_PROJECT\\\\Number_Plate_Recognition\\\\notebook\\\\src\\\\ANPR\\\\artifacts\\\\ingested_dir\\\\raw_data\\\\images\\\\N112.xml', 'd:\\\\Develops\\\\ML_PROJECT\\\\Number_Plate_Recognition\\\\notebook\\\\src\\\\ANPR\\\\artifacts\\\\ingested_dir\\\\raw_data\\\\images\\\\N113.xml', 'd:\\\\Develops\\\\ML_PROJECT\\\\Number_Plate_Recognition\\\\notebook\\\\src\\\\ANPR\\\\artifacts\\\\ingested_dir\\\\raw_data\\\\images\\\\N114.xml', 'd:\\\\Develops\\\\ML_PROJECT\\\\Number_Plate_Recognition\\\\notebook\\\\src\\\\ANPR\\\\artifacts\\\\ingested_dir\\\\raw_data\\\\images\\\\N116.xml', 'd:\\\\Develops\\\\ML_PROJECT\\\\Number_Plate_Recognition\\\\notebook\\\\src\\\\ANPR\\\\artifacts\\\\ingested_dir\\\\raw_data\\\\images\\\\N117.xml', 'd:\\\\Develops\\\\ML_PROJECT\\\\Number_Plate_Recognition\\\\notebook\\\\src\\\\ANPR\\\\artifacts\\\\ingested_dir\\\\raw_data\\\\images\\\\N118.xml', 'd:\\\\Develops\\\\ML_PROJECT\\\\Number_Plate_Recognition\\\\notebook\\\\src\\\\ANPR\\\\artifacts\\\\ingested_dir\\\\raw_data\\\\images\\\\N119.xml', 'd:\\\\Develops\\\\ML_PROJECT\\\\Number_Plate_Recognition\\\\notebook\\\\src\\\\ANPR\\\\artifacts\\\\ingested_dir\\\\raw_data\\\\images\\\\N12.xml', 'd:\\\\Develops\\\\ML_PROJECT\\\\Number_Plate_Recognition\\\\notebook\\\\src\\\\ANPR\\\\artifacts\\\\ingested_dir\\\\raw_data\\\\images\\\\N120.xml', 'd:\\\\Develops\\\\ML_PROJECT\\\\Number_Plate_Recognition\\\\notebook\\\\src\\\\ANPR\\\\artifacts\\\\ingested_dir\\\\raw_data\\\\images\\\\N121.xml', 'd:\\\\Develops\\\\ML_PROJECT\\\\Number_Plate_Recognition\\\\notebook\\\\src\\\\ANPR\\\\artifacts\\\\ingested_dir\\\\raw_data\\\\images\\\\N122.xml', 'd:\\\\Develops\\\\ML_PROJECT\\\\Number_Plate_Recognition\\\\notebook\\\\src\\\\ANPR\\\\artifacts\\\\ingested_dir\\\\raw_data\\\\images\\\\N123.xml', 'd:\\\\Develops\\\\ML_PROJECT\\\\Number_Plate_Recognition\\\\notebook\\\\src\\\\ANPR\\\\artifacts\\\\ingested_dir\\\\raw_data\\\\images\\\\N124.xml', 'd:\\\\Develops\\\\ML_PROJECT\\\\Number_Plate_Recognition\\\\notebook\\\\src\\\\ANPR\\\\artifacts\\\\ingested_dir\\\\raw_data\\\\images\\\\N126.xml', 'd:\\\\Develops\\\\ML_PROJECT\\\\Number_Plate_Recognition\\\\notebook\\\\src\\\\ANPR\\\\artifacts\\\\ingested_dir\\\\raw_data\\\\images\\\\N127.xml', 'd:\\\\Develops\\\\ML_PROJECT\\\\Number_Plate_Recognition\\\\notebook\\\\src\\\\ANPR\\\\artifacts\\\\ingested_dir\\\\raw_data\\\\images\\\\N128.xml', 'd:\\\\Develops\\\\ML_PROJECT\\\\Number_Plate_Recognition\\\\notebook\\\\src\\\\ANPR\\\\artifacts\\\\ingested_dir\\\\raw_data\\\\images\\\\N129.xml', 'd:\\\\Develops\\\\ML_PROJECT\\\\Number_Plate_Recognition\\\\notebook\\\\src\\\\ANPR\\\\artifacts\\\\ingested_dir\\\\raw_data\\\\images\\\\N130.xml', 'd:\\\\Develops\\\\ML_PROJECT\\\\Number_Plate_Recognition\\\\notebook\\\\src\\\\ANPR\\\\artifacts\\\\ingested_dir\\\\raw_data\\\\images\\\\N131.xml', 'd:\\\\Develops\\\\ML_PROJECT\\\\Number_Plate_Recognition\\\\notebook\\\\src\\\\ANPR\\\\artifacts\\\\ingested_dir\\\\raw_data\\\\images\\\\N132.xml', 'd:\\\\Develops\\\\ML_PROJECT\\\\Number_Plate_Recognition\\\\notebook\\\\src\\\\ANPR\\\\artifacts\\\\ingested_dir\\\\raw_data\\\\images\\\\N133.xml', 'd:\\\\Develops\\\\ML_PROJECT\\\\Number_Plate_Recognition\\\\notebook\\\\src\\\\ANPR\\\\artifacts\\\\ingested_dir\\\\raw_data\\\\images\\\\N134.xml', 'd:\\\\Develops\\\\ML_PROJECT\\\\Number_Plate_Recognition\\\\notebook\\\\src\\\\ANPR\\\\artifacts\\\\ingested_dir\\\\raw_data\\\\images\\\\N135.xml', 'd:\\\\Develops\\\\ML_PROJECT\\\\Number_Plate_Recognition\\\\notebook\\\\src\\\\ANPR\\\\artifacts\\\\ingested_dir\\\\raw_data\\\\images\\\\N136.xml', 'd:\\\\Develops\\\\ML_PROJECT\\\\Number_Plate_Recognition\\\\notebook\\\\src\\\\ANPR\\\\artifacts\\\\ingested_dir\\\\raw_data\\\\images\\\\N137.xml', 'd:\\\\Develops\\\\ML_PROJECT\\\\Number_Plate_Recognition\\\\notebook\\\\src\\\\ANPR\\\\artifacts\\\\ingested_dir\\\\raw_data\\\\images\\\\N138.xml', 'd:\\\\Develops\\\\ML_PROJECT\\\\Number_Plate_Recognition\\\\notebook\\\\src\\\\ANPR\\\\artifacts\\\\ingested_dir\\\\raw_data\\\\images\\\\N139.xml', 'd:\\\\Develops\\\\ML_PROJECT\\\\Number_Plate_Recognition\\\\notebook\\\\src\\\\ANPR\\\\artifacts\\\\ingested_dir\\\\raw_data\\\\images\\\\N14.xml', 'd:\\\\Develops\\\\ML_PROJECT\\\\Number_Plate_Recognition\\\\notebook\\\\src\\\\ANPR\\\\artifacts\\\\ingested_dir\\\\raw_data\\\\images\\\\N140.xml', 'd:\\\\Develops\\\\ML_PROJECT\\\\Number_Plate_Recognition\\\\notebook\\\\src\\\\ANPR\\\\artifacts\\\\ingested_dir\\\\raw_data\\\\images\\\\N141.xml', 'd:\\\\Develops\\\\ML_PROJECT\\\\Number_Plate_Recognition\\\\notebook\\\\src\\\\ANPR\\\\artifacts\\\\ingested_dir\\\\raw_data\\\\images\\\\N142.xml', 'd:\\\\Develops\\\\ML_PROJECT\\\\Number_Plate_Recognition\\\\notebook\\\\src\\\\ANPR\\\\artifacts\\\\ingested_dir\\\\raw_data\\\\images\\\\N143.xml', 'd:\\\\Develops\\\\ML_PROJECT\\\\Number_Plate_Recognition\\\\notebook\\\\src\\\\ANPR\\\\artifacts\\\\ingested_dir\\\\raw_data\\\\images\\\\N144.xml', 'd:\\\\Develops\\\\ML_PROJECT\\\\Number_Plate_Recognition\\\\notebook\\\\src\\\\ANPR\\\\artifacts\\\\ingested_dir\\\\raw_data\\\\images\\\\N145.xml', 'd:\\\\Develops\\\\ML_PROJECT\\\\Number_Plate_Recognition\\\\notebook\\\\src\\\\ANPR\\\\artifacts\\\\ingested_dir\\\\raw_data\\\\images\\\\N147.xml', 'd:\\\\Develops\\\\ML_PROJECT\\\\Number_Plate_Recognition\\\\notebook\\\\src\\\\ANPR\\\\artifacts\\\\ingested_dir\\\\raw_data\\\\images\\\\N148.xml', 'd:\\\\Develops\\\\ML_PROJECT\\\\Number_Plate_Recognition\\\\notebook\\\\src\\\\ANPR\\\\artifacts\\\\ingested_dir\\\\raw_data\\\\images\\\\N149.xml', 'd:\\\\Develops\\\\ML_PROJECT\\\\Number_Plate_Recognition\\\\notebook\\\\src\\\\ANPR\\\\artifacts\\\\ingested_dir\\\\raw_data\\\\images\\\\N15.xml', 'd:\\\\Develops\\\\ML_PROJECT\\\\Number_Plate_Recognition\\\\notebook\\\\src\\\\ANPR\\\\artifacts\\\\ingested_dir\\\\raw_data\\\\images\\\\N150.xml', 'd:\\\\Develops\\\\ML_PROJECT\\\\Number_Plate_Recognition\\\\notebook\\\\src\\\\ANPR\\\\artifacts\\\\ingested_dir\\\\raw_data\\\\images\\\\N151.xml', 'd:\\\\Develops\\\\ML_PROJECT\\\\Number_Plate_Recognition\\\\notebook\\\\src\\\\ANPR\\\\artifacts\\\\ingested_dir\\\\raw_data\\\\images\\\\N152.xml', 'd:\\\\Develops\\\\ML_PROJECT\\\\Number_Plate_Recognition\\\\notebook\\\\src\\\\ANPR\\\\artifacts\\\\ingested_dir\\\\raw_data\\\\images\\\\N153.xml', 'd:\\\\Develops\\\\ML_PROJECT\\\\Number_Plate_Recognition\\\\notebook\\\\src\\\\ANPR\\\\artifacts\\\\ingested_dir\\\\raw_data\\\\images\\\\N154.xml', 'd:\\\\Develops\\\\ML_PROJECT\\\\Number_Plate_Recognition\\\\notebook\\\\src\\\\ANPR\\\\artifacts\\\\ingested_dir\\\\raw_data\\\\images\\\\N155.xml', 'd:\\\\Develops\\\\ML_PROJECT\\\\Number_Plate_Recognition\\\\notebook\\\\src\\\\ANPR\\\\artifacts\\\\ingested_dir\\\\raw_data\\\\images\\\\N156.xml', 'd:\\\\Develops\\\\ML_PROJECT\\\\Number_Plate_Recognition\\\\notebook\\\\src\\\\ANPR\\\\artifacts\\\\ingested_dir\\\\raw_data\\\\images\\\\N158.xml', 'd:\\\\Develops\\\\ML_PROJECT\\\\Number_Plate_Recognition\\\\notebook\\\\src\\\\ANPR\\\\artifacts\\\\ingested_dir\\\\raw_data\\\\images\\\\N16.xml', 'd:\\\\Develops\\\\ML_PROJECT\\\\Number_Plate_Recognition\\\\notebook\\\\src\\\\ANPR\\\\artifacts\\\\ingested_dir\\\\raw_data\\\\images\\\\N160.xml', 'd:\\\\Develops\\\\ML_PROJECT\\\\Number_Plate_Recognition\\\\notebook\\\\src\\\\ANPR\\\\artifacts\\\\ingested_dir\\\\raw_data\\\\images\\\\N162.xml', 'd:\\\\Develops\\\\ML_PROJECT\\\\Number_Plate_Recognition\\\\notebook\\\\src\\\\ANPR\\\\artifacts\\\\ingested_dir\\\\raw_data\\\\images\\\\N163.xml', 'd:\\\\Develops\\\\ML_PROJECT\\\\Number_Plate_Recognition\\\\notebook\\\\src\\\\ANPR\\\\artifacts\\\\ingested_dir\\\\raw_data\\\\images\\\\N164.xml', 'd:\\\\Develops\\\\ML_PROJECT\\\\Number_Plate_Recognition\\\\notebook\\\\src\\\\ANPR\\\\artifacts\\\\ingested_dir\\\\raw_data\\\\images\\\\N165.xml', 'd:\\\\Develops\\\\ML_PROJECT\\\\Number_Plate_Recognition\\\\notebook\\\\src\\\\ANPR\\\\artifacts\\\\ingested_dir\\\\raw_data\\\\images\\\\N166.xml', 'd:\\\\Develops\\\\ML_PROJECT\\\\Number_Plate_Recognition\\\\notebook\\\\src\\\\ANPR\\\\artifacts\\\\ingested_dir\\\\raw_data\\\\images\\\\N167.xml', 'd:\\\\Develops\\\\ML_PROJECT\\\\Number_Plate_Recognition\\\\notebook\\\\src\\\\ANPR\\\\artifacts\\\\ingested_dir\\\\raw_data\\\\images\\\\N168.xml', 'd:\\\\Develops\\\\ML_PROJECT\\\\Number_Plate_Recognition\\\\notebook\\\\src\\\\ANPR\\\\artifacts\\\\ingested_dir\\\\raw_data\\\\images\\\\N169.xml', 'd:\\\\Develops\\\\ML_PROJECT\\\\Number_Plate_Recognition\\\\notebook\\\\src\\\\ANPR\\\\artifacts\\\\ingested_dir\\\\raw_data\\\\images\\\\N17.xml', 'd:\\\\Develops\\\\ML_PROJECT\\\\Number_Plate_Recognition\\\\notebook\\\\src\\\\ANPR\\\\artifacts\\\\ingested_dir\\\\raw_data\\\\images\\\\N170.xml', 'd:\\\\Develops\\\\ML_PROJECT\\\\Number_Plate_Recognition\\\\notebook\\\\src\\\\ANPR\\\\artifacts\\\\ingested_dir\\\\raw_data\\\\images\\\\N171.xml', 'd:\\\\Develops\\\\ML_PROJECT\\\\Number_Plate_Recognition\\\\notebook\\\\src\\\\ANPR\\\\artifacts\\\\ingested_dir\\\\raw_data\\\\images\\\\N172.xml', 'd:\\\\Develops\\\\ML_PROJECT\\\\Number_Plate_Recognition\\\\notebook\\\\src\\\\ANPR\\\\artifacts\\\\ingested_dir\\\\raw_data\\\\images\\\\N173.xml', 'd:\\\\Develops\\\\ML_PROJECT\\\\Number_Plate_Recognition\\\\notebook\\\\src\\\\ANPR\\\\artifacts\\\\ingested_dir\\\\raw_data\\\\images\\\\N174.xml', 'd:\\\\Develops\\\\ML_PROJECT\\\\Number_Plate_Recognition\\\\notebook\\\\src\\\\ANPR\\\\artifacts\\\\ingested_dir\\\\raw_data\\\\images\\\\N175.xml', 'd:\\\\Develops\\\\ML_PROJECT\\\\Number_Plate_Recognition\\\\notebook\\\\src\\\\ANPR\\\\artifacts\\\\ingested_dir\\\\raw_data\\\\images\\\\N176.xml', 'd:\\\\Develops\\\\ML_PROJECT\\\\Number_Plate_Recognition\\\\notebook\\\\src\\\\ANPR\\\\artifacts\\\\ingested_dir\\\\raw_data\\\\images\\\\N177.xml', 'd:\\\\Develops\\\\ML_PROJECT\\\\Number_Plate_Recognition\\\\notebook\\\\src\\\\ANPR\\\\artifacts\\\\ingested_dir\\\\raw_data\\\\images\\\\N178.xml', 'd:\\\\Develops\\\\ML_PROJECT\\\\Number_Plate_Recognition\\\\notebook\\\\src\\\\ANPR\\\\artifacts\\\\ingested_dir\\\\raw_data\\\\images\\\\N179.xml', 'd:\\\\Develops\\\\ML_PROJECT\\\\Number_Plate_Recognition\\\\notebook\\\\src\\\\ANPR\\\\artifacts\\\\ingested_dir\\\\raw_data\\\\images\\\\N18.xml', 'd:\\\\Develops\\\\ML_PROJECT\\\\Number_Plate_Recognition\\\\notebook\\\\src\\\\ANPR\\\\artifacts\\\\ingested_dir\\\\raw_data\\\\images\\\\N181.xml', 'd:\\\\Develops\\\\ML_PROJECT\\\\Number_Plate_Recognition\\\\notebook\\\\src\\\\ANPR\\\\artifacts\\\\ingested_dir\\\\raw_data\\\\images\\\\N183.xml', 'd:\\\\Develops\\\\ML_PROJECT\\\\Number_Plate_Recognition\\\\notebook\\\\src\\\\ANPR\\\\artifacts\\\\ingested_dir\\\\raw_data\\\\images\\\\N184.xml', 'd:\\\\Develops\\\\ML_PROJECT\\\\Number_Plate_Recognition\\\\notebook\\\\src\\\\ANPR\\\\artifacts\\\\ingested_dir\\\\raw_data\\\\images\\\\N185.xml', 'd:\\\\Develops\\\\ML_PROJECT\\\\Number_Plate_Recognition\\\\notebook\\\\src\\\\ANPR\\\\artifacts\\\\ingested_dir\\\\raw_data\\\\images\\\\N186.xml', 'd:\\\\Develops\\\\ML_PROJECT\\\\Number_Plate_Recognition\\\\notebook\\\\src\\\\ANPR\\\\artifacts\\\\ingested_dir\\\\raw_data\\\\images\\\\N187.xml', 'd:\\\\Develops\\\\ML_PROJECT\\\\Number_Plate_Recognition\\\\notebook\\\\src\\\\ANPR\\\\artifacts\\\\ingested_dir\\\\raw_data\\\\images\\\\N188.xml', 'd:\\\\Develops\\\\ML_PROJECT\\\\Number_Plate_Recognition\\\\notebook\\\\src\\\\ANPR\\\\artifacts\\\\ingested_dir\\\\raw_data\\\\images\\\\N189.xml', 'd:\\\\Develops\\\\ML_PROJECT\\\\Number_Plate_Recognition\\\\notebook\\\\src\\\\ANPR\\\\artifacts\\\\ingested_dir\\\\raw_data\\\\images\\\\N19.xml', 'd:\\\\Develops\\\\ML_PROJECT\\\\Number_Plate_Recognition\\\\notebook\\\\src\\\\ANPR\\\\artifacts\\\\ingested_dir\\\\raw_data\\\\images\\\\N190.xml', 'd:\\\\Develops\\\\ML_PROJECT\\\\Number_Plate_Recognition\\\\notebook\\\\src\\\\ANPR\\\\artifacts\\\\ingested_dir\\\\raw_data\\\\images\\\\N191.xml', 'd:\\\\Develops\\\\ML_PROJECT\\\\Number_Plate_Recognition\\\\notebook\\\\src\\\\ANPR\\\\artifacts\\\\ingested_dir\\\\raw_data\\\\images\\\\N192.xml', 'd:\\\\Develops\\\\ML_PROJECT\\\\Number_Plate_Recognition\\\\notebook\\\\src\\\\ANPR\\\\artifacts\\\\ingested_dir\\\\raw_data\\\\images\\\\N193.xml', 'd:\\\\Develops\\\\ML_PROJECT\\\\Number_Plate_Recognition\\\\notebook\\\\src\\\\ANPR\\\\artifacts\\\\ingested_dir\\\\raw_data\\\\images\\\\N195.xml', 'd:\\\\Develops\\\\ML_PROJECT\\\\Number_Plate_Recognition\\\\notebook\\\\src\\\\ANPR\\\\artifacts\\\\ingested_dir\\\\raw_data\\\\images\\\\N196.xml', 'd:\\\\Develops\\\\ML_PROJECT\\\\Number_Plate_Recognition\\\\notebook\\\\src\\\\ANPR\\\\artifacts\\\\ingested_dir\\\\raw_data\\\\images\\\\N197.xml', 'd:\\\\Develops\\\\ML_PROJECT\\\\Number_Plate_Recognition\\\\notebook\\\\src\\\\ANPR\\\\artifacts\\\\ingested_dir\\\\raw_data\\\\images\\\\N198.xml', 'd:\\\\Develops\\\\ML_PROJECT\\\\Number_Plate_Recognition\\\\notebook\\\\src\\\\ANPR\\\\artifacts\\\\ingested_dir\\\\raw_data\\\\images\\\\N199.xml', 'd:\\\\Develops\\\\ML_PROJECT\\\\Number_Plate_Recognition\\\\notebook\\\\src\\\\ANPR\\\\artifacts\\\\ingested_dir\\\\raw_data\\\\images\\\\N2.xml', 'd:\\\\Develops\\\\ML_PROJECT\\\\Number_Plate_Recognition\\\\notebook\\\\src\\\\ANPR\\\\artifacts\\\\ingested_dir\\\\raw_data\\\\images\\\\N20.xml', 'd:\\\\Develops\\\\ML_PROJECT\\\\Number_Plate_Recognition\\\\notebook\\\\src\\\\ANPR\\\\artifacts\\\\ingested_dir\\\\raw_data\\\\images\\\\N200.xml', 'd:\\\\Develops\\\\ML_PROJECT\\\\Number_Plate_Recognition\\\\notebook\\\\src\\\\ANPR\\\\artifacts\\\\ingested_dir\\\\raw_data\\\\images\\\\N201.xml', 'd:\\\\Develops\\\\ML_PROJECT\\\\Number_Plate_Recognition\\\\notebook\\\\src\\\\ANPR\\\\artifacts\\\\ingested_dir\\\\raw_data\\\\images\\\\N202.xml', 'd:\\\\Develops\\\\ML_PROJECT\\\\Number_Plate_Recognition\\\\notebook\\\\src\\\\ANPR\\\\artifacts\\\\ingested_dir\\\\raw_data\\\\images\\\\N203.xml', 'd:\\\\Develops\\\\ML_PROJECT\\\\Number_Plate_Recognition\\\\notebook\\\\src\\\\ANPR\\\\artifacts\\\\ingested_dir\\\\raw_data\\\\images\\\\N204.xml', 'd:\\\\Develops\\\\ML_PROJECT\\\\Number_Plate_Recognition\\\\notebook\\\\src\\\\ANPR\\\\artifacts\\\\ingested_dir\\\\raw_data\\\\images\\\\N205.xml', 'd:\\\\Develops\\\\ML_PROJECT\\\\Number_Plate_Recognition\\\\notebook\\\\src\\\\ANPR\\\\artifacts\\\\ingested_dir\\\\raw_data\\\\images\\\\N206.xml', 'd:\\\\Develops\\\\ML_PROJECT\\\\Number_Plate_Recognition\\\\notebook\\\\src\\\\ANPR\\\\artifacts\\\\ingested_dir\\\\raw_data\\\\images\\\\N207.xml', 'd:\\\\Develops\\\\ML_PROJECT\\\\Number_Plate_Recognition\\\\notebook\\\\src\\\\ANPR\\\\artifacts\\\\ingested_dir\\\\raw_data\\\\images\\\\N208.xml', 'd:\\\\Develops\\\\ML_PROJECT\\\\Number_Plate_Recognition\\\\notebook\\\\src\\\\ANPR\\\\artifacts\\\\ingested_dir\\\\raw_data\\\\images\\\\N209.xml', 'd:\\\\Develops\\\\ML_PROJECT\\\\Number_Plate_Recognition\\\\notebook\\\\src\\\\ANPR\\\\artifacts\\\\ingested_dir\\\\raw_data\\\\images\\\\N21.xml', 'd:\\\\Develops\\\\ML_PROJECT\\\\Number_Plate_Recognition\\\\notebook\\\\src\\\\ANPR\\\\artifacts\\\\ingested_dir\\\\raw_data\\\\images\\\\N210.xml', 'd:\\\\Develops\\\\ML_PROJECT\\\\Number_Plate_Recognition\\\\notebook\\\\src\\\\ANPR\\\\artifacts\\\\ingested_dir\\\\raw_data\\\\images\\\\N211.xml', 'd:\\\\Develops\\\\ML_PROJECT\\\\Number_Plate_Recognition\\\\notebook\\\\src\\\\ANPR\\\\artifacts\\\\ingested_dir\\\\raw_data\\\\images\\\\N212.xml', 'd:\\\\Develops\\\\ML_PROJECT\\\\Number_Plate_Recognition\\\\notebook\\\\src\\\\ANPR\\\\artifacts\\\\ingested_dir\\\\raw_data\\\\images\\\\N213.xml', 'd:\\\\Develops\\\\ML_PROJECT\\\\Number_Plate_Recognition\\\\notebook\\\\src\\\\ANPR\\\\artifacts\\\\ingested_dir\\\\raw_data\\\\images\\\\N214.xml', 'd:\\\\Develops\\\\ML_PROJECT\\\\Number_Plate_Recognition\\\\notebook\\\\src\\\\ANPR\\\\artifacts\\\\ingested_dir\\\\raw_data\\\\images\\\\N215.xml', 'd:\\\\Develops\\\\ML_PROJECT\\\\Number_Plate_Recognition\\\\notebook\\\\src\\\\ANPR\\\\artifacts\\\\ingested_dir\\\\raw_data\\\\images\\\\N216.xml', 'd:\\\\Develops\\\\ML_PROJECT\\\\Number_Plate_Recognition\\\\notebook\\\\src\\\\ANPR\\\\artifacts\\\\ingested_dir\\\\raw_data\\\\images\\\\N217.xml', 'd:\\\\Develops\\\\ML_PROJECT\\\\Number_Plate_Recognition\\\\notebook\\\\src\\\\ANPR\\\\artifacts\\\\ingested_dir\\\\raw_data\\\\images\\\\N218.xml', 'd:\\\\Develops\\\\ML_PROJECT\\\\Number_Plate_Recognition\\\\notebook\\\\src\\\\ANPR\\\\artifacts\\\\ingested_dir\\\\raw_data\\\\images\\\\N219.xml', 'd:\\\\Develops\\\\ML_PROJECT\\\\Number_Plate_Recognition\\\\notebook\\\\src\\\\ANPR\\\\artifacts\\\\ingested_dir\\\\raw_data\\\\images\\\\N22.xml', 'd:\\\\Develops\\\\ML_PROJECT\\\\Number_Plate_Recognition\\\\notebook\\\\src\\\\ANPR\\\\artifacts\\\\ingested_dir\\\\raw_data\\\\images\\\\N220.xml', 'd:\\\\Develops\\\\ML_PROJECT\\\\Number_Plate_Recognition\\\\notebook\\\\src\\\\ANPR\\\\artifacts\\\\ingested_dir\\\\raw_data\\\\images\\\\N221.xml', 'd:\\\\Develops\\\\ML_PROJECT\\\\Number_Plate_Recognition\\\\notebook\\\\src\\\\ANPR\\\\artifacts\\\\ingested_dir\\\\raw_data\\\\images\\\\N222.xml', 'd:\\\\Develops\\\\ML_PROJECT\\\\Number_Plate_Recognition\\\\notebook\\\\src\\\\ANPR\\\\artifacts\\\\ingested_dir\\\\raw_data\\\\images\\\\N223.xml', 'd:\\\\Develops\\\\ML_PROJECT\\\\Number_Plate_Recognition\\\\notebook\\\\src\\\\ANPR\\\\artifacts\\\\ingested_dir\\\\raw_data\\\\images\\\\N224.xml', 'd:\\\\Develops\\\\ML_PROJECT\\\\Number_Plate_Recognition\\\\notebook\\\\src\\\\ANPR\\\\artifacts\\\\ingested_dir\\\\raw_data\\\\images\\\\N225.xml', 'd:\\\\Develops\\\\ML_PROJECT\\\\Number_Plate_Recognition\\\\notebook\\\\src\\\\ANPR\\\\artifacts\\\\ingested_dir\\\\raw_data\\\\images\\\\N226.xml', 'd:\\\\Develops\\\\ML_PROJECT\\\\Number_Plate_Recognition\\\\notebook\\\\src\\\\ANPR\\\\artifacts\\\\ingested_dir\\\\raw_data\\\\images\\\\N227.xml', 'd:\\\\Develops\\\\ML_PROJECT\\\\Number_Plate_Recognition\\\\notebook\\\\src\\\\ANPR\\\\artifacts\\\\ingested_dir\\\\raw_data\\\\images\\\\N229.xml', 'd:\\\\Develops\\\\ML_PROJECT\\\\Number_Plate_Recognition\\\\notebook\\\\src\\\\ANPR\\\\artifacts\\\\ingested_dir\\\\raw_data\\\\images\\\\N23.xml', 'd:\\\\Develops\\\\ML_PROJECT\\\\Number_Plate_Recognition\\\\notebook\\\\src\\\\ANPR\\\\artifacts\\\\ingested_dir\\\\raw_data\\\\images\\\\N230.xml', 'd:\\\\Develops\\\\ML_PROJECT\\\\Number_Plate_Recognition\\\\notebook\\\\src\\\\ANPR\\\\artifacts\\\\ingested_dir\\\\raw_data\\\\images\\\\N231.xml', 'd:\\\\Develops\\\\ML_PROJECT\\\\Number_Plate_Recognition\\\\notebook\\\\src\\\\ANPR\\\\artifacts\\\\ingested_dir\\\\raw_data\\\\images\\\\N232.xml', 'd:\\\\Develops\\\\ML_PROJECT\\\\Number_Plate_Recognition\\\\notebook\\\\src\\\\ANPR\\\\artifacts\\\\ingested_dir\\\\raw_data\\\\images\\\\N233.xml', 'd:\\\\Develops\\\\ML_PROJECT\\\\Number_Plate_Recognition\\\\notebook\\\\src\\\\ANPR\\\\artifacts\\\\ingested_dir\\\\raw_data\\\\images\\\\N234.xml', 'd:\\\\Develops\\\\ML_PROJECT\\\\Number_Plate_Recognition\\\\notebook\\\\src\\\\ANPR\\\\artifacts\\\\ingested_dir\\\\raw_data\\\\images\\\\N235.xml', 'd:\\\\Develops\\\\ML_PROJECT\\\\Number_Plate_Recognition\\\\notebook\\\\src\\\\ANPR\\\\artifacts\\\\ingested_dir\\\\raw_data\\\\images\\\\N236.xml', 'd:\\\\Develops\\\\ML_PROJECT\\\\Number_Plate_Recognition\\\\notebook\\\\src\\\\ANPR\\\\artifacts\\\\ingested_dir\\\\raw_data\\\\images\\\\N237.xml', 'd:\\\\Develops\\\\ML_PROJECT\\\\Number_Plate_Recognition\\\\notebook\\\\src\\\\ANPR\\\\artifacts\\\\ingested_dir\\\\raw_data\\\\images\\\\N238.xml', 'd:\\\\Develops\\\\ML_PROJECT\\\\Number_Plate_Recognition\\\\notebook\\\\src\\\\ANPR\\\\artifacts\\\\ingested_dir\\\\raw_data\\\\images\\\\N239.xml', 'd:\\\\Develops\\\\ML_PROJECT\\\\Number_Plate_Recognition\\\\notebook\\\\src\\\\ANPR\\\\artifacts\\\\ingested_dir\\\\raw_data\\\\images\\\\N24.xml', 'd:\\\\Develops\\\\ML_PROJECT\\\\Number_Plate_Recognition\\\\notebook\\\\src\\\\ANPR\\\\artifacts\\\\ingested_dir\\\\raw_data\\\\images\\\\N240.xml', 'd:\\\\Develops\\\\ML_PROJECT\\\\Number_Plate_Recognition\\\\notebook\\\\src\\\\ANPR\\\\artifacts\\\\ingested_dir\\\\raw_data\\\\images\\\\N241.xml', 'd:\\\\Develops\\\\ML_PROJECT\\\\Number_Plate_Recognition\\\\notebook\\\\src\\\\ANPR\\\\artifacts\\\\ingested_dir\\\\raw_data\\\\images\\\\N242.xml', 'd:\\\\Develops\\\\ML_PROJECT\\\\Number_Plate_Recognition\\\\notebook\\\\src\\\\ANPR\\\\artifacts\\\\ingested_dir\\\\raw_data\\\\images\\\\N244.xml', 'd:\\\\Develops\\\\ML_PROJECT\\\\Number_Plate_Recognition\\\\notebook\\\\src\\\\ANPR\\\\artifacts\\\\ingested_dir\\\\raw_data\\\\images\\\\N245.xml', 'd:\\\\Develops\\\\ML_PROJECT\\\\Number_Plate_Recognition\\\\notebook\\\\src\\\\ANPR\\\\artifacts\\\\ingested_dir\\\\raw_data\\\\images\\\\N246.xml', 'd:\\\\Develops\\\\ML_PROJECT\\\\Number_Plate_Recognition\\\\notebook\\\\src\\\\ANPR\\\\artifacts\\\\ingested_dir\\\\raw_data\\\\images\\\\N247.xml', 'd:\\\\Develops\\\\ML_PROJECT\\\\Number_Plate_Recognition\\\\notebook\\\\src\\\\ANPR\\\\artifacts\\\\ingested_dir\\\\raw_data\\\\images\\\\N248.xml', 'd:\\\\Develops\\\\ML_PROJECT\\\\Number_Plate_Recognition\\\\notebook\\\\src\\\\ANPR\\\\artifacts\\\\ingested_dir\\\\raw_data\\\\images\\\\N25.xml', 'd:\\\\Develops\\\\ML_PROJECT\\\\Number_Plate_Recognition\\\\notebook\\\\src\\\\ANPR\\\\artifacts\\\\ingested_dir\\\\raw_data\\\\images\\\\N27.xml', 'd:\\\\Develops\\\\ML_PROJECT\\\\Number_Plate_Recognition\\\\notebook\\\\src\\\\ANPR\\\\artifacts\\\\ingested_dir\\\\raw_data\\\\images\\\\N28.xml', 'd:\\\\Develops\\\\ML_PROJECT\\\\Number_Plate_Recognition\\\\notebook\\\\src\\\\ANPR\\\\artifacts\\\\ingested_dir\\\\raw_data\\\\images\\\\N3.xml', 'd:\\\\Develops\\\\ML_PROJECT\\\\Number_Plate_Recognition\\\\notebook\\\\src\\\\ANPR\\\\artifacts\\\\ingested_dir\\\\raw_data\\\\images\\\\N30.xml', 'd:\\\\Develops\\\\ML_PROJECT\\\\Number_Plate_Recognition\\\\notebook\\\\src\\\\ANPR\\\\artifacts\\\\ingested_dir\\\\raw_data\\\\images\\\\N31.xml', 'd:\\\\Develops\\\\ML_PROJECT\\\\Number_Plate_Recognition\\\\notebook\\\\src\\\\ANPR\\\\artifacts\\\\ingested_dir\\\\raw_data\\\\images\\\\N32.xml', 'd:\\\\Develops\\\\ML_PROJECT\\\\Number_Plate_Recognition\\\\notebook\\\\src\\\\ANPR\\\\artifacts\\\\ingested_dir\\\\raw_data\\\\images\\\\N33.xml', 'd:\\\\Develops\\\\ML_PROJECT\\\\Number_Plate_Recognition\\\\notebook\\\\src\\\\ANPR\\\\artifacts\\\\ingested_dir\\\\raw_data\\\\images\\\\N34.xml', 'd:\\\\Develops\\\\ML_PROJECT\\\\Number_Plate_Recognition\\\\notebook\\\\src\\\\ANPR\\\\artifacts\\\\ingested_dir\\\\raw_data\\\\images\\\\N35.xml', 'd:\\\\Develops\\\\ML_PROJECT\\\\Number_Plate_Recognition\\\\notebook\\\\src\\\\ANPR\\\\artifacts\\\\ingested_dir\\\\raw_data\\\\images\\\\N36.xml', 'd:\\\\Develops\\\\ML_PROJECT\\\\Number_Plate_Recognition\\\\notebook\\\\src\\\\ANPR\\\\artifacts\\\\ingested_dir\\\\raw_data\\\\images\\\\N37.xml', 'd:\\\\Develops\\\\ML_PROJECT\\\\Number_Plate_Recognition\\\\notebook\\\\src\\\\ANPR\\\\artifacts\\\\ingested_dir\\\\raw_data\\\\images\\\\N38.xml', 'd:\\\\Develops\\\\ML_PROJECT\\\\Number_Plate_Recognition\\\\notebook\\\\src\\\\ANPR\\\\artifacts\\\\ingested_dir\\\\raw_data\\\\images\\\\N4.xml', 'd:\\\\Develops\\\\ML_PROJECT\\\\Number_Plate_Recognition\\\\notebook\\\\src\\\\ANPR\\\\artifacts\\\\ingested_dir\\\\raw_data\\\\images\\\\N40.xml', 'd:\\\\Develops\\\\ML_PROJECT\\\\Number_Plate_Recognition\\\\notebook\\\\src\\\\ANPR\\\\artifacts\\\\ingested_dir\\\\raw_data\\\\images\\\\N42.xml', 'd:\\\\Develops\\\\ML_PROJECT\\\\Number_Plate_Recognition\\\\notebook\\\\src\\\\ANPR\\\\artifacts\\\\ingested_dir\\\\raw_data\\\\images\\\\N43.xml', 'd:\\\\Develops\\\\ML_PROJECT\\\\Number_Plate_Recognition\\\\notebook\\\\src\\\\ANPR\\\\artifacts\\\\ingested_dir\\\\raw_data\\\\images\\\\N44.xml', 'd:\\\\Develops\\\\ML_PROJECT\\\\Number_Plate_Recognition\\\\notebook\\\\src\\\\ANPR\\\\artifacts\\\\ingested_dir\\\\raw_data\\\\images\\\\N45.xml', 'd:\\\\Develops\\\\ML_PROJECT\\\\Number_Plate_Recognition\\\\notebook\\\\src\\\\ANPR\\\\artifacts\\\\ingested_dir\\\\raw_data\\\\images\\\\N46.xml', 'd:\\\\Develops\\\\ML_PROJECT\\\\Number_Plate_Recognition\\\\notebook\\\\src\\\\ANPR\\\\artifacts\\\\ingested_dir\\\\raw_data\\\\images\\\\N47.xml', 'd:\\\\Develops\\\\ML_PROJECT\\\\Number_Plate_Recognition\\\\notebook\\\\src\\\\ANPR\\\\artifacts\\\\ingested_dir\\\\raw_data\\\\images\\\\N48.xml', 'd:\\\\Develops\\\\ML_PROJECT\\\\Number_Plate_Recognition\\\\notebook\\\\src\\\\ANPR\\\\artifacts\\\\ingested_dir\\\\raw_data\\\\images\\\\N49.xml', 'd:\\\\Develops\\\\ML_PROJECT\\\\Number_Plate_Recognition\\\\notebook\\\\src\\\\ANPR\\\\artifacts\\\\ingested_dir\\\\raw_data\\\\images\\\\N5.xml', 'd:\\\\Develops\\\\ML_PROJECT\\\\Number_Plate_Recognition\\\\notebook\\\\src\\\\ANPR\\\\artifacts\\\\ingested_dir\\\\raw_data\\\\images\\\\N50.xml', 'd:\\\\Develops\\\\ML_PROJECT\\\\Number_Plate_Recognition\\\\notebook\\\\src\\\\ANPR\\\\artifacts\\\\ingested_dir\\\\raw_data\\\\images\\\\N51.xml', 'd:\\\\Develops\\\\ML_PROJECT\\\\Number_Plate_Recognition\\\\notebook\\\\src\\\\ANPR\\\\artifacts\\\\ingested_dir\\\\raw_data\\\\images\\\\N52.xml', 'd:\\\\Develops\\\\ML_PROJECT\\\\Number_Plate_Recognition\\\\notebook\\\\src\\\\ANPR\\\\artifacts\\\\ingested_dir\\\\raw_data\\\\images\\\\N53.xml', 'd:\\\\Develops\\\\ML_PROJECT\\\\Number_Plate_Recognition\\\\notebook\\\\src\\\\ANPR\\\\artifacts\\\\ingested_dir\\\\raw_data\\\\images\\\\N54.xml', 'd:\\\\Develops\\\\ML_PROJECT\\\\Number_Plate_Recognition\\\\notebook\\\\src\\\\ANPR\\\\artifacts\\\\ingested_dir\\\\raw_data\\\\images\\\\N56.xml', 'd:\\\\Develops\\\\ML_PROJECT\\\\Number_Plate_Recognition\\\\notebook\\\\src\\\\ANPR\\\\artifacts\\\\ingested_dir\\\\raw_data\\\\images\\\\N57.xml', 'd:\\\\Develops\\\\ML_PROJECT\\\\Number_Plate_Recognition\\\\notebook\\\\src\\\\ANPR\\\\artifacts\\\\ingested_dir\\\\raw_data\\\\images\\\\N58.xml', 'd:\\\\Develops\\\\ML_PROJECT\\\\Number_Plate_Recognition\\\\notebook\\\\src\\\\ANPR\\\\artifacts\\\\ingested_dir\\\\raw_data\\\\images\\\\N59.xml', 'd:\\\\Develops\\\\ML_PROJECT\\\\Number_Plate_Recognition\\\\notebook\\\\src\\\\ANPR\\\\artifacts\\\\ingested_dir\\\\raw_data\\\\images\\\\N6.xml', 'd:\\\\Develops\\\\ML_PROJECT\\\\Number_Plate_Recognition\\\\notebook\\\\src\\\\ANPR\\\\artifacts\\\\ingested_dir\\\\raw_data\\\\images\\\\N61.xml', 'd:\\\\Develops\\\\ML_PROJECT\\\\Number_Plate_Recognition\\\\notebook\\\\src\\\\ANPR\\\\artifacts\\\\ingested_dir\\\\raw_data\\\\images\\\\N62.xml', 'd:\\\\Develops\\\\ML_PROJECT\\\\Number_Plate_Recognition\\\\notebook\\\\src\\\\ANPR\\\\artifacts\\\\ingested_dir\\\\raw_data\\\\images\\\\N63.xml', 'd:\\\\Develops\\\\ML_PROJECT\\\\Number_Plate_Recognition\\\\notebook\\\\src\\\\ANPR\\\\artifacts\\\\ingested_dir\\\\raw_data\\\\images\\\\N64.xml', 'd:\\\\Develops\\\\ML_PROJECT\\\\Number_Plate_Recognition\\\\notebook\\\\src\\\\ANPR\\\\artifacts\\\\ingested_dir\\\\raw_data\\\\images\\\\N65.xml', 'd:\\\\Develops\\\\ML_PROJECT\\\\Number_Plate_Recognition\\\\notebook\\\\src\\\\ANPR\\\\artifacts\\\\ingested_dir\\\\raw_data\\\\images\\\\N66.xml', 'd:\\\\Develops\\\\ML_PROJECT\\\\Number_Plate_Recognition\\\\notebook\\\\src\\\\ANPR\\\\artifacts\\\\ingested_dir\\\\raw_data\\\\images\\\\N67.xml', 'd:\\\\Develops\\\\ML_PROJECT\\\\Number_Plate_Recognition\\\\notebook\\\\src\\\\ANPR\\\\artifacts\\\\ingested_dir\\\\raw_data\\\\images\\\\N68.xml', 'd:\\\\Develops\\\\ML_PROJECT\\\\Number_Plate_Recognition\\\\notebook\\\\src\\\\ANPR\\\\artifacts\\\\ingested_dir\\\\raw_data\\\\images\\\\N69.xml', 'd:\\\\Develops\\\\ML_PROJECT\\\\Number_Plate_Recognition\\\\notebook\\\\src\\\\ANPR\\\\artifacts\\\\ingested_dir\\\\raw_data\\\\images\\\\N7.xml', 'd:\\\\Develops\\\\ML_PROJECT\\\\Number_Plate_Recognition\\\\notebook\\\\src\\\\ANPR\\\\artifacts\\\\ingested_dir\\\\raw_data\\\\images\\\\N70.xml', 'd:\\\\Develops\\\\ML_PROJECT\\\\Number_Plate_Recognition\\\\notebook\\\\src\\\\ANPR\\\\artifacts\\\\ingested_dir\\\\raw_data\\\\images\\\\N72.xml', 'd:\\\\Develops\\\\ML_PROJECT\\\\Number_Plate_Recognition\\\\notebook\\\\src\\\\ANPR\\\\artifacts\\\\ingested_dir\\\\raw_data\\\\images\\\\N73.xml', 'd:\\\\Develops\\\\ML_PROJECT\\\\Number_Plate_Recognition\\\\notebook\\\\src\\\\ANPR\\\\artifacts\\\\ingested_dir\\\\raw_data\\\\images\\\\N74.xml', 'd:\\\\Develops\\\\ML_PROJECT\\\\Number_Plate_Recognition\\\\notebook\\\\src\\\\ANPR\\\\artifacts\\\\ingested_dir\\\\raw_data\\\\images\\\\N75.xml', 'd:\\\\Develops\\\\ML_PROJECT\\\\Number_Plate_Recognition\\\\notebook\\\\src\\\\ANPR\\\\artifacts\\\\ingested_dir\\\\raw_data\\\\images\\\\N77.xml', 'd:\\\\Develops\\\\ML_PROJECT\\\\Number_Plate_Recognition\\\\notebook\\\\src\\\\ANPR\\\\artifacts\\\\ingested_dir\\\\raw_data\\\\images\\\\N78.xml', 'd:\\\\Develops\\\\ML_PROJECT\\\\Number_Plate_Recognition\\\\notebook\\\\src\\\\ANPR\\\\artifacts\\\\ingested_dir\\\\raw_data\\\\images\\\\N79.xml', 'd:\\\\Develops\\\\ML_PROJECT\\\\Number_Plate_Recognition\\\\notebook\\\\src\\\\ANPR\\\\artifacts\\\\ingested_dir\\\\raw_data\\\\images\\\\N8.xml', 'd:\\\\Develops\\\\ML_PROJECT\\\\Number_Plate_Recognition\\\\notebook\\\\src\\\\ANPR\\\\artifacts\\\\ingested_dir\\\\raw_data\\\\images\\\\N80.xml', 'd:\\\\Develops\\\\ML_PROJECT\\\\Number_Plate_Recognition\\\\notebook\\\\src\\\\ANPR\\\\artifacts\\\\ingested_dir\\\\raw_data\\\\images\\\\N81.xml', 'd:\\\\Develops\\\\ML_PROJECT\\\\Number_Plate_Recognition\\\\notebook\\\\src\\\\ANPR\\\\artifacts\\\\ingested_dir\\\\raw_data\\\\images\\\\N82.xml', 'd:\\\\Develops\\\\ML_PROJECT\\\\Number_Plate_Recognition\\\\notebook\\\\src\\\\ANPR\\\\artifacts\\\\ingested_dir\\\\raw_data\\\\images\\\\N84.xml', 'd:\\\\Develops\\\\ML_PROJECT\\\\Number_Plate_Recognition\\\\notebook\\\\src\\\\ANPR\\\\artifacts\\\\ingested_dir\\\\raw_data\\\\images\\\\N85.xml', 'd:\\\\Develops\\\\ML_PROJECT\\\\Number_Plate_Recognition\\\\notebook\\\\src\\\\ANPR\\\\artifacts\\\\ingested_dir\\\\raw_data\\\\images\\\\N86.xml', 'd:\\\\Develops\\\\ML_PROJECT\\\\Number_Plate_Recognition\\\\notebook\\\\src\\\\ANPR\\\\artifacts\\\\ingested_dir\\\\raw_data\\\\images\\\\N88.xml', 'd:\\\\Develops\\\\ML_PROJECT\\\\Number_Plate_Recognition\\\\notebook\\\\src\\\\ANPR\\\\artifacts\\\\ingested_dir\\\\raw_data\\\\images\\\\N89.xml', 'd:\\\\Develops\\\\ML_PROJECT\\\\Number_Plate_Recognition\\\\notebook\\\\src\\\\ANPR\\\\artifacts\\\\ingested_dir\\\\raw_data\\\\images\\\\N9.xml', 'd:\\\\Develops\\\\ML_PROJECT\\\\Number_Plate_Recognition\\\\notebook\\\\src\\\\ANPR\\\\artifacts\\\\ingested_dir\\\\raw_data\\\\images\\\\N90.xml', 'd:\\\\Develops\\\\ML_PROJECT\\\\Number_Plate_Recognition\\\\notebook\\\\src\\\\ANPR\\\\artifacts\\\\ingested_dir\\\\raw_data\\\\images\\\\N91.xml', 'd:\\\\Develops\\\\ML_PROJECT\\\\Number_Plate_Recognition\\\\notebook\\\\src\\\\ANPR\\\\artifacts\\\\ingested_dir\\\\raw_data\\\\images\\\\N92.xml', 'd:\\\\Develops\\\\ML_PROJECT\\\\Number_Plate_Recognition\\\\notebook\\\\src\\\\ANPR\\\\artifacts\\\\ingested_dir\\\\raw_data\\\\images\\\\N93.xml', 'd:\\\\Develops\\\\ML_PROJECT\\\\Number_Plate_Recognition\\\\notebook\\\\src\\\\ANPR\\\\artifacts\\\\ingested_dir\\\\raw_data\\\\images\\\\N94.xml', 'd:\\\\Develops\\\\ML_PROJECT\\\\Number_Plate_Recognition\\\\notebook\\\\src\\\\ANPR\\\\artifacts\\\\ingested_dir\\\\raw_data\\\\images\\\\N95.xml', 'd:\\\\Develops\\\\ML_PROJECT\\\\Number_Plate_Recognition\\\\notebook\\\\src\\\\ANPR\\\\artifacts\\\\ingested_dir\\\\raw_data\\\\images\\\\N96.xml', 'd:\\\\Develops\\\\ML_PROJECT\\\\Number_Plate_Recognition\\\\notebook\\\\src\\\\ANPR\\\\artifacts\\\\ingested_dir\\\\raw_data\\\\images\\\\N97.xml', 'd:\\\\Develops\\\\ML_PROJECT\\\\Number_Plate_Recognition\\\\notebook\\\\src\\\\ANPR\\\\artifacts\\\\ingested_dir\\\\raw_data\\\\images\\\\N98.xml', 'd:\\\\Develops\\\\ML_PROJECT\\\\Number_Plate_Recognition\\\\notebook\\\\src\\\\ANPR\\\\artifacts\\\\ingested_dir\\\\raw_data\\\\images\\\\N99.xml']\n"
     ]
    },
    {
     "data": {
      "text/html": [
       "<div>\n",
       "<style scoped>\n",
       "    .dataframe tbody tr th:only-of-type {\n",
       "        vertical-align: middle;\n",
       "    }\n",
       "\n",
       "    .dataframe tbody tr th {\n",
       "        vertical-align: top;\n",
       "    }\n",
       "\n",
       "    .dataframe thead th {\n",
       "        text-align: right;\n",
       "    }\n",
       "</style>\n",
       "<table border=\"1\" class=\"dataframe\">\n",
       "  <thead>\n",
       "    <tr style=\"text-align: right;\">\n",
       "      <th></th>\n",
       "      <th>filepath</th>\n",
       "      <th>xmin</th>\n",
       "      <th>xmax</th>\n",
       "      <th>ymin</th>\n",
       "      <th>ymax</th>\n",
       "    </tr>\n",
       "  </thead>\n",
       "  <tbody>\n",
       "    <tr>\n",
       "      <th>0</th>\n",
       "      <td>d:\\Develops\\ML_PROJECT\\Number_Plate_Recognitio...</td>\n",
       "      <td>1093</td>\n",
       "      <td>1396</td>\n",
       "      <td>645</td>\n",
       "      <td>727</td>\n",
       "    </tr>\n",
       "    <tr>\n",
       "      <th>1</th>\n",
       "      <td>d:\\Develops\\ML_PROJECT\\Number_Plate_Recognitio...</td>\n",
       "      <td>134</td>\n",
       "      <td>301</td>\n",
       "      <td>312</td>\n",
       "      <td>350</td>\n",
       "    </tr>\n",
       "    <tr>\n",
       "      <th>2</th>\n",
       "      <td>d:\\Develops\\ML_PROJECT\\Number_Plate_Recognitio...</td>\n",
       "      <td>31</td>\n",
       "      <td>139</td>\n",
       "      <td>128</td>\n",
       "      <td>161</td>\n",
       "    </tr>\n",
       "    <tr>\n",
       "      <th>3</th>\n",
       "      <td>d:\\Develops\\ML_PROJECT\\Number_Plate_Recognitio...</td>\n",
       "      <td>164</td>\n",
       "      <td>316</td>\n",
       "      <td>216</td>\n",
       "      <td>243</td>\n",
       "    </tr>\n",
       "    <tr>\n",
       "      <th>4</th>\n",
       "      <td>d:\\Develops\\ML_PROJECT\\Number_Plate_Recognitio...</td>\n",
       "      <td>813</td>\n",
       "      <td>1067</td>\n",
       "      <td>665</td>\n",
       "      <td>724</td>\n",
       "    </tr>\n",
       "    <tr>\n",
       "      <th>...</th>\n",
       "      <td>...</td>\n",
       "      <td>...</td>\n",
       "      <td>...</td>\n",
       "      <td>...</td>\n",
       "      <td>...</td>\n",
       "    </tr>\n",
       "    <tr>\n",
       "      <th>220</th>\n",
       "      <td>d:\\Develops\\ML_PROJECT\\Number_Plate_Recognitio...</td>\n",
       "      <td>23</td>\n",
       "      <td>408</td>\n",
       "      <td>173</td>\n",
       "      <td>391</td>\n",
       "    </tr>\n",
       "    <tr>\n",
       "      <th>221</th>\n",
       "      <td>d:\\Develops\\ML_PROJECT\\Number_Plate_Recognitio...</td>\n",
       "      <td>137</td>\n",
       "      <td>352</td>\n",
       "      <td>141</td>\n",
       "      <td>186</td>\n",
       "    </tr>\n",
       "    <tr>\n",
       "      <th>222</th>\n",
       "      <td>d:\\Develops\\ML_PROJECT\\Number_Plate_Recognitio...</td>\n",
       "      <td>175</td>\n",
       "      <td>290</td>\n",
       "      <td>228</td>\n",
       "      <td>255</td>\n",
       "    </tr>\n",
       "    <tr>\n",
       "      <th>223</th>\n",
       "      <td>d:\\Develops\\ML_PROJECT\\Number_Plate_Recognitio...</td>\n",
       "      <td>563</td>\n",
       "      <td>675</td>\n",
       "      <td>207</td>\n",
       "      <td>238</td>\n",
       "    </tr>\n",
       "    <tr>\n",
       "      <th>224</th>\n",
       "      <td>d:\\Develops\\ML_PROJECT\\Number_Plate_Recognitio...</td>\n",
       "      <td>158</td>\n",
       "      <td>389</td>\n",
       "      <td>129</td>\n",
       "      <td>193</td>\n",
       "    </tr>\n",
       "  </tbody>\n",
       "</table>\n",
       "<p>225 rows × 5 columns</p>\n",
       "</div>"
      ],
      "text/plain": [
       "                                              filepath  xmin  xmax  ymin  ymax\n",
       "0    d:\\Develops\\ML_PROJECT\\Number_Plate_Recognitio...  1093  1396   645   727\n",
       "1    d:\\Develops\\ML_PROJECT\\Number_Plate_Recognitio...   134   301   312   350\n",
       "2    d:\\Develops\\ML_PROJECT\\Number_Plate_Recognitio...    31   139   128   161\n",
       "3    d:\\Develops\\ML_PROJECT\\Number_Plate_Recognitio...   164   316   216   243\n",
       "4    d:\\Develops\\ML_PROJECT\\Number_Plate_Recognitio...   813  1067   665   724\n",
       "..                                                 ...   ...   ...   ...   ...\n",
       "220  d:\\Develops\\ML_PROJECT\\Number_Plate_Recognitio...    23   408   173   391\n",
       "221  d:\\Develops\\ML_PROJECT\\Number_Plate_Recognitio...   137   352   141   186\n",
       "222  d:\\Develops\\ML_PROJECT\\Number_Plate_Recognitio...   175   290   228   255\n",
       "223  d:\\Develops\\ML_PROJECT\\Number_Plate_Recognitio...   563   675   207   238\n",
       "224  d:\\Develops\\ML_PROJECT\\Number_Plate_Recognitio...   158   389   129   193\n",
       "\n",
       "[225 rows x 5 columns]"
      ]
     },
     "execution_count": 11,
     "metadata": {},
     "output_type": "execute_result"
    }
   ],
   "source": [
    "get_bounding_box_coordinates()"
   ]
  },
  {
   "cell_type": "code",
   "execution_count": null,
   "metadata": {},
   "outputs": [
    {
     "name": "stdout",
     "output_type": "stream",
     "text": [
      "[]\n"
     ]
    },
    {
     "data": {
      "text/html": [
       "<div>\n",
       "<style scoped>\n",
       "    .dataframe tbody tr th:only-of-type {\n",
       "        vertical-align: middle;\n",
       "    }\n",
       "\n",
       "    .dataframe tbody tr th {\n",
       "        vertical-align: top;\n",
       "    }\n",
       "\n",
       "    .dataframe thead th {\n",
       "        text-align: right;\n",
       "    }\n",
       "</style>\n",
       "<table border=\"1\" class=\"dataframe\">\n",
       "  <thead>\n",
       "    <tr style=\"text-align: right;\">\n",
       "      <th></th>\n",
       "      <th>filepath</th>\n",
       "      <th>xmin</th>\n",
       "      <th>xmax</th>\n",
       "      <th>ymin</th>\n",
       "      <th>ymax</th>\n",
       "    </tr>\n",
       "  </thead>\n",
       "  <tbody>\n",
       "  </tbody>\n",
       "</table>\n",
       "</div>"
      ],
      "text/plain": [
       "Empty DataFrame\n",
       "Columns: [filepath, xmin, xmax, ymin, ymax]\n",
       "Index: []"
      ]
     },
     "execution_count": 23,
     "metadata": {},
     "output_type": "execute_result"
    }
   ],
   "source": [
    "# data_tranfomation.get_bounding_box_coordinates()"
   ]
  },
  {
   "cell_type": "code",
   "execution_count": 4,
   "metadata": {},
   "outputs": [],
   "source": [
    "CONFIG_FILE_PATH = \"D:/Develops/ML_PROJECT/Number_Plate_Recognition/config/config.yaml\""
   ]
  },
  {
   "cell_type": "code",
   "execution_count": 5,
   "metadata": {},
   "outputs": [],
   "source": [
    "config_info = read_yaml(config_file_path=CONFIG_FILE_PATH)"
   ]
  },
  {
   "cell_type": "code",
   "execution_count": 6,
   "metadata": {},
   "outputs": [],
   "source": [
    "data_transformation_config = config_info[DATA_TRANSFORMATION_CONFIG]"
   ]
  },
  {
   "cell_type": "code",
   "execution_count": 7,
   "metadata": {},
   "outputs": [
    {
     "data": {
      "text/plain": [
       "{'data_transformation_artifact_dir': 'data_transformation',\n",
       " 'labeled_dataframe': 'labels.csv',\n",
       " 'transformed_data': 'data.npy',\n",
       " 'transformed_output': 'output.npy'}"
      ]
     },
     "execution_count": 7,
     "metadata": {},
     "output_type": "execute_result"
    }
   ],
   "source": [
    "data_transformation_config"
   ]
  },
  {
   "cell_type": "code",
   "execution_count": 13,
   "metadata": {},
   "outputs": [],
   "source": [
    "#DataIngestionConfig()"
   ]
  },
  {
   "cell_type": "code",
   "execution_count": 12,
   "metadata": {},
   "outputs": [],
   "source": [
    "data_ingestion_config = Configuration(config_file_path=CONFIG_FILE_PATH)"
   ]
  },
  {
   "cell_type": "code",
   "execution_count": 13,
   "metadata": {},
   "outputs": [],
   "source": [
    "data_ingestion_artifacts = data_ingestion_config.get_data_ingestion_artifacts()"
   ]
  },
  {
   "cell_type": "code",
   "execution_count": 14,
   "metadata": {},
   "outputs": [
    {
     "data": {
      "text/plain": [
       "DataIngestionArtifacts(image_data_dir='d:\\\\Develops\\\\ML_PROJECT\\\\Number_Plate_Recognition\\\\notebook\\\\src\\\\ANPR\\\\artifacts\\\\ingested_dir\\\\raw_data\\\\images')"
      ]
     },
     "execution_count": 14,
     "metadata": {},
     "output_type": "execute_result"
    }
   ],
   "source": [
    "data_ingestion_artifacts"
   ]
  },
  {
   "cell_type": "code",
   "execution_count": 15,
   "metadata": {},
   "outputs": [
    {
     "data": {
      "text/plain": [
       "'d:\\\\Develops\\\\ML_PROJECT\\\\Number_Plate_Recognition\\\\notebook\\\\src\\\\ANPR\\\\artifacts\\\\data_transformation'"
      ]
     },
     "execution_count": 15,
     "metadata": {},
     "output_type": "execute_result"
    }
   ],
   "source": [
    "data_ingestion_config.data_transformation_config().data_transformation_artifact_dir"
   ]
  },
  {
   "cell_type": "code",
   "execution_count": 16,
   "metadata": {},
   "outputs": [],
   "source": [
    "labels_file_dir = os.path.join(data_ingestion_config.data_transformation_config().data_transformation_artifact_dir, data_ingestion_config.data_transformation_config().labeled_dataframe)"
   ]
  },
  {
   "cell_type": "code",
   "execution_count": 17,
   "metadata": {},
   "outputs": [
    {
     "data": {
      "text/plain": [
       "'d:\\\\Develops\\\\ML_PROJECT\\\\Number_Plate_Recognition\\\\notebook\\\\src\\\\ANPR\\\\artifacts\\\\data_transformation\\\\labels.csv'"
      ]
     },
     "execution_count": 17,
     "metadata": {},
     "output_type": "execute_result"
    }
   ],
   "source": [
    "labels_file_dir"
   ]
  },
  {
   "cell_type": "code",
   "execution_count": 18,
   "metadata": {},
   "outputs": [],
   "source": [
    "def get_filename_from_XML(filename) :\n",
    "    image_filename = ET.parse(filename).getroot().find(\"source\").text\n",
    "    print(image_filename)"
   ]
  },
  {
   "cell_type": "code",
   "execution_count": null,
   "metadata": {},
   "outputs": [],
   "source": []
  },
  {
   "cell_type": "code",
   "execution_count": 19,
   "metadata": {},
   "outputs": [
    {
     "name": "stdout",
     "output_type": "stream",
     "text": [
      "['d:\\\\Develops\\\\ML_PROJECT\\\\Number_Plate_Recognition\\\\notebook\\\\src\\\\ANPR\\\\artifacts\\\\ingested_dir\\\\raw_data\\\\images\\\\N1.xml', 'd:\\\\Develops\\\\ML_PROJECT\\\\Number_Plate_Recognition\\\\notebook\\\\src\\\\ANPR\\\\artifacts\\\\ingested_dir\\\\raw_data\\\\images\\\\N100.xml', 'd:\\\\Develops\\\\ML_PROJECT\\\\Number_Plate_Recognition\\\\notebook\\\\src\\\\ANPR\\\\artifacts\\\\ingested_dir\\\\raw_data\\\\images\\\\N101.xml', 'd:\\\\Develops\\\\ML_PROJECT\\\\Number_Plate_Recognition\\\\notebook\\\\src\\\\ANPR\\\\artifacts\\\\ingested_dir\\\\raw_data\\\\images\\\\N102.xml', 'd:\\\\Develops\\\\ML_PROJECT\\\\Number_Plate_Recognition\\\\notebook\\\\src\\\\ANPR\\\\artifacts\\\\ingested_dir\\\\raw_data\\\\images\\\\N103.xml', 'd:\\\\Develops\\\\ML_PROJECT\\\\Number_Plate_Recognition\\\\notebook\\\\src\\\\ANPR\\\\artifacts\\\\ingested_dir\\\\raw_data\\\\images\\\\N104.xml', 'd:\\\\Develops\\\\ML_PROJECT\\\\Number_Plate_Recognition\\\\notebook\\\\src\\\\ANPR\\\\artifacts\\\\ingested_dir\\\\raw_data\\\\images\\\\N105.xml', 'd:\\\\Develops\\\\ML_PROJECT\\\\Number_Plate_Recognition\\\\notebook\\\\src\\\\ANPR\\\\artifacts\\\\ingested_dir\\\\raw_data\\\\images\\\\N106.xml', 'd:\\\\Develops\\\\ML_PROJECT\\\\Number_Plate_Recognition\\\\notebook\\\\src\\\\ANPR\\\\artifacts\\\\ingested_dir\\\\raw_data\\\\images\\\\N107.xml', 'd:\\\\Develops\\\\ML_PROJECT\\\\Number_Plate_Recognition\\\\notebook\\\\src\\\\ANPR\\\\artifacts\\\\ingested_dir\\\\raw_data\\\\images\\\\N108.xml', 'd:\\\\Develops\\\\ML_PROJECT\\\\Number_Plate_Recognition\\\\notebook\\\\src\\\\ANPR\\\\artifacts\\\\ingested_dir\\\\raw_data\\\\images\\\\N109.xml', 'd:\\\\Develops\\\\ML_PROJECT\\\\Number_Plate_Recognition\\\\notebook\\\\src\\\\ANPR\\\\artifacts\\\\ingested_dir\\\\raw_data\\\\images\\\\N11.xml', 'd:\\\\Develops\\\\ML_PROJECT\\\\Number_Plate_Recognition\\\\notebook\\\\src\\\\ANPR\\\\artifacts\\\\ingested_dir\\\\raw_data\\\\images\\\\N110.xml', 'd:\\\\Develops\\\\ML_PROJECT\\\\Number_Plate_Recognition\\\\notebook\\\\src\\\\ANPR\\\\artifacts\\\\ingested_dir\\\\raw_data\\\\images\\\\N111.xml', 'd:\\\\Develops\\\\ML_PROJECT\\\\Number_Plate_Recognition\\\\notebook\\\\src\\\\ANPR\\\\artifacts\\\\ingested_dir\\\\raw_data\\\\images\\\\N112.xml', 'd:\\\\Develops\\\\ML_PROJECT\\\\Number_Plate_Recognition\\\\notebook\\\\src\\\\ANPR\\\\artifacts\\\\ingested_dir\\\\raw_data\\\\images\\\\N113.xml', 'd:\\\\Develops\\\\ML_PROJECT\\\\Number_Plate_Recognition\\\\notebook\\\\src\\\\ANPR\\\\artifacts\\\\ingested_dir\\\\raw_data\\\\images\\\\N114.xml', 'd:\\\\Develops\\\\ML_PROJECT\\\\Number_Plate_Recognition\\\\notebook\\\\src\\\\ANPR\\\\artifacts\\\\ingested_dir\\\\raw_data\\\\images\\\\N116.xml', 'd:\\\\Develops\\\\ML_PROJECT\\\\Number_Plate_Recognition\\\\notebook\\\\src\\\\ANPR\\\\artifacts\\\\ingested_dir\\\\raw_data\\\\images\\\\N117.xml', 'd:\\\\Develops\\\\ML_PROJECT\\\\Number_Plate_Recognition\\\\notebook\\\\src\\\\ANPR\\\\artifacts\\\\ingested_dir\\\\raw_data\\\\images\\\\N118.xml', 'd:\\\\Develops\\\\ML_PROJECT\\\\Number_Plate_Recognition\\\\notebook\\\\src\\\\ANPR\\\\artifacts\\\\ingested_dir\\\\raw_data\\\\images\\\\N119.xml', 'd:\\\\Develops\\\\ML_PROJECT\\\\Number_Plate_Recognition\\\\notebook\\\\src\\\\ANPR\\\\artifacts\\\\ingested_dir\\\\raw_data\\\\images\\\\N12.xml', 'd:\\\\Develops\\\\ML_PROJECT\\\\Number_Plate_Recognition\\\\notebook\\\\src\\\\ANPR\\\\artifacts\\\\ingested_dir\\\\raw_data\\\\images\\\\N120.xml', 'd:\\\\Develops\\\\ML_PROJECT\\\\Number_Plate_Recognition\\\\notebook\\\\src\\\\ANPR\\\\artifacts\\\\ingested_dir\\\\raw_data\\\\images\\\\N121.xml', 'd:\\\\Develops\\\\ML_PROJECT\\\\Number_Plate_Recognition\\\\notebook\\\\src\\\\ANPR\\\\artifacts\\\\ingested_dir\\\\raw_data\\\\images\\\\N122.xml', 'd:\\\\Develops\\\\ML_PROJECT\\\\Number_Plate_Recognition\\\\notebook\\\\src\\\\ANPR\\\\artifacts\\\\ingested_dir\\\\raw_data\\\\images\\\\N123.xml', 'd:\\\\Develops\\\\ML_PROJECT\\\\Number_Plate_Recognition\\\\notebook\\\\src\\\\ANPR\\\\artifacts\\\\ingested_dir\\\\raw_data\\\\images\\\\N124.xml', 'd:\\\\Develops\\\\ML_PROJECT\\\\Number_Plate_Recognition\\\\notebook\\\\src\\\\ANPR\\\\artifacts\\\\ingested_dir\\\\raw_data\\\\images\\\\N126.xml', 'd:\\\\Develops\\\\ML_PROJECT\\\\Number_Plate_Recognition\\\\notebook\\\\src\\\\ANPR\\\\artifacts\\\\ingested_dir\\\\raw_data\\\\images\\\\N127.xml', 'd:\\\\Develops\\\\ML_PROJECT\\\\Number_Plate_Recognition\\\\notebook\\\\src\\\\ANPR\\\\artifacts\\\\ingested_dir\\\\raw_data\\\\images\\\\N128.xml', 'd:\\\\Develops\\\\ML_PROJECT\\\\Number_Plate_Recognition\\\\notebook\\\\src\\\\ANPR\\\\artifacts\\\\ingested_dir\\\\raw_data\\\\images\\\\N129.xml', 'd:\\\\Develops\\\\ML_PROJECT\\\\Number_Plate_Recognition\\\\notebook\\\\src\\\\ANPR\\\\artifacts\\\\ingested_dir\\\\raw_data\\\\images\\\\N130.xml', 'd:\\\\Develops\\\\ML_PROJECT\\\\Number_Plate_Recognition\\\\notebook\\\\src\\\\ANPR\\\\artifacts\\\\ingested_dir\\\\raw_data\\\\images\\\\N131.xml', 'd:\\\\Develops\\\\ML_PROJECT\\\\Number_Plate_Recognition\\\\notebook\\\\src\\\\ANPR\\\\artifacts\\\\ingested_dir\\\\raw_data\\\\images\\\\N132.xml', 'd:\\\\Develops\\\\ML_PROJECT\\\\Number_Plate_Recognition\\\\notebook\\\\src\\\\ANPR\\\\artifacts\\\\ingested_dir\\\\raw_data\\\\images\\\\N133.xml', 'd:\\\\Develops\\\\ML_PROJECT\\\\Number_Plate_Recognition\\\\notebook\\\\src\\\\ANPR\\\\artifacts\\\\ingested_dir\\\\raw_data\\\\images\\\\N134.xml', 'd:\\\\Develops\\\\ML_PROJECT\\\\Number_Plate_Recognition\\\\notebook\\\\src\\\\ANPR\\\\artifacts\\\\ingested_dir\\\\raw_data\\\\images\\\\N135.xml', 'd:\\\\Develops\\\\ML_PROJECT\\\\Number_Plate_Recognition\\\\notebook\\\\src\\\\ANPR\\\\artifacts\\\\ingested_dir\\\\raw_data\\\\images\\\\N136.xml', 'd:\\\\Develops\\\\ML_PROJECT\\\\Number_Plate_Recognition\\\\notebook\\\\src\\\\ANPR\\\\artifacts\\\\ingested_dir\\\\raw_data\\\\images\\\\N137.xml', 'd:\\\\Develops\\\\ML_PROJECT\\\\Number_Plate_Recognition\\\\notebook\\\\src\\\\ANPR\\\\artifacts\\\\ingested_dir\\\\raw_data\\\\images\\\\N138.xml', 'd:\\\\Develops\\\\ML_PROJECT\\\\Number_Plate_Recognition\\\\notebook\\\\src\\\\ANPR\\\\artifacts\\\\ingested_dir\\\\raw_data\\\\images\\\\N139.xml', 'd:\\\\Develops\\\\ML_PROJECT\\\\Number_Plate_Recognition\\\\notebook\\\\src\\\\ANPR\\\\artifacts\\\\ingested_dir\\\\raw_data\\\\images\\\\N14.xml', 'd:\\\\Develops\\\\ML_PROJECT\\\\Number_Plate_Recognition\\\\notebook\\\\src\\\\ANPR\\\\artifacts\\\\ingested_dir\\\\raw_data\\\\images\\\\N140.xml', 'd:\\\\Develops\\\\ML_PROJECT\\\\Number_Plate_Recognition\\\\notebook\\\\src\\\\ANPR\\\\artifacts\\\\ingested_dir\\\\raw_data\\\\images\\\\N141.xml', 'd:\\\\Develops\\\\ML_PROJECT\\\\Number_Plate_Recognition\\\\notebook\\\\src\\\\ANPR\\\\artifacts\\\\ingested_dir\\\\raw_data\\\\images\\\\N142.xml', 'd:\\\\Develops\\\\ML_PROJECT\\\\Number_Plate_Recognition\\\\notebook\\\\src\\\\ANPR\\\\artifacts\\\\ingested_dir\\\\raw_data\\\\images\\\\N143.xml', 'd:\\\\Develops\\\\ML_PROJECT\\\\Number_Plate_Recognition\\\\notebook\\\\src\\\\ANPR\\\\artifacts\\\\ingested_dir\\\\raw_data\\\\images\\\\N144.xml', 'd:\\\\Develops\\\\ML_PROJECT\\\\Number_Plate_Recognition\\\\notebook\\\\src\\\\ANPR\\\\artifacts\\\\ingested_dir\\\\raw_data\\\\images\\\\N145.xml', 'd:\\\\Develops\\\\ML_PROJECT\\\\Number_Plate_Recognition\\\\notebook\\\\src\\\\ANPR\\\\artifacts\\\\ingested_dir\\\\raw_data\\\\images\\\\N147.xml', 'd:\\\\Develops\\\\ML_PROJECT\\\\Number_Plate_Recognition\\\\notebook\\\\src\\\\ANPR\\\\artifacts\\\\ingested_dir\\\\raw_data\\\\images\\\\N148.xml', 'd:\\\\Develops\\\\ML_PROJECT\\\\Number_Plate_Recognition\\\\notebook\\\\src\\\\ANPR\\\\artifacts\\\\ingested_dir\\\\raw_data\\\\images\\\\N149.xml', 'd:\\\\Develops\\\\ML_PROJECT\\\\Number_Plate_Recognition\\\\notebook\\\\src\\\\ANPR\\\\artifacts\\\\ingested_dir\\\\raw_data\\\\images\\\\N15.xml', 'd:\\\\Develops\\\\ML_PROJECT\\\\Number_Plate_Recognition\\\\notebook\\\\src\\\\ANPR\\\\artifacts\\\\ingested_dir\\\\raw_data\\\\images\\\\N150.xml', 'd:\\\\Develops\\\\ML_PROJECT\\\\Number_Plate_Recognition\\\\notebook\\\\src\\\\ANPR\\\\artifacts\\\\ingested_dir\\\\raw_data\\\\images\\\\N151.xml', 'd:\\\\Develops\\\\ML_PROJECT\\\\Number_Plate_Recognition\\\\notebook\\\\src\\\\ANPR\\\\artifacts\\\\ingested_dir\\\\raw_data\\\\images\\\\N152.xml', 'd:\\\\Develops\\\\ML_PROJECT\\\\Number_Plate_Recognition\\\\notebook\\\\src\\\\ANPR\\\\artifacts\\\\ingested_dir\\\\raw_data\\\\images\\\\N153.xml', 'd:\\\\Develops\\\\ML_PROJECT\\\\Number_Plate_Recognition\\\\notebook\\\\src\\\\ANPR\\\\artifacts\\\\ingested_dir\\\\raw_data\\\\images\\\\N154.xml', 'd:\\\\Develops\\\\ML_PROJECT\\\\Number_Plate_Recognition\\\\notebook\\\\src\\\\ANPR\\\\artifacts\\\\ingested_dir\\\\raw_data\\\\images\\\\N155.xml', 'd:\\\\Develops\\\\ML_PROJECT\\\\Number_Plate_Recognition\\\\notebook\\\\src\\\\ANPR\\\\artifacts\\\\ingested_dir\\\\raw_data\\\\images\\\\N156.xml', 'd:\\\\Develops\\\\ML_PROJECT\\\\Number_Plate_Recognition\\\\notebook\\\\src\\\\ANPR\\\\artifacts\\\\ingested_dir\\\\raw_data\\\\images\\\\N158.xml', 'd:\\\\Develops\\\\ML_PROJECT\\\\Number_Plate_Recognition\\\\notebook\\\\src\\\\ANPR\\\\artifacts\\\\ingested_dir\\\\raw_data\\\\images\\\\N16.xml', 'd:\\\\Develops\\\\ML_PROJECT\\\\Number_Plate_Recognition\\\\notebook\\\\src\\\\ANPR\\\\artifacts\\\\ingested_dir\\\\raw_data\\\\images\\\\N160.xml', 'd:\\\\Develops\\\\ML_PROJECT\\\\Number_Plate_Recognition\\\\notebook\\\\src\\\\ANPR\\\\artifacts\\\\ingested_dir\\\\raw_data\\\\images\\\\N162.xml', 'd:\\\\Develops\\\\ML_PROJECT\\\\Number_Plate_Recognition\\\\notebook\\\\src\\\\ANPR\\\\artifacts\\\\ingested_dir\\\\raw_data\\\\images\\\\N163.xml', 'd:\\\\Develops\\\\ML_PROJECT\\\\Number_Plate_Recognition\\\\notebook\\\\src\\\\ANPR\\\\artifacts\\\\ingested_dir\\\\raw_data\\\\images\\\\N164.xml', 'd:\\\\Develops\\\\ML_PROJECT\\\\Number_Plate_Recognition\\\\notebook\\\\src\\\\ANPR\\\\artifacts\\\\ingested_dir\\\\raw_data\\\\images\\\\N165.xml', 'd:\\\\Develops\\\\ML_PROJECT\\\\Number_Plate_Recognition\\\\notebook\\\\src\\\\ANPR\\\\artifacts\\\\ingested_dir\\\\raw_data\\\\images\\\\N166.xml', 'd:\\\\Develops\\\\ML_PROJECT\\\\Number_Plate_Recognition\\\\notebook\\\\src\\\\ANPR\\\\artifacts\\\\ingested_dir\\\\raw_data\\\\images\\\\N167.xml', 'd:\\\\Develops\\\\ML_PROJECT\\\\Number_Plate_Recognition\\\\notebook\\\\src\\\\ANPR\\\\artifacts\\\\ingested_dir\\\\raw_data\\\\images\\\\N168.xml', 'd:\\\\Develops\\\\ML_PROJECT\\\\Number_Plate_Recognition\\\\notebook\\\\src\\\\ANPR\\\\artifacts\\\\ingested_dir\\\\raw_data\\\\images\\\\N169.xml', 'd:\\\\Develops\\\\ML_PROJECT\\\\Number_Plate_Recognition\\\\notebook\\\\src\\\\ANPR\\\\artifacts\\\\ingested_dir\\\\raw_data\\\\images\\\\N17.xml', 'd:\\\\Develops\\\\ML_PROJECT\\\\Number_Plate_Recognition\\\\notebook\\\\src\\\\ANPR\\\\artifacts\\\\ingested_dir\\\\raw_data\\\\images\\\\N170.xml', 'd:\\\\Develops\\\\ML_PROJECT\\\\Number_Plate_Recognition\\\\notebook\\\\src\\\\ANPR\\\\artifacts\\\\ingested_dir\\\\raw_data\\\\images\\\\N171.xml', 'd:\\\\Develops\\\\ML_PROJECT\\\\Number_Plate_Recognition\\\\notebook\\\\src\\\\ANPR\\\\artifacts\\\\ingested_dir\\\\raw_data\\\\images\\\\N172.xml', 'd:\\\\Develops\\\\ML_PROJECT\\\\Number_Plate_Recognition\\\\notebook\\\\src\\\\ANPR\\\\artifacts\\\\ingested_dir\\\\raw_data\\\\images\\\\N173.xml', 'd:\\\\Develops\\\\ML_PROJECT\\\\Number_Plate_Recognition\\\\notebook\\\\src\\\\ANPR\\\\artifacts\\\\ingested_dir\\\\raw_data\\\\images\\\\N174.xml', 'd:\\\\Develops\\\\ML_PROJECT\\\\Number_Plate_Recognition\\\\notebook\\\\src\\\\ANPR\\\\artifacts\\\\ingested_dir\\\\raw_data\\\\images\\\\N175.xml', 'd:\\\\Develops\\\\ML_PROJECT\\\\Number_Plate_Recognition\\\\notebook\\\\src\\\\ANPR\\\\artifacts\\\\ingested_dir\\\\raw_data\\\\images\\\\N176.xml', 'd:\\\\Develops\\\\ML_PROJECT\\\\Number_Plate_Recognition\\\\notebook\\\\src\\\\ANPR\\\\artifacts\\\\ingested_dir\\\\raw_data\\\\images\\\\N177.xml', 'd:\\\\Develops\\\\ML_PROJECT\\\\Number_Plate_Recognition\\\\notebook\\\\src\\\\ANPR\\\\artifacts\\\\ingested_dir\\\\raw_data\\\\images\\\\N178.xml', 'd:\\\\Develops\\\\ML_PROJECT\\\\Number_Plate_Recognition\\\\notebook\\\\src\\\\ANPR\\\\artifacts\\\\ingested_dir\\\\raw_data\\\\images\\\\N179.xml', 'd:\\\\Develops\\\\ML_PROJECT\\\\Number_Plate_Recognition\\\\notebook\\\\src\\\\ANPR\\\\artifacts\\\\ingested_dir\\\\raw_data\\\\images\\\\N18.xml', 'd:\\\\Develops\\\\ML_PROJECT\\\\Number_Plate_Recognition\\\\notebook\\\\src\\\\ANPR\\\\artifacts\\\\ingested_dir\\\\raw_data\\\\images\\\\N181.xml', 'd:\\\\Develops\\\\ML_PROJECT\\\\Number_Plate_Recognition\\\\notebook\\\\src\\\\ANPR\\\\artifacts\\\\ingested_dir\\\\raw_data\\\\images\\\\N183.xml', 'd:\\\\Develops\\\\ML_PROJECT\\\\Number_Plate_Recognition\\\\notebook\\\\src\\\\ANPR\\\\artifacts\\\\ingested_dir\\\\raw_data\\\\images\\\\N184.xml', 'd:\\\\Develops\\\\ML_PROJECT\\\\Number_Plate_Recognition\\\\notebook\\\\src\\\\ANPR\\\\artifacts\\\\ingested_dir\\\\raw_data\\\\images\\\\N185.xml', 'd:\\\\Develops\\\\ML_PROJECT\\\\Number_Plate_Recognition\\\\notebook\\\\src\\\\ANPR\\\\artifacts\\\\ingested_dir\\\\raw_data\\\\images\\\\N186.xml', 'd:\\\\Develops\\\\ML_PROJECT\\\\Number_Plate_Recognition\\\\notebook\\\\src\\\\ANPR\\\\artifacts\\\\ingested_dir\\\\raw_data\\\\images\\\\N187.xml', 'd:\\\\Develops\\\\ML_PROJECT\\\\Number_Plate_Recognition\\\\notebook\\\\src\\\\ANPR\\\\artifacts\\\\ingested_dir\\\\raw_data\\\\images\\\\N188.xml', 'd:\\\\Develops\\\\ML_PROJECT\\\\Number_Plate_Recognition\\\\notebook\\\\src\\\\ANPR\\\\artifacts\\\\ingested_dir\\\\raw_data\\\\images\\\\N189.xml', 'd:\\\\Develops\\\\ML_PROJECT\\\\Number_Plate_Recognition\\\\notebook\\\\src\\\\ANPR\\\\artifacts\\\\ingested_dir\\\\raw_data\\\\images\\\\N19.xml', 'd:\\\\Develops\\\\ML_PROJECT\\\\Number_Plate_Recognition\\\\notebook\\\\src\\\\ANPR\\\\artifacts\\\\ingested_dir\\\\raw_data\\\\images\\\\N190.xml', 'd:\\\\Develops\\\\ML_PROJECT\\\\Number_Plate_Recognition\\\\notebook\\\\src\\\\ANPR\\\\artifacts\\\\ingested_dir\\\\raw_data\\\\images\\\\N191.xml', 'd:\\\\Develops\\\\ML_PROJECT\\\\Number_Plate_Recognition\\\\notebook\\\\src\\\\ANPR\\\\artifacts\\\\ingested_dir\\\\raw_data\\\\images\\\\N192.xml', 'd:\\\\Develops\\\\ML_PROJECT\\\\Number_Plate_Recognition\\\\notebook\\\\src\\\\ANPR\\\\artifacts\\\\ingested_dir\\\\raw_data\\\\images\\\\N193.xml', 'd:\\\\Develops\\\\ML_PROJECT\\\\Number_Plate_Recognition\\\\notebook\\\\src\\\\ANPR\\\\artifacts\\\\ingested_dir\\\\raw_data\\\\images\\\\N195.xml', 'd:\\\\Develops\\\\ML_PROJECT\\\\Number_Plate_Recognition\\\\notebook\\\\src\\\\ANPR\\\\artifacts\\\\ingested_dir\\\\raw_data\\\\images\\\\N196.xml', 'd:\\\\Develops\\\\ML_PROJECT\\\\Number_Plate_Recognition\\\\notebook\\\\src\\\\ANPR\\\\artifacts\\\\ingested_dir\\\\raw_data\\\\images\\\\N197.xml', 'd:\\\\Develops\\\\ML_PROJECT\\\\Number_Plate_Recognition\\\\notebook\\\\src\\\\ANPR\\\\artifacts\\\\ingested_dir\\\\raw_data\\\\images\\\\N198.xml', 'd:\\\\Develops\\\\ML_PROJECT\\\\Number_Plate_Recognition\\\\notebook\\\\src\\\\ANPR\\\\artifacts\\\\ingested_dir\\\\raw_data\\\\images\\\\N199.xml', 'd:\\\\Develops\\\\ML_PROJECT\\\\Number_Plate_Recognition\\\\notebook\\\\src\\\\ANPR\\\\artifacts\\\\ingested_dir\\\\raw_data\\\\images\\\\N2.xml', 'd:\\\\Develops\\\\ML_PROJECT\\\\Number_Plate_Recognition\\\\notebook\\\\src\\\\ANPR\\\\artifacts\\\\ingested_dir\\\\raw_data\\\\images\\\\N20.xml', 'd:\\\\Develops\\\\ML_PROJECT\\\\Number_Plate_Recognition\\\\notebook\\\\src\\\\ANPR\\\\artifacts\\\\ingested_dir\\\\raw_data\\\\images\\\\N200.xml', 'd:\\\\Develops\\\\ML_PROJECT\\\\Number_Plate_Recognition\\\\notebook\\\\src\\\\ANPR\\\\artifacts\\\\ingested_dir\\\\raw_data\\\\images\\\\N201.xml', 'd:\\\\Develops\\\\ML_PROJECT\\\\Number_Plate_Recognition\\\\notebook\\\\src\\\\ANPR\\\\artifacts\\\\ingested_dir\\\\raw_data\\\\images\\\\N202.xml', 'd:\\\\Develops\\\\ML_PROJECT\\\\Number_Plate_Recognition\\\\notebook\\\\src\\\\ANPR\\\\artifacts\\\\ingested_dir\\\\raw_data\\\\images\\\\N203.xml', 'd:\\\\Develops\\\\ML_PROJECT\\\\Number_Plate_Recognition\\\\notebook\\\\src\\\\ANPR\\\\artifacts\\\\ingested_dir\\\\raw_data\\\\images\\\\N204.xml', 'd:\\\\Develops\\\\ML_PROJECT\\\\Number_Plate_Recognition\\\\notebook\\\\src\\\\ANPR\\\\artifacts\\\\ingested_dir\\\\raw_data\\\\images\\\\N205.xml', 'd:\\\\Develops\\\\ML_PROJECT\\\\Number_Plate_Recognition\\\\notebook\\\\src\\\\ANPR\\\\artifacts\\\\ingested_dir\\\\raw_data\\\\images\\\\N206.xml', 'd:\\\\Develops\\\\ML_PROJECT\\\\Number_Plate_Recognition\\\\notebook\\\\src\\\\ANPR\\\\artifacts\\\\ingested_dir\\\\raw_data\\\\images\\\\N207.xml', 'd:\\\\Develops\\\\ML_PROJECT\\\\Number_Plate_Recognition\\\\notebook\\\\src\\\\ANPR\\\\artifacts\\\\ingested_dir\\\\raw_data\\\\images\\\\N208.xml', 'd:\\\\Develops\\\\ML_PROJECT\\\\Number_Plate_Recognition\\\\notebook\\\\src\\\\ANPR\\\\artifacts\\\\ingested_dir\\\\raw_data\\\\images\\\\N209.xml', 'd:\\\\Develops\\\\ML_PROJECT\\\\Number_Plate_Recognition\\\\notebook\\\\src\\\\ANPR\\\\artifacts\\\\ingested_dir\\\\raw_data\\\\images\\\\N21.xml', 'd:\\\\Develops\\\\ML_PROJECT\\\\Number_Plate_Recognition\\\\notebook\\\\src\\\\ANPR\\\\artifacts\\\\ingested_dir\\\\raw_data\\\\images\\\\N210.xml', 'd:\\\\Develops\\\\ML_PROJECT\\\\Number_Plate_Recognition\\\\notebook\\\\src\\\\ANPR\\\\artifacts\\\\ingested_dir\\\\raw_data\\\\images\\\\N211.xml', 'd:\\\\Develops\\\\ML_PROJECT\\\\Number_Plate_Recognition\\\\notebook\\\\src\\\\ANPR\\\\artifacts\\\\ingested_dir\\\\raw_data\\\\images\\\\N212.xml', 'd:\\\\Develops\\\\ML_PROJECT\\\\Number_Plate_Recognition\\\\notebook\\\\src\\\\ANPR\\\\artifacts\\\\ingested_dir\\\\raw_data\\\\images\\\\N213.xml', 'd:\\\\Develops\\\\ML_PROJECT\\\\Number_Plate_Recognition\\\\notebook\\\\src\\\\ANPR\\\\artifacts\\\\ingested_dir\\\\raw_data\\\\images\\\\N214.xml', 'd:\\\\Develops\\\\ML_PROJECT\\\\Number_Plate_Recognition\\\\notebook\\\\src\\\\ANPR\\\\artifacts\\\\ingested_dir\\\\raw_data\\\\images\\\\N215.xml', 'd:\\\\Develops\\\\ML_PROJECT\\\\Number_Plate_Recognition\\\\notebook\\\\src\\\\ANPR\\\\artifacts\\\\ingested_dir\\\\raw_data\\\\images\\\\N216.xml', 'd:\\\\Develops\\\\ML_PROJECT\\\\Number_Plate_Recognition\\\\notebook\\\\src\\\\ANPR\\\\artifacts\\\\ingested_dir\\\\raw_data\\\\images\\\\N217.xml', 'd:\\\\Develops\\\\ML_PROJECT\\\\Number_Plate_Recognition\\\\notebook\\\\src\\\\ANPR\\\\artifacts\\\\ingested_dir\\\\raw_data\\\\images\\\\N218.xml', 'd:\\\\Develops\\\\ML_PROJECT\\\\Number_Plate_Recognition\\\\notebook\\\\src\\\\ANPR\\\\artifacts\\\\ingested_dir\\\\raw_data\\\\images\\\\N219.xml', 'd:\\\\Develops\\\\ML_PROJECT\\\\Number_Plate_Recognition\\\\notebook\\\\src\\\\ANPR\\\\artifacts\\\\ingested_dir\\\\raw_data\\\\images\\\\N22.xml', 'd:\\\\Develops\\\\ML_PROJECT\\\\Number_Plate_Recognition\\\\notebook\\\\src\\\\ANPR\\\\artifacts\\\\ingested_dir\\\\raw_data\\\\images\\\\N220.xml', 'd:\\\\Develops\\\\ML_PROJECT\\\\Number_Plate_Recognition\\\\notebook\\\\src\\\\ANPR\\\\artifacts\\\\ingested_dir\\\\raw_data\\\\images\\\\N221.xml', 'd:\\\\Develops\\\\ML_PROJECT\\\\Number_Plate_Recognition\\\\notebook\\\\src\\\\ANPR\\\\artifacts\\\\ingested_dir\\\\raw_data\\\\images\\\\N222.xml', 'd:\\\\Develops\\\\ML_PROJECT\\\\Number_Plate_Recognition\\\\notebook\\\\src\\\\ANPR\\\\artifacts\\\\ingested_dir\\\\raw_data\\\\images\\\\N223.xml', 'd:\\\\Develops\\\\ML_PROJECT\\\\Number_Plate_Recognition\\\\notebook\\\\src\\\\ANPR\\\\artifacts\\\\ingested_dir\\\\raw_data\\\\images\\\\N224.xml', 'd:\\\\Develops\\\\ML_PROJECT\\\\Number_Plate_Recognition\\\\notebook\\\\src\\\\ANPR\\\\artifacts\\\\ingested_dir\\\\raw_data\\\\images\\\\N225.xml', 'd:\\\\Develops\\\\ML_PROJECT\\\\Number_Plate_Recognition\\\\notebook\\\\src\\\\ANPR\\\\artifacts\\\\ingested_dir\\\\raw_data\\\\images\\\\N226.xml', 'd:\\\\Develops\\\\ML_PROJECT\\\\Number_Plate_Recognition\\\\notebook\\\\src\\\\ANPR\\\\artifacts\\\\ingested_dir\\\\raw_data\\\\images\\\\N227.xml', 'd:\\\\Develops\\\\ML_PROJECT\\\\Number_Plate_Recognition\\\\notebook\\\\src\\\\ANPR\\\\artifacts\\\\ingested_dir\\\\raw_data\\\\images\\\\N229.xml', 'd:\\\\Develops\\\\ML_PROJECT\\\\Number_Plate_Recognition\\\\notebook\\\\src\\\\ANPR\\\\artifacts\\\\ingested_dir\\\\raw_data\\\\images\\\\N23.xml', 'd:\\\\Develops\\\\ML_PROJECT\\\\Number_Plate_Recognition\\\\notebook\\\\src\\\\ANPR\\\\artifacts\\\\ingested_dir\\\\raw_data\\\\images\\\\N230.xml', 'd:\\\\Develops\\\\ML_PROJECT\\\\Number_Plate_Recognition\\\\notebook\\\\src\\\\ANPR\\\\artifacts\\\\ingested_dir\\\\raw_data\\\\images\\\\N231.xml', 'd:\\\\Develops\\\\ML_PROJECT\\\\Number_Plate_Recognition\\\\notebook\\\\src\\\\ANPR\\\\artifacts\\\\ingested_dir\\\\raw_data\\\\images\\\\N232.xml', 'd:\\\\Develops\\\\ML_PROJECT\\\\Number_Plate_Recognition\\\\notebook\\\\src\\\\ANPR\\\\artifacts\\\\ingested_dir\\\\raw_data\\\\images\\\\N233.xml', 'd:\\\\Develops\\\\ML_PROJECT\\\\Number_Plate_Recognition\\\\notebook\\\\src\\\\ANPR\\\\artifacts\\\\ingested_dir\\\\raw_data\\\\images\\\\N234.xml', 'd:\\\\Develops\\\\ML_PROJECT\\\\Number_Plate_Recognition\\\\notebook\\\\src\\\\ANPR\\\\artifacts\\\\ingested_dir\\\\raw_data\\\\images\\\\N235.xml', 'd:\\\\Develops\\\\ML_PROJECT\\\\Number_Plate_Recognition\\\\notebook\\\\src\\\\ANPR\\\\artifacts\\\\ingested_dir\\\\raw_data\\\\images\\\\N236.xml', 'd:\\\\Develops\\\\ML_PROJECT\\\\Number_Plate_Recognition\\\\notebook\\\\src\\\\ANPR\\\\artifacts\\\\ingested_dir\\\\raw_data\\\\images\\\\N237.xml', 'd:\\\\Develops\\\\ML_PROJECT\\\\Number_Plate_Recognition\\\\notebook\\\\src\\\\ANPR\\\\artifacts\\\\ingested_dir\\\\raw_data\\\\images\\\\N238.xml', 'd:\\\\Develops\\\\ML_PROJECT\\\\Number_Plate_Recognition\\\\notebook\\\\src\\\\ANPR\\\\artifacts\\\\ingested_dir\\\\raw_data\\\\images\\\\N239.xml', 'd:\\\\Develops\\\\ML_PROJECT\\\\Number_Plate_Recognition\\\\notebook\\\\src\\\\ANPR\\\\artifacts\\\\ingested_dir\\\\raw_data\\\\images\\\\N24.xml', 'd:\\\\Develops\\\\ML_PROJECT\\\\Number_Plate_Recognition\\\\notebook\\\\src\\\\ANPR\\\\artifacts\\\\ingested_dir\\\\raw_data\\\\images\\\\N240.xml', 'd:\\\\Develops\\\\ML_PROJECT\\\\Number_Plate_Recognition\\\\notebook\\\\src\\\\ANPR\\\\artifacts\\\\ingested_dir\\\\raw_data\\\\images\\\\N241.xml', 'd:\\\\Develops\\\\ML_PROJECT\\\\Number_Plate_Recognition\\\\notebook\\\\src\\\\ANPR\\\\artifacts\\\\ingested_dir\\\\raw_data\\\\images\\\\N242.xml', 'd:\\\\Develops\\\\ML_PROJECT\\\\Number_Plate_Recognition\\\\notebook\\\\src\\\\ANPR\\\\artifacts\\\\ingested_dir\\\\raw_data\\\\images\\\\N244.xml', 'd:\\\\Develops\\\\ML_PROJECT\\\\Number_Plate_Recognition\\\\notebook\\\\src\\\\ANPR\\\\artifacts\\\\ingested_dir\\\\raw_data\\\\images\\\\N245.xml', 'd:\\\\Develops\\\\ML_PROJECT\\\\Number_Plate_Recognition\\\\notebook\\\\src\\\\ANPR\\\\artifacts\\\\ingested_dir\\\\raw_data\\\\images\\\\N246.xml', 'd:\\\\Develops\\\\ML_PROJECT\\\\Number_Plate_Recognition\\\\notebook\\\\src\\\\ANPR\\\\artifacts\\\\ingested_dir\\\\raw_data\\\\images\\\\N247.xml', 'd:\\\\Develops\\\\ML_PROJECT\\\\Number_Plate_Recognition\\\\notebook\\\\src\\\\ANPR\\\\artifacts\\\\ingested_dir\\\\raw_data\\\\images\\\\N248.xml', 'd:\\\\Develops\\\\ML_PROJECT\\\\Number_Plate_Recognition\\\\notebook\\\\src\\\\ANPR\\\\artifacts\\\\ingested_dir\\\\raw_data\\\\images\\\\N25.xml', 'd:\\\\Develops\\\\ML_PROJECT\\\\Number_Plate_Recognition\\\\notebook\\\\src\\\\ANPR\\\\artifacts\\\\ingested_dir\\\\raw_data\\\\images\\\\N27.xml', 'd:\\\\Develops\\\\ML_PROJECT\\\\Number_Plate_Recognition\\\\notebook\\\\src\\\\ANPR\\\\artifacts\\\\ingested_dir\\\\raw_data\\\\images\\\\N28.xml', 'd:\\\\Develops\\\\ML_PROJECT\\\\Number_Plate_Recognition\\\\notebook\\\\src\\\\ANPR\\\\artifacts\\\\ingested_dir\\\\raw_data\\\\images\\\\N3.xml', 'd:\\\\Develops\\\\ML_PROJECT\\\\Number_Plate_Recognition\\\\notebook\\\\src\\\\ANPR\\\\artifacts\\\\ingested_dir\\\\raw_data\\\\images\\\\N30.xml', 'd:\\\\Develops\\\\ML_PROJECT\\\\Number_Plate_Recognition\\\\notebook\\\\src\\\\ANPR\\\\artifacts\\\\ingested_dir\\\\raw_data\\\\images\\\\N31.xml', 'd:\\\\Develops\\\\ML_PROJECT\\\\Number_Plate_Recognition\\\\notebook\\\\src\\\\ANPR\\\\artifacts\\\\ingested_dir\\\\raw_data\\\\images\\\\N32.xml', 'd:\\\\Develops\\\\ML_PROJECT\\\\Number_Plate_Recognition\\\\notebook\\\\src\\\\ANPR\\\\artifacts\\\\ingested_dir\\\\raw_data\\\\images\\\\N33.xml', 'd:\\\\Develops\\\\ML_PROJECT\\\\Number_Plate_Recognition\\\\notebook\\\\src\\\\ANPR\\\\artifacts\\\\ingested_dir\\\\raw_data\\\\images\\\\N34.xml', 'd:\\\\Develops\\\\ML_PROJECT\\\\Number_Plate_Recognition\\\\notebook\\\\src\\\\ANPR\\\\artifacts\\\\ingested_dir\\\\raw_data\\\\images\\\\N35.xml', 'd:\\\\Develops\\\\ML_PROJECT\\\\Number_Plate_Recognition\\\\notebook\\\\src\\\\ANPR\\\\artifacts\\\\ingested_dir\\\\raw_data\\\\images\\\\N36.xml', 'd:\\\\Develops\\\\ML_PROJECT\\\\Number_Plate_Recognition\\\\notebook\\\\src\\\\ANPR\\\\artifacts\\\\ingested_dir\\\\raw_data\\\\images\\\\N37.xml', 'd:\\\\Develops\\\\ML_PROJECT\\\\Number_Plate_Recognition\\\\notebook\\\\src\\\\ANPR\\\\artifacts\\\\ingested_dir\\\\raw_data\\\\images\\\\N38.xml', 'd:\\\\Develops\\\\ML_PROJECT\\\\Number_Plate_Recognition\\\\notebook\\\\src\\\\ANPR\\\\artifacts\\\\ingested_dir\\\\raw_data\\\\images\\\\N4.xml', 'd:\\\\Develops\\\\ML_PROJECT\\\\Number_Plate_Recognition\\\\notebook\\\\src\\\\ANPR\\\\artifacts\\\\ingested_dir\\\\raw_data\\\\images\\\\N40.xml', 'd:\\\\Develops\\\\ML_PROJECT\\\\Number_Plate_Recognition\\\\notebook\\\\src\\\\ANPR\\\\artifacts\\\\ingested_dir\\\\raw_data\\\\images\\\\N42.xml', 'd:\\\\Develops\\\\ML_PROJECT\\\\Number_Plate_Recognition\\\\notebook\\\\src\\\\ANPR\\\\artifacts\\\\ingested_dir\\\\raw_data\\\\images\\\\N43.xml', 'd:\\\\Develops\\\\ML_PROJECT\\\\Number_Plate_Recognition\\\\notebook\\\\src\\\\ANPR\\\\artifacts\\\\ingested_dir\\\\raw_data\\\\images\\\\N44.xml', 'd:\\\\Develops\\\\ML_PROJECT\\\\Number_Plate_Recognition\\\\notebook\\\\src\\\\ANPR\\\\artifacts\\\\ingested_dir\\\\raw_data\\\\images\\\\N45.xml', 'd:\\\\Develops\\\\ML_PROJECT\\\\Number_Plate_Recognition\\\\notebook\\\\src\\\\ANPR\\\\artifacts\\\\ingested_dir\\\\raw_data\\\\images\\\\N46.xml', 'd:\\\\Develops\\\\ML_PROJECT\\\\Number_Plate_Recognition\\\\notebook\\\\src\\\\ANPR\\\\artifacts\\\\ingested_dir\\\\raw_data\\\\images\\\\N47.xml', 'd:\\\\Develops\\\\ML_PROJECT\\\\Number_Plate_Recognition\\\\notebook\\\\src\\\\ANPR\\\\artifacts\\\\ingested_dir\\\\raw_data\\\\images\\\\N48.xml', 'd:\\\\Develops\\\\ML_PROJECT\\\\Number_Plate_Recognition\\\\notebook\\\\src\\\\ANPR\\\\artifacts\\\\ingested_dir\\\\raw_data\\\\images\\\\N49.xml', 'd:\\\\Develops\\\\ML_PROJECT\\\\Number_Plate_Recognition\\\\notebook\\\\src\\\\ANPR\\\\artifacts\\\\ingested_dir\\\\raw_data\\\\images\\\\N5.xml', 'd:\\\\Develops\\\\ML_PROJECT\\\\Number_Plate_Recognition\\\\notebook\\\\src\\\\ANPR\\\\artifacts\\\\ingested_dir\\\\raw_data\\\\images\\\\N50.xml', 'd:\\\\Develops\\\\ML_PROJECT\\\\Number_Plate_Recognition\\\\notebook\\\\src\\\\ANPR\\\\artifacts\\\\ingested_dir\\\\raw_data\\\\images\\\\N51.xml', 'd:\\\\Develops\\\\ML_PROJECT\\\\Number_Plate_Recognition\\\\notebook\\\\src\\\\ANPR\\\\artifacts\\\\ingested_dir\\\\raw_data\\\\images\\\\N52.xml', 'd:\\\\Develops\\\\ML_PROJECT\\\\Number_Plate_Recognition\\\\notebook\\\\src\\\\ANPR\\\\artifacts\\\\ingested_dir\\\\raw_data\\\\images\\\\N53.xml', 'd:\\\\Develops\\\\ML_PROJECT\\\\Number_Plate_Recognition\\\\notebook\\\\src\\\\ANPR\\\\artifacts\\\\ingested_dir\\\\raw_data\\\\images\\\\N54.xml', 'd:\\\\Develops\\\\ML_PROJECT\\\\Number_Plate_Recognition\\\\notebook\\\\src\\\\ANPR\\\\artifacts\\\\ingested_dir\\\\raw_data\\\\images\\\\N56.xml', 'd:\\\\Develops\\\\ML_PROJECT\\\\Number_Plate_Recognition\\\\notebook\\\\src\\\\ANPR\\\\artifacts\\\\ingested_dir\\\\raw_data\\\\images\\\\N57.xml', 'd:\\\\Develops\\\\ML_PROJECT\\\\Number_Plate_Recognition\\\\notebook\\\\src\\\\ANPR\\\\artifacts\\\\ingested_dir\\\\raw_data\\\\images\\\\N58.xml', 'd:\\\\Develops\\\\ML_PROJECT\\\\Number_Plate_Recognition\\\\notebook\\\\src\\\\ANPR\\\\artifacts\\\\ingested_dir\\\\raw_data\\\\images\\\\N59.xml', 'd:\\\\Develops\\\\ML_PROJECT\\\\Number_Plate_Recognition\\\\notebook\\\\src\\\\ANPR\\\\artifacts\\\\ingested_dir\\\\raw_data\\\\images\\\\N6.xml', 'd:\\\\Develops\\\\ML_PROJECT\\\\Number_Plate_Recognition\\\\notebook\\\\src\\\\ANPR\\\\artifacts\\\\ingested_dir\\\\raw_data\\\\images\\\\N61.xml', 'd:\\\\Develops\\\\ML_PROJECT\\\\Number_Plate_Recognition\\\\notebook\\\\src\\\\ANPR\\\\artifacts\\\\ingested_dir\\\\raw_data\\\\images\\\\N62.xml', 'd:\\\\Develops\\\\ML_PROJECT\\\\Number_Plate_Recognition\\\\notebook\\\\src\\\\ANPR\\\\artifacts\\\\ingested_dir\\\\raw_data\\\\images\\\\N63.xml', 'd:\\\\Develops\\\\ML_PROJECT\\\\Number_Plate_Recognition\\\\notebook\\\\src\\\\ANPR\\\\artifacts\\\\ingested_dir\\\\raw_data\\\\images\\\\N64.xml', 'd:\\\\Develops\\\\ML_PROJECT\\\\Number_Plate_Recognition\\\\notebook\\\\src\\\\ANPR\\\\artifacts\\\\ingested_dir\\\\raw_data\\\\images\\\\N65.xml', 'd:\\\\Develops\\\\ML_PROJECT\\\\Number_Plate_Recognition\\\\notebook\\\\src\\\\ANPR\\\\artifacts\\\\ingested_dir\\\\raw_data\\\\images\\\\N66.xml', 'd:\\\\Develops\\\\ML_PROJECT\\\\Number_Plate_Recognition\\\\notebook\\\\src\\\\ANPR\\\\artifacts\\\\ingested_dir\\\\raw_data\\\\images\\\\N67.xml', 'd:\\\\Develops\\\\ML_PROJECT\\\\Number_Plate_Recognition\\\\notebook\\\\src\\\\ANPR\\\\artifacts\\\\ingested_dir\\\\raw_data\\\\images\\\\N68.xml', 'd:\\\\Develops\\\\ML_PROJECT\\\\Number_Plate_Recognition\\\\notebook\\\\src\\\\ANPR\\\\artifacts\\\\ingested_dir\\\\raw_data\\\\images\\\\N69.xml', 'd:\\\\Develops\\\\ML_PROJECT\\\\Number_Plate_Recognition\\\\notebook\\\\src\\\\ANPR\\\\artifacts\\\\ingested_dir\\\\raw_data\\\\images\\\\N7.xml', 'd:\\\\Develops\\\\ML_PROJECT\\\\Number_Plate_Recognition\\\\notebook\\\\src\\\\ANPR\\\\artifacts\\\\ingested_dir\\\\raw_data\\\\images\\\\N70.xml', 'd:\\\\Develops\\\\ML_PROJECT\\\\Number_Plate_Recognition\\\\notebook\\\\src\\\\ANPR\\\\artifacts\\\\ingested_dir\\\\raw_data\\\\images\\\\N72.xml', 'd:\\\\Develops\\\\ML_PROJECT\\\\Number_Plate_Recognition\\\\notebook\\\\src\\\\ANPR\\\\artifacts\\\\ingested_dir\\\\raw_data\\\\images\\\\N73.xml', 'd:\\\\Develops\\\\ML_PROJECT\\\\Number_Plate_Recognition\\\\notebook\\\\src\\\\ANPR\\\\artifacts\\\\ingested_dir\\\\raw_data\\\\images\\\\N74.xml', 'd:\\\\Develops\\\\ML_PROJECT\\\\Number_Plate_Recognition\\\\notebook\\\\src\\\\ANPR\\\\artifacts\\\\ingested_dir\\\\raw_data\\\\images\\\\N75.xml', 'd:\\\\Develops\\\\ML_PROJECT\\\\Number_Plate_Recognition\\\\notebook\\\\src\\\\ANPR\\\\artifacts\\\\ingested_dir\\\\raw_data\\\\images\\\\N77.xml', 'd:\\\\Develops\\\\ML_PROJECT\\\\Number_Plate_Recognition\\\\notebook\\\\src\\\\ANPR\\\\artifacts\\\\ingested_dir\\\\raw_data\\\\images\\\\N78.xml', 'd:\\\\Develops\\\\ML_PROJECT\\\\Number_Plate_Recognition\\\\notebook\\\\src\\\\ANPR\\\\artifacts\\\\ingested_dir\\\\raw_data\\\\images\\\\N79.xml', 'd:\\\\Develops\\\\ML_PROJECT\\\\Number_Plate_Recognition\\\\notebook\\\\src\\\\ANPR\\\\artifacts\\\\ingested_dir\\\\raw_data\\\\images\\\\N8.xml', 'd:\\\\Develops\\\\ML_PROJECT\\\\Number_Plate_Recognition\\\\notebook\\\\src\\\\ANPR\\\\artifacts\\\\ingested_dir\\\\raw_data\\\\images\\\\N80.xml', 'd:\\\\Develops\\\\ML_PROJECT\\\\Number_Plate_Recognition\\\\notebook\\\\src\\\\ANPR\\\\artifacts\\\\ingested_dir\\\\raw_data\\\\images\\\\N81.xml', 'd:\\\\Develops\\\\ML_PROJECT\\\\Number_Plate_Recognition\\\\notebook\\\\src\\\\ANPR\\\\artifacts\\\\ingested_dir\\\\raw_data\\\\images\\\\N82.xml', 'd:\\\\Develops\\\\ML_PROJECT\\\\Number_Plate_Recognition\\\\notebook\\\\src\\\\ANPR\\\\artifacts\\\\ingested_dir\\\\raw_data\\\\images\\\\N84.xml', 'd:\\\\Develops\\\\ML_PROJECT\\\\Number_Plate_Recognition\\\\notebook\\\\src\\\\ANPR\\\\artifacts\\\\ingested_dir\\\\raw_data\\\\images\\\\N85.xml', 'd:\\\\Develops\\\\ML_PROJECT\\\\Number_Plate_Recognition\\\\notebook\\\\src\\\\ANPR\\\\artifacts\\\\ingested_dir\\\\raw_data\\\\images\\\\N86.xml', 'd:\\\\Develops\\\\ML_PROJECT\\\\Number_Plate_Recognition\\\\notebook\\\\src\\\\ANPR\\\\artifacts\\\\ingested_dir\\\\raw_data\\\\images\\\\N88.xml', 'd:\\\\Develops\\\\ML_PROJECT\\\\Number_Plate_Recognition\\\\notebook\\\\src\\\\ANPR\\\\artifacts\\\\ingested_dir\\\\raw_data\\\\images\\\\N89.xml', 'd:\\\\Develops\\\\ML_PROJECT\\\\Number_Plate_Recognition\\\\notebook\\\\src\\\\ANPR\\\\artifacts\\\\ingested_dir\\\\raw_data\\\\images\\\\N9.xml', 'd:\\\\Develops\\\\ML_PROJECT\\\\Number_Plate_Recognition\\\\notebook\\\\src\\\\ANPR\\\\artifacts\\\\ingested_dir\\\\raw_data\\\\images\\\\N90.xml', 'd:\\\\Develops\\\\ML_PROJECT\\\\Number_Plate_Recognition\\\\notebook\\\\src\\\\ANPR\\\\artifacts\\\\ingested_dir\\\\raw_data\\\\images\\\\N91.xml', 'd:\\\\Develops\\\\ML_PROJECT\\\\Number_Plate_Recognition\\\\notebook\\\\src\\\\ANPR\\\\artifacts\\\\ingested_dir\\\\raw_data\\\\images\\\\N92.xml', 'd:\\\\Develops\\\\ML_PROJECT\\\\Number_Plate_Recognition\\\\notebook\\\\src\\\\ANPR\\\\artifacts\\\\ingested_dir\\\\raw_data\\\\images\\\\N93.xml', 'd:\\\\Develops\\\\ML_PROJECT\\\\Number_Plate_Recognition\\\\notebook\\\\src\\\\ANPR\\\\artifacts\\\\ingested_dir\\\\raw_data\\\\images\\\\N94.xml', 'd:\\\\Develops\\\\ML_PROJECT\\\\Number_Plate_Recognition\\\\notebook\\\\src\\\\ANPR\\\\artifacts\\\\ingested_dir\\\\raw_data\\\\images\\\\N95.xml', 'd:\\\\Develops\\\\ML_PROJECT\\\\Number_Plate_Recognition\\\\notebook\\\\src\\\\ANPR\\\\artifacts\\\\ingested_dir\\\\raw_data\\\\images\\\\N96.xml', 'd:\\\\Develops\\\\ML_PROJECT\\\\Number_Plate_Recognition\\\\notebook\\\\src\\\\ANPR\\\\artifacts\\\\ingested_dir\\\\raw_data\\\\images\\\\N97.xml', 'd:\\\\Develops\\\\ML_PROJECT\\\\Number_Plate_Recognition\\\\notebook\\\\src\\\\ANPR\\\\artifacts\\\\ingested_dir\\\\raw_data\\\\images\\\\N98.xml', 'd:\\\\Develops\\\\ML_PROJECT\\\\Number_Plate_Recognition\\\\notebook\\\\src\\\\ANPR\\\\artifacts\\\\ingested_dir\\\\raw_data\\\\images\\\\N99.xml']\n"
     ]
    }
   ],
   "source": [
    "labels_dataframe = get_bounding_box_coordinates()"
   ]
  },
  {
   "cell_type": "code",
   "execution_count": 31,
   "metadata": {},
   "outputs": [],
   "source": [
    "file_names = labels_dataframe[\"filepath\"]"
   ]
  },
  {
   "cell_type": "code",
   "execution_count": 35,
   "metadata": {},
   "outputs": [
    {
     "data": {
      "text/plain": [
       "'d:\\\\Develops\\\\ML_PROJECT\\\\Number_Plate_Recognition\\\\notebook\\\\src\\\\ANPR\\\\artifacts\\\\ingested_dir\\\\raw_data\\\\images\\\\N1.xml'"
      ]
     },
     "execution_count": 35,
     "metadata": {},
     "output_type": "execute_result"
    }
   ],
   "source": [
    "labels_dataframe['filepath'][0]"
   ]
  },
  {
   "cell_type": "code",
   "execution_count": 29,
   "metadata": {},
   "outputs": [
    {
     "data": {
      "text/plain": [
       "'N1.jpeg'"
      ]
     },
     "execution_count": 29,
     "metadata": {},
     "output_type": "execute_result"
    }
   ],
   "source": [
    "ET.parse(labels_dataframe[\"filepath\"][0]).getroot().find('filename').text"
   ]
  },
  {
   "cell_type": "code",
   "execution_count": 58,
   "metadata": {},
   "outputs": [
    {
     "data": {
      "text/plain": [
       "'d:\\\\Develops\\\\ML_PROJECT\\\\Number_Plate_Recognition\\\\notebook\\\\src\\\\ANPR\\\\artifacts\\\\ingested_dir\\\\raw_data\\\\images'"
      ]
     },
     "execution_count": 58,
     "metadata": {},
     "output_type": "execute_result"
    }
   ],
   "source": [
    "data_ingestion_artifacts.image_data_dir"
   ]
  },
  {
   "cell_type": "code",
   "execution_count": 65,
   "metadata": {},
   "outputs": [],
   "source": [
    "def get_filename_from_XML(filename):\n",
    "\n",
    "    file_names = ET.parse(filename).getroot().find('filename').text\n",
    "    image_path_list = os.path.join(data_ingestion_artifacts.image_data_dir, file_names)\n",
    "    return image_path_list\n",
    "\n",
    "\n"
   ]
  },
  {
   "cell_type": "code",
   "execution_count": 67,
   "metadata": {},
   "outputs": [],
   "source": [
    "image_path_list = labels_dataframe['filepath'].apply(get_filename_from_XML)"
   ]
  },
  {
   "cell_type": "code",
   "execution_count": 68,
   "metadata": {},
   "outputs": [
    {
     "data": {
      "text/plain": [
       "0      d:\\Develops\\ML_PROJECT\\Number_Plate_Recognitio...\n",
       "1      d:\\Develops\\ML_PROJECT\\Number_Plate_Recognitio...\n",
       "2      d:\\Develops\\ML_PROJECT\\Number_Plate_Recognitio...\n",
       "3      d:\\Develops\\ML_PROJECT\\Number_Plate_Recognitio...\n",
       "4      d:\\Develops\\ML_PROJECT\\Number_Plate_Recognitio...\n",
       "                             ...                        \n",
       "220    d:\\Develops\\ML_PROJECT\\Number_Plate_Recognitio...\n",
       "221    d:\\Develops\\ML_PROJECT\\Number_Plate_Recognitio...\n",
       "222    d:\\Develops\\ML_PROJECT\\Number_Plate_Recognitio...\n",
       "223    d:\\Develops\\ML_PROJECT\\Number_Plate_Recognitio...\n",
       "224    d:\\Develops\\ML_PROJECT\\Number_Plate_Recognitio...\n",
       "Name: filepath, Length: 225, dtype: object"
      ]
     },
     "execution_count": 68,
     "metadata": {},
     "output_type": "execute_result"
    }
   ],
   "source": [
    "image_path_list"
   ]
  },
  {
   "cell_type": "code",
   "execution_count": 40,
   "metadata": {},
   "outputs": [],
   "source": [
    "image_path_list = list(labels_dataframe['filepath'].apply(get_filename_from_XML))"
   ]
  },
  {
   "cell_type": "code",
   "execution_count": 69,
   "metadata": {},
   "outputs": [
    {
     "data": {
      "text/plain": [
       "0      d:\\Develops\\ML_PROJECT\\Number_Plate_Recognitio...\n",
       "1      d:\\Develops\\ML_PROJECT\\Number_Plate_Recognitio...\n",
       "2      d:\\Develops\\ML_PROJECT\\Number_Plate_Recognitio...\n",
       "3      d:\\Develops\\ML_PROJECT\\Number_Plate_Recognitio...\n",
       "4      d:\\Develops\\ML_PROJECT\\Number_Plate_Recognitio...\n",
       "                             ...                        \n",
       "220    d:\\Develops\\ML_PROJECT\\Number_Plate_Recognitio...\n",
       "221    d:\\Develops\\ML_PROJECT\\Number_Plate_Recognitio...\n",
       "222    d:\\Develops\\ML_PROJECT\\Number_Plate_Recognitio...\n",
       "223    d:\\Develops\\ML_PROJECT\\Number_Plate_Recognitio...\n",
       "224    d:\\Develops\\ML_PROJECT\\Number_Plate_Recognitio...\n",
       "Name: filepath, Length: 225, dtype: object"
      ]
     },
     "execution_count": 69,
     "metadata": {},
     "output_type": "execute_result"
    }
   ],
   "source": [
    "image_path_list"
   ]
  },
  {
   "cell_type": "code",
   "execution_count": 48,
   "metadata": {},
   "outputs": [
    {
     "data": {
      "text/plain": [
       "array([[1093, 1396,  645,  727],\n",
       "       [ 134,  301,  312,  350],\n",
       "       [  31,  139,  128,  161],\n",
       "       [ 164,  316,  216,  243],\n",
       "       [ 813, 1067,  665,  724],\n",
       "       [  66,  154,  166,  197],\n",
       "       [ 360,  434,  174,  195],\n",
       "       [ 137,  262,  249,  290],\n",
       "       [ 207,  356,  174,  287],\n",
       "       [ 184,  342,  220,  257],\n",
       "       [ 148,  239,  250,  320],\n",
       "       [ 131,  187,  130,  144],\n",
       "       [ 183,  249,  211,  227],\n",
       "       [  80,  239,  364,  402],\n",
       "       [ 179,  347,  256,  290],\n",
       "       [  39,  108,  129,  157],\n",
       "       [  15,  200,   33,  126],\n",
       "       [ 157,  316,  226,  278],\n",
       "       [ 120,  249,  161,  202],\n",
       "       [ 532,  852,  636,  706],\n",
       "       [ 180,  559,  216,  314],\n",
       "       [ 976, 1284,  669,  754],\n",
       "       [ 647,  736,  332,  387],\n",
       "       [ 311,  506,  324,  370],\n",
       "       [ 342,  494,  243,  288],\n",
       "       [  11,  246,   78,  165],\n",
       "       [ 165,  328,  276,  324],\n",
       "       [ 149,  399,  269,  327],\n",
       "       [  24,  142,  209,  245],\n",
       "       [  58,  221,  198,  271],\n",
       "       [ 301,  504,  351,  402],\n",
       "       [ 419,  513,  173,  213],\n",
       "       [ 198,  349,  107,  143],\n",
       "       [ 111,  320,  133,  286],\n",
       "       [ 795, 1095,  751,  840],\n",
       "       [ 230,  365,  188,  219],\n",
       "       [ 157,  341,  197,  247],\n",
       "       [ 787,  910,  473,  513],\n",
       "       [ 401,  593,  456,  493],\n",
       "       [  36,  465,   64,  168],\n",
       "       [ 341,  607,  954, 1011],\n",
       "       [1058, 1351,  660,  756],\n",
       "       [ 346,  423,  197,  221],\n",
       "       [ 150,  348,  255,  296],\n",
       "       [  66,  174,  234,  259],\n",
       "       [ 115,  524,  144,  296],\n",
       "       [  39,  177,  201,  275],\n",
       "       [ 233,  432,   88,  151],\n",
       "       [ 424,  613,  548,  591],\n",
       "       [ 244,  369,  240,  293],\n",
       "       [ 186,  324,  116,  148],\n",
       "       [ 582,  853,  622,  691],\n",
       "       [ 172,  372,   97,  143],\n",
       "       [ 144,  277,  216,  252],\n",
       "       [ 265,  725,  247,  347],\n",
       "       [ 133,  279,  352,  385],\n",
       "       [ 106,  245,  157,  196],\n",
       "       [ 145,  313,  167,  201],\n",
       "       [  49,  106,  230,  249],\n",
       "       [ 122,  224,  268,  292],\n",
       "       [ 887, 1173,  625,  696],\n",
       "       [ 153,  251,  196,  217],\n",
       "       [ 147,  336,  169,  209],\n",
       "       [ 230,  316,  203,  231],\n",
       "       [ 248,  421,  121,  174],\n",
       "       [ 186,  374,  290,  335],\n",
       "       [ 809, 1034,  246,  295],\n",
       "       [ 345,  848,  242,  416],\n",
       "       [ 271,  474,  514,  561],\n",
       "       [ 167,  413,  208,  263],\n",
       "       [  88,  216,  507,  556],\n",
       "       [ 299,  442,  337,  386],\n",
       "       [  13,  444,  137,  270],\n",
       "       [ 147,  370,  133,  184],\n",
       "       [  80,  335,  150,  243],\n",
       "       [ 315,  665,  442,  531],\n",
       "       [ 183,  250,  205,  229],\n",
       "       [ 195,  383,  320,  358],\n",
       "       [ 331,  538,  263,  317],\n",
       "       [ 210,  335,  289,  351],\n",
       "       [ 203,  297,  217,  240],\n",
       "       [ 373,  528,  366,  408],\n",
       "       [ 361,  499,  381,  432],\n",
       "       [ 216,  343,  155,  190],\n",
       "       [ 229, 1391,  204,  660],\n",
       "       [ 321,  559,  420,  484],\n",
       "       [ 464,  561,  286,  344],\n",
       "       [ 572,  839,  461,  535],\n",
       "       [ 587,  711,  760,  832],\n",
       "       [ 178,  381,  121,  181],\n",
       "       [  99,  216,  367,  423],\n",
       "       [ 896, 1558,  814,  969],\n",
       "       [ 317,  568,  319,  397],\n",
       "       [ 543,  769,  390,  461],\n",
       "       [ 274,  502,    2,   59],\n",
       "       [ 186,  367,  137,  232],\n",
       "       [ 119,  220,   84,  111],\n",
       "       [ 120,  184,  103,  130],\n",
       "       [ 214,  335,  138,  169],\n",
       "       [  45,  112,  206,  255],\n",
       "       [1804, 2493, 1734, 1882],\n",
       "       [ 498,  796,  729,  814],\n",
       "       [ 196,  442,  227,  293],\n",
       "       [ 157,  290,  193,  229],\n",
       "       [ 157,  329,  260,  296],\n",
       "       [ 765, 1258,  821,  905],\n",
       "       [  94,  206,  307,  334],\n",
       "       [ 322,  479,  169,  203],\n",
       "       [ 121,  215,  120,  147],\n",
       "       [ 213,  339,  280,  307],\n",
       "       [ 199,  274,  203,  221],\n",
       "       [ 145,  319,  200,  244],\n",
       "       [ 244,  403,  221,  258],\n",
       "       [ 143,  337,  210,  254],\n",
       "       [  74,  160,  149,  175],\n",
       "       [ 159,  353,  115,  173],\n",
       "       [ 131,  209,  129,  153],\n",
       "       [ 167,  277,  189,  226],\n",
       "       [  85,  258,  390,  446],\n",
       "       [ 322,  682,  300,  371],\n",
       "       [ 404,  585,  429,  468],\n",
       "       [ 176,  301,  212,  238],\n",
       "       [   1,  300,   92,  154],\n",
       "       [ 493,  858,  885,  967],\n",
       "       [ 182,  349,  238,  273],\n",
       "       [ 104,  209,  153,  182],\n",
       "       [ 127,  183,  122,  156],\n",
       "       [  69,  585,   79,  183],\n",
       "       [ 164,  272,  223,  247],\n",
       "       [ 775, 1142,  965, 1101],\n",
       "       [ 142,  343,  253,  304],\n",
       "       [ 626,  768,  280,  359],\n",
       "       [ 358, 1031,  294,  540],\n",
       "       [ 107,  201,  264,  288],\n",
       "       [ 271,  484,  332,  384],\n",
       "       [ 581,  700,  273,  319],\n",
       "       [ 286,  451,  216,  258],\n",
       "       [  99,  223,   20,   50],\n",
       "       [ 224,  307,  158,  183],\n",
       "       [  44,  656,  128,  391],\n",
       "       [ 313,  380,  111,  141],\n",
       "       [ 121,  243,  163,  198],\n",
       "       [ 165,  341,  129,  170],\n",
       "       [ 106,  263,  238,  276],\n",
       "       [ 151,  280,  193,  224],\n",
       "       [ 164,  285,   99,  137],\n",
       "       [ 251,  542,  308,  385],\n",
       "       [ 202,  386,  190,  227],\n",
       "       [ 335,  452,  313,  343],\n",
       "       [ 192,  364,  279,  319],\n",
       "       [  23,  160,  261,  321],\n",
       "       [ 641,  886,  518,  578],\n",
       "       [ 288,  429,  248,  281],\n",
       "       [ 132,  235,  169,  193],\n",
       "       [ 696, 1061,  546,  677],\n",
       "       [ 738, 1009,  654,  722],\n",
       "       [  73,  260,  381,  462],\n",
       "       [ 928, 1219,  543,  606],\n",
       "       [ 256,  381,  233,  261],\n",
       "       [ 360,  500,  171,  206],\n",
       "       [ 856, 1218,  665,  751],\n",
       "       [ 576,  902,  487,  596],\n",
       "       [  97,  229,  338,  378],\n",
       "       [ 392,  517,  161,  213],\n",
       "       [  77,  200,  231,  290],\n",
       "       [ 397,  645,  590,  641],\n",
       "       [1326, 1830, 1464, 1607],\n",
       "       [ 328,  580,  208,  254],\n",
       "       [ 163,  373,  253,  327],\n",
       "       [ 142,  298,  281,  327],\n",
       "       [ 113,  257,  282,  322],\n",
       "       [ 107,  256,  147,  180],\n",
       "       [ 454,  797,  109,  234],\n",
       "       [ 161,  313,  212,  259],\n",
       "       [ 156,  335,  259,  303],\n",
       "       [ 196,  352,  135,  173],\n",
       "       [ 938, 1173,  709,  762],\n",
       "       [ 101,  397,  223,  291],\n",
       "       [ 383,  491,  212,  248],\n",
       "       [ 234,  422,  254,  294],\n",
       "       [ 217,  428,  147,  188],\n",
       "       [ 189,  299,  162,  188],\n",
       "       [ 302,  486,  265,  303],\n",
       "       [ 211,  406,  161,  202],\n",
       "       [ 221,  430,  190,  231],\n",
       "       [1238, 2468, 1012, 1269],\n",
       "       [ 858, 1122,  611,  676],\n",
       "       [ 158,  350,  252,  297],\n",
       "       [ 289,  421,  188,  232],\n",
       "       [ 297,  422,  174,  218],\n",
       "       [  19,   94,  249,  314],\n",
       "       [1024, 1273,  611,  680],\n",
       "       [ 163,  320,  247,  280],\n",
       "       [ 164,  336,  162,  195],\n",
       "       [ 319,  479,  262,  295],\n",
       "       [ 637,  840,  464,  549],\n",
       "       [1149, 1358,  649,  702],\n",
       "       [ 186,  395,  376,  430],\n",
       "       [ 186,  325,  177,  212],\n",
       "       [ 124,  209,  102,  130],\n",
       "       [ 161,  366,  210,  250],\n",
       "       [ 466,  740,  680,  737],\n",
       "       [ 361,  566,  190,  297],\n",
       "       [ 146,  302,  160,  196],\n",
       "       [ 113,  277,  288,  347],\n",
       "       [ 788, 1525, 1675, 1851],\n",
       "       [ 248,  372,  116,  144],\n",
       "       [  66,  174,  302,  332],\n",
       "       [ 456,  651,  722,  778],\n",
       "       [ 235,  349,  319,  352],\n",
       "       [ 163,  302,  357,  427],\n",
       "       [ 448,  638,  273,  338],\n",
       "       [ 208,  370,   89,  173],\n",
       "       [ 150,  378,  217,  269],\n",
       "       [ 142,  441,   55,  167],\n",
       "       [  53,  185,  206,  232],\n",
       "       [ 239,  347,  187,  211],\n",
       "       [ 113,  420,  209,  260],\n",
       "       [ 385,  746,  293,  434],\n",
       "       [  63,  243,  234,  274],\n",
       "       [  23,  408,  173,  391],\n",
       "       [ 137,  352,  141,  186],\n",
       "       [ 175,  290,  228,  255],\n",
       "       [ 563,  675,  207,  238],\n",
       "       [ 158,  389,  129,  193]])"
      ]
     },
     "execution_count": 48,
     "metadata": {},
     "output_type": "execute_result"
    }
   ],
   "source": [
    "labels_dataframe.iloc[:,1:].values"
   ]
  },
  {
   "cell_type": "code",
   "execution_count": 50,
   "metadata": {},
   "outputs": [
    {
     "data": {
      "text/plain": [
       "225"
      ]
     },
     "execution_count": 50,
     "metadata": {},
     "output_type": "execute_result"
    }
   ],
   "source": [
    "len(image_path_list)"
   ]
  },
  {
   "cell_type": "code",
   "execution_count": 54,
   "metadata": {},
   "outputs": [
    {
     "data": {
      "text/plain": [
       "'N1.jpeg'"
      ]
     },
     "execution_count": 54,
     "metadata": {},
     "output_type": "execute_result"
    }
   ],
   "source": [
    "image_path_list[0]"
   ]
  },
  {
   "cell_type": "code",
   "execution_count": 70,
   "metadata": {},
   "outputs": [],
   "source": [
    "def data_preprocessing(labels_dataframe, image_path_list) :\n",
    "    '''\n",
    "        Method Name: data_preprocessing\n",
    "        Description: In this method we will first normalization our data &\n",
    "        we will resize image into (224,224) because it is the standard compatible size of pre trained transfer learning model ie. Inception Resnet V2\n",
    "    '''\n",
    "        \n",
    "    labels = labels_dataframe.iloc[:,1:].values\n",
    "    data = []\n",
    "    output = []\n",
    "    for index in range(len(image_path_list)) :\n",
    "        image = image_path_list[index]\n",
    "        image_array = cv2.imread(image)\n",
    "        height,width,depth = image_array.shape\n",
    "                \n",
    "        load_image = load_img(image, target_size = (224,224))\n",
    "        load_image_array = img_to_array(load_image)\n",
    "        #we wil normalize the image by dividing with maxium number ie. 255(max no for 8 bi images) and the process is call normalization(Min-Max Scaler)\n",
    "        normalize_load_image_arr = load_image_array/255.0\n",
    "\n",
    "        xmin,xmax,ymin,ymax = labels[index]\n",
    "        normalized_xmin, normalized_xmax = xmin/width, xmax/width\n",
    "        normalized_ymin, normalized_ymax = ymin/height, ymax/height\n",
    "        label_normalized = (normalized_xmin, normalized_xmax, normalized_ymin, normalized_ymax)\n",
    "        data.append(normalize_load_image_arr)\n",
    "        output.append(label_normalized)\n",
    "        return data , output\n",
    "      "
   ]
  },
  {
   "cell_type": "code",
   "execution_count": 71,
   "metadata": {},
   "outputs": [],
   "source": [
    "data, output = data_preprocessing(labels_dataframe=labels_dataframe, image_path_list=image_path_list)"
   ]
  },
  {
   "cell_type": "code",
   "execution_count": 72,
   "metadata": {},
   "outputs": [
    {
     "data": {
      "text/plain": [
       "[array([[[0.8352941 , 0.9764706 , 0.96862745],\n",
       "         [0.8392157 , 1.        , 0.99607843],\n",
       "         [0.8392157 , 1.        , 0.99607843],\n",
       "         ...,\n",
       "         [0.5764706 , 0.44313726, 0.4392157 ],\n",
       "         [0.57254905, 0.4509804 , 0.44313726],\n",
       "         [0.64705884, 0.5254902 , 0.5176471 ]],\n",
       " \n",
       "        [[0.9137255 , 1.        , 1.        ],\n",
       "         [0.88235295, 1.        , 1.        ],\n",
       "         [0.87058824, 0.99607843, 0.99215686],\n",
       "         ...,\n",
       "         [0.5921569 , 0.4392157 , 0.44313726],\n",
       "         [0.52156866, 0.3882353 , 0.39215687],\n",
       "         [0.54901963, 0.41568628, 0.41960785]],\n",
       " \n",
       "        [[0.89411765, 0.99215686, 0.9764706 ],\n",
       "         [0.8980392 , 1.        , 0.99607843],\n",
       "         [0.88235295, 1.        , 1.        ],\n",
       "         ...,\n",
       "         [0.5529412 , 0.39607844, 0.4       ],\n",
       "         [0.5647059 , 0.4117647 , 0.42352942],\n",
       "         [0.5411765 , 0.4       , 0.40784314]],\n",
       " \n",
       "        ...,\n",
       " \n",
       "        [[1.        , 1.        , 1.        ],\n",
       "         [1.        , 1.        , 0.99215686],\n",
       "         [0.9882353 , 0.99607843, 0.99215686],\n",
       "         ...,\n",
       "         [0.98039216, 0.9843137 , 0.9647059 ],\n",
       "         [0.627451  , 0.6313726 , 0.6117647 ],\n",
       "         [1.        , 1.        , 0.99215686]],\n",
       " \n",
       "        [[1.        , 0.99607843, 0.94509804],\n",
       "         [0.8980392 , 0.8666667 , 0.8156863 ],\n",
       "         [0.8392157 , 0.8039216 , 0.7372549 ],\n",
       "         ...,\n",
       "         [0.9098039 , 0.92156863, 0.8862745 ],\n",
       "         [0.9843137 , 0.9882353 , 0.9647059 ],\n",
       "         [0.92156863, 0.9254902 , 0.89411765]],\n",
       " \n",
       "        [[0.75686276, 0.70980394, 0.6156863 ],\n",
       "         [0.4392157 , 0.38039216, 0.30588236],\n",
       "         [0.40392157, 0.34901962, 0.29803923],\n",
       "         ...,\n",
       "         [0.8       , 0.8117647 , 0.76862746],\n",
       "         [0.7490196 , 0.7607843 , 0.7254902 ],\n",
       "         [0.6313726 , 0.6431373 , 0.60784316]]], dtype=float32)]"
      ]
     },
     "execution_count": 72,
     "metadata": {},
     "output_type": "execute_result"
    }
   ],
   "source": [
    "data"
   ]
  },
  {
   "cell_type": "code",
   "execution_count": 73,
   "metadata": {},
   "outputs": [],
   "source": [
    "X = np.array(data, dtype=np.float32)\n",
    "y = np.array(output, dtype=np.float32)"
   ]
  },
  {
   "cell_type": "code",
   "execution_count": 77,
   "metadata": {},
   "outputs": [],
   "source": [
    "save_numpy_array_data(file_path=data_ingestion_config.data_transformation_config().transformed_data, array= X)\n",
    "save_numpy_array_data(file_path=data_ingestion_config.data_transformation_config().transformed_output, array=y)"
   ]
  },
  {
   "cell_type": "code",
   "execution_count": 75,
   "metadata": {},
   "outputs": [
    {
     "data": {
      "text/plain": [
       "'d:\\\\Develops\\\\ML_PROJECT\\\\Number_Plate_Recognition\\\\notebook\\\\src\\\\ANPR\\\\artifacts\\\\data_transformation\\\\data.npy'"
      ]
     },
     "execution_count": 75,
     "metadata": {},
     "output_type": "execute_result"
    }
   ],
   "source": [
    "data_ingestion_config.data_transformation_config().transformed_data"
   ]
  },
  {
   "cell_type": "code",
   "execution_count": 76,
   "metadata": {},
   "outputs": [
    {
     "data": {
      "text/plain": [
       "'d:\\\\Develops\\\\ML_PROJECT\\\\Number_Plate_Recognition\\\\notebook\\\\src\\\\ANPR\\\\artifacts\\\\data_transformation\\\\output.npy'"
      ]
     },
     "execution_count": 76,
     "metadata": {},
     "output_type": "execute_result"
    }
   ],
   "source": [
    "data_ingestion_config.data_transformation_config().transformed_output"
   ]
  },
  {
   "cell_type": "code",
   "execution_count": 54,
   "metadata": {},
   "outputs": [
    {
     "data": {
      "text/html": [
       "<div>\n",
       "<style scoped>\n",
       "    .dataframe tbody tr th:only-of-type {\n",
       "        vertical-align: middle;\n",
       "    }\n",
       "\n",
       "    .dataframe tbody tr th {\n",
       "        vertical-align: top;\n",
       "    }\n",
       "\n",
       "    .dataframe thead th {\n",
       "        text-align: right;\n",
       "    }\n",
       "</style>\n",
       "<table border=\"1\" class=\"dataframe\">\n",
       "  <thead>\n",
       "    <tr style=\"text-align: right;\">\n",
       "      <th></th>\n",
       "      <th>xmin</th>\n",
       "      <th>xmax</th>\n",
       "      <th>ymin</th>\n",
       "      <th>ymax</th>\n",
       "    </tr>\n",
       "  </thead>\n",
       "  <tbody>\n",
       "    <tr>\n",
       "      <th>0</th>\n",
       "      <td>1093</td>\n",
       "      <td>1396</td>\n",
       "      <td>645</td>\n",
       "      <td>727</td>\n",
       "    </tr>\n",
       "    <tr>\n",
       "      <th>1</th>\n",
       "      <td>134</td>\n",
       "      <td>301</td>\n",
       "      <td>312</td>\n",
       "      <td>350</td>\n",
       "    </tr>\n",
       "    <tr>\n",
       "      <th>2</th>\n",
       "      <td>31</td>\n",
       "      <td>139</td>\n",
       "      <td>128</td>\n",
       "      <td>161</td>\n",
       "    </tr>\n",
       "    <tr>\n",
       "      <th>3</th>\n",
       "      <td>164</td>\n",
       "      <td>316</td>\n",
       "      <td>216</td>\n",
       "      <td>243</td>\n",
       "    </tr>\n",
       "    <tr>\n",
       "      <th>4</th>\n",
       "      <td>813</td>\n",
       "      <td>1067</td>\n",
       "      <td>665</td>\n",
       "      <td>724</td>\n",
       "    </tr>\n",
       "    <tr>\n",
       "      <th>...</th>\n",
       "      <td>...</td>\n",
       "      <td>...</td>\n",
       "      <td>...</td>\n",
       "      <td>...</td>\n",
       "    </tr>\n",
       "    <tr>\n",
       "      <th>220</th>\n",
       "      <td>23</td>\n",
       "      <td>408</td>\n",
       "      <td>173</td>\n",
       "      <td>391</td>\n",
       "    </tr>\n",
       "    <tr>\n",
       "      <th>221</th>\n",
       "      <td>137</td>\n",
       "      <td>352</td>\n",
       "      <td>141</td>\n",
       "      <td>186</td>\n",
       "    </tr>\n",
       "    <tr>\n",
       "      <th>222</th>\n",
       "      <td>175</td>\n",
       "      <td>290</td>\n",
       "      <td>228</td>\n",
       "      <td>255</td>\n",
       "    </tr>\n",
       "    <tr>\n",
       "      <th>223</th>\n",
       "      <td>563</td>\n",
       "      <td>675</td>\n",
       "      <td>207</td>\n",
       "      <td>238</td>\n",
       "    </tr>\n",
       "    <tr>\n",
       "      <th>224</th>\n",
       "      <td>158</td>\n",
       "      <td>389</td>\n",
       "      <td>129</td>\n",
       "      <td>193</td>\n",
       "    </tr>\n",
       "  </tbody>\n",
       "</table>\n",
       "<p>225 rows × 4 columns</p>\n",
       "</div>"
      ],
      "text/plain": [
       "     xmin  xmax  ymin  ymax\n",
       "0    1093  1396   645   727\n",
       "1     134   301   312   350\n",
       "2      31   139   128   161\n",
       "3     164   316   216   243\n",
       "4     813  1067   665   724\n",
       "..    ...   ...   ...   ...\n",
       "220    23   408   173   391\n",
       "221   137   352   141   186\n",
       "222   175   290   228   255\n",
       "223   563   675   207   238\n",
       "224   158   389   129   193\n",
       "\n",
       "[225 rows x 4 columns]"
      ]
     },
     "execution_count": 54,
     "metadata": {},
     "output_type": "execute_result"
    }
   ],
   "source": [
    "labels_dataframe.iloc[:,1:]"
   ]
  },
  {
   "cell_type": "code",
   "execution_count": 58,
   "metadata": {},
   "outputs": [],
   "source": [
    "xmin,xmax,ymin,ymax = labels_dataframe.iloc[:,1:].values[0]"
   ]
  },
  {
   "cell_type": "code",
   "execution_count": 59,
   "metadata": {},
   "outputs": [
    {
     "data": {
      "text/plain": [
       "np.int64(1396)"
      ]
     },
     "execution_count": 59,
     "metadata": {},
     "output_type": "execute_result"
    }
   ],
   "source": [
    "xmax"
   ]
  },
  {
   "cell_type": "code",
   "execution_count": 60,
   "metadata": {},
   "outputs": [
    {
     "data": {
      "text/plain": [
       "array([1093, 1396,  645,  727])"
      ]
     },
     "execution_count": 60,
     "metadata": {},
     "output_type": "execute_result"
    }
   ],
   "source": [
    "labels_dataframe.iloc[:,1:].values[0]"
   ]
  },
  {
   "cell_type": "code",
   "execution_count": 61,
   "metadata": {},
   "outputs": [],
   "source": [
    "import numpy as np"
   ]
  },
  {
   "cell_type": "code",
   "execution_count": 62,
   "metadata": {},
   "outputs": [
    {
     "data": {
      "text/plain": [
       "'d:\\\\Develops\\\\ML_PROJECT\\\\Number_Plate_Recognition\\\\notebook\\\\src\\\\ANPR\\\\artifacts'"
      ]
     },
     "execution_count": 62,
     "metadata": {},
     "output_type": "execute_result"
    }
   ],
   "source": [
    "os.path.dirname(data_ingestion_config.data_transformation_config().data_transformation_artifact_dir)"
   ]
  },
  {
   "cell_type": "code",
   "execution_count": 63,
   "metadata": {},
   "outputs": [
    {
     "data": {
      "text/plain": [
       "'d:\\\\Develops\\\\ML_PROJECT\\\\Number_Plate_Recognition\\\\notebook\\\\src\\\\ANPR\\\\artifacts\\\\data_transformation'"
      ]
     },
     "execution_count": 63,
     "metadata": {},
     "output_type": "execute_result"
    }
   ],
   "source": [
    "data_ingestion_config.data_transformation_config().data_transformation_artifact_dir"
   ]
  },
  {
   "cell_type": "code",
   "execution_count": 64,
   "metadata": {},
   "outputs": [
    {
     "data": {
      "text/plain": [
       "'d:\\\\Develops\\\\ML_PROJECT\\\\Number_Plate_Recognition\\\\notebook\\\\src\\\\ANPR\\\\artifacts\\\\data_transformation\\\\labels.csv'"
      ]
     },
     "execution_count": 64,
     "metadata": {},
     "output_type": "execute_result"
    }
   ],
   "source": [
    "data_ingestion_config.data_transformation_config().labeled_dataframe"
   ]
  },
  {
   "cell_type": "code",
   "execution_count": null,
   "metadata": {},
   "outputs": [],
   "source": []
  }
 ],
 "metadata": {
  "kernelspec": {
   "display_name": "Python 3",
   "language": "python",
   "name": "python3"
  },
  "language_info": {
   "codemirror_mode": {
    "name": "ipython",
    "version": 3
   },
   "file_extension": ".py",
   "mimetype": "text/x-python",
   "name": "python",
   "nbconvert_exporter": "python",
   "pygments_lexer": "ipython3",
   "version": "3.10.16"
  }
 },
 "nbformat": 4,
 "nbformat_minor": 2
}

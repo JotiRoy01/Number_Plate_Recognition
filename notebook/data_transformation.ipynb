{
 "cells": [
  {
   "cell_type": "code",
   "execution_count": 1,
   "metadata": {},
   "outputs": [],
   "source": [
    "import pandas as pd\n",
    "import numpy as np\n",
    "import cv2\n",
    "import xml.etree.ElementTree as ET\n",
    "from ANPR.entity.config_entity import *\n",
    "from ANPR.entity.artifacts_entity import *\n",
    "from ANPR.exception import ANPR_Exceptioon\n",
    "from ANPR.constants import *\n",
    "from glob import glob\n",
    "from ANPR.utils.common import read_yaml\n",
    "from tensorflow.keras.preprocessing.image import img_to_array, load_img\n",
    "from ANPR.config.configuration import Configuration"
   ]
  },
  {
   "cell_type": "code",
   "execution_count": 2,
   "metadata": {},
   "outputs": [],
   "source": [
    "#!pip install opencv-python"
   ]
  },
  {
   "cell_type": "code",
   "execution_count": null,
   "metadata": {},
   "outputs": [],
   "source": []
  },
  {
   "cell_type": "code",
   "execution_count": 20,
   "metadata": {},
   "outputs": [],
   "source": [
    "data_ingestion_config = Configuration(config_file_path=CONFIG_FILE_PATH, current_time_stamp=CURRENT_TIME_STAMP)\n",
    "data_ingestion_artifacts = data_ingestion_config.get_data_ingestion_artifacts()\n",
    "\n",
    "def get_bounding_box_coordinates():\n",
    "        os.makedirs(data_ingestion_config.data_transformation_config().data_transformation_artifact_dir,exist_ok=True)\n",
    "        \"\"\"\n",
    "        Method Name :   get_bounding_box_coordinates\n",
    "        Description :   This method will indivisually take each file and parse into  xml.etree and find the object and find bndbox object. \n",
    "                        Then we extract xmin,xmax,ymin,ymax and saved those values in the dictionary named labels_dict.\n",
    "        \"\"\"\n",
    "        path = glob(os.path.join(data_ingestion_artifacts.image_data_dir,'*.xml'))\n",
    "        print(path)\n",
    "        labels_dict = dict(filepath=[],xmin=[],xmax=[],ymin=[],ymax=[])\n",
    "        for filename in path:\n",
    "            info = ET.parse(filename)\n",
    "            root = info.getroot()\n",
    "            member_object = root.find('object')\n",
    "            labels_info = member_object.find('bndbox')\n",
    "            xmin = int(labels_info.find('xmin').text)\n",
    "            xmax = int(labels_info.find('xmax').text)\n",
    "            ymin = int(labels_info.find('ymin').text)\n",
    "            ymax = int(labels_info.find('ymax').text)\n",
    "\n",
    "            labels_dict['filepath'].append(filename)\n",
    "            labels_dict['xmin'].append(xmin)\n",
    "            labels_dict['xmax'].append(xmax)\n",
    "            labels_dict['ymin'].append(ymin)\n",
    "            labels_dict['ymax'].append(ymax)\n",
    "            \n",
    "        dataframe = pd.DataFrame(labels_dict)\n",
    "        labels_file_dir = os.path.join(data_ingestion_config.data_transformation_config().data_transformation_artifact_dir, data_ingestion_config.data_transformation_config().labeled_dataframe)\n",
    "        dataframe.to_csv(labels_file_dir,index=False)\n",
    "        return dataframe"
   ]
  },
  {
   "cell_type": "code",
   "execution_count": 21,
   "metadata": {},
   "outputs": [
    {
     "name": "stdout",
     "output_type": "stream",
     "text": [
      "['d:\\\\Develops\\\\ML_PROJECT\\\\Number_Plate_Recognition\\\\notebook\\\\src\\\\ANPR\\\\artifacts\\\\ingested_dir\\\\raw_data\\\\images\\\\N1.xml', 'd:\\\\Develops\\\\ML_PROJECT\\\\Number_Plate_Recognition\\\\notebook\\\\src\\\\ANPR\\\\artifacts\\\\ingested_dir\\\\raw_data\\\\images\\\\N100.xml', 'd:\\\\Develops\\\\ML_PROJECT\\\\Number_Plate_Recognition\\\\notebook\\\\src\\\\ANPR\\\\artifacts\\\\ingested_dir\\\\raw_data\\\\images\\\\N101.xml', 'd:\\\\Develops\\\\ML_PROJECT\\\\Number_Plate_Recognition\\\\notebook\\\\src\\\\ANPR\\\\artifacts\\\\ingested_dir\\\\raw_data\\\\images\\\\N102.xml', 'd:\\\\Develops\\\\ML_PROJECT\\\\Number_Plate_Recognition\\\\notebook\\\\src\\\\ANPR\\\\artifacts\\\\ingested_dir\\\\raw_data\\\\images\\\\N103.xml', 'd:\\\\Develops\\\\ML_PROJECT\\\\Number_Plate_Recognition\\\\notebook\\\\src\\\\ANPR\\\\artifacts\\\\ingested_dir\\\\raw_data\\\\images\\\\N104.xml', 'd:\\\\Develops\\\\ML_PROJECT\\\\Number_Plate_Recognition\\\\notebook\\\\src\\\\ANPR\\\\artifacts\\\\ingested_dir\\\\raw_data\\\\images\\\\N105.xml', 'd:\\\\Develops\\\\ML_PROJECT\\\\Number_Plate_Recognition\\\\notebook\\\\src\\\\ANPR\\\\artifacts\\\\ingested_dir\\\\raw_data\\\\images\\\\N106.xml', 'd:\\\\Develops\\\\ML_PROJECT\\\\Number_Plate_Recognition\\\\notebook\\\\src\\\\ANPR\\\\artifacts\\\\ingested_dir\\\\raw_data\\\\images\\\\N107.xml', 'd:\\\\Develops\\\\ML_PROJECT\\\\Number_Plate_Recognition\\\\notebook\\\\src\\\\ANPR\\\\artifacts\\\\ingested_dir\\\\raw_data\\\\images\\\\N108.xml', 'd:\\\\Develops\\\\ML_PROJECT\\\\Number_Plate_Recognition\\\\notebook\\\\src\\\\ANPR\\\\artifacts\\\\ingested_dir\\\\raw_data\\\\images\\\\N109.xml', 'd:\\\\Develops\\\\ML_PROJECT\\\\Number_Plate_Recognition\\\\notebook\\\\src\\\\ANPR\\\\artifacts\\\\ingested_dir\\\\raw_data\\\\images\\\\N11.xml', 'd:\\\\Develops\\\\ML_PROJECT\\\\Number_Plate_Recognition\\\\notebook\\\\src\\\\ANPR\\\\artifacts\\\\ingested_dir\\\\raw_data\\\\images\\\\N110.xml', 'd:\\\\Develops\\\\ML_PROJECT\\\\Number_Plate_Recognition\\\\notebook\\\\src\\\\ANPR\\\\artifacts\\\\ingested_dir\\\\raw_data\\\\images\\\\N111.xml', 'd:\\\\Develops\\\\ML_PROJECT\\\\Number_Plate_Recognition\\\\notebook\\\\src\\\\ANPR\\\\artifacts\\\\ingested_dir\\\\raw_data\\\\images\\\\N112.xml', 'd:\\\\Develops\\\\ML_PROJECT\\\\Number_Plate_Recognition\\\\notebook\\\\src\\\\ANPR\\\\artifacts\\\\ingested_dir\\\\raw_data\\\\images\\\\N113.xml', 'd:\\\\Develops\\\\ML_PROJECT\\\\Number_Plate_Recognition\\\\notebook\\\\src\\\\ANPR\\\\artifacts\\\\ingested_dir\\\\raw_data\\\\images\\\\N114.xml', 'd:\\\\Develops\\\\ML_PROJECT\\\\Number_Plate_Recognition\\\\notebook\\\\src\\\\ANPR\\\\artifacts\\\\ingested_dir\\\\raw_data\\\\images\\\\N116.xml', 'd:\\\\Develops\\\\ML_PROJECT\\\\Number_Plate_Recognition\\\\notebook\\\\src\\\\ANPR\\\\artifacts\\\\ingested_dir\\\\raw_data\\\\images\\\\N117.xml', 'd:\\\\Develops\\\\ML_PROJECT\\\\Number_Plate_Recognition\\\\notebook\\\\src\\\\ANPR\\\\artifacts\\\\ingested_dir\\\\raw_data\\\\images\\\\N118.xml', 'd:\\\\Develops\\\\ML_PROJECT\\\\Number_Plate_Recognition\\\\notebook\\\\src\\\\ANPR\\\\artifacts\\\\ingested_dir\\\\raw_data\\\\images\\\\N119.xml', 'd:\\\\Develops\\\\ML_PROJECT\\\\Number_Plate_Recognition\\\\notebook\\\\src\\\\ANPR\\\\artifacts\\\\ingested_dir\\\\raw_data\\\\images\\\\N12.xml', 'd:\\\\Develops\\\\ML_PROJECT\\\\Number_Plate_Recognition\\\\notebook\\\\src\\\\ANPR\\\\artifacts\\\\ingested_dir\\\\raw_data\\\\images\\\\N120.xml', 'd:\\\\Develops\\\\ML_PROJECT\\\\Number_Plate_Recognition\\\\notebook\\\\src\\\\ANPR\\\\artifacts\\\\ingested_dir\\\\raw_data\\\\images\\\\N121.xml', 'd:\\\\Develops\\\\ML_PROJECT\\\\Number_Plate_Recognition\\\\notebook\\\\src\\\\ANPR\\\\artifacts\\\\ingested_dir\\\\raw_data\\\\images\\\\N122.xml', 'd:\\\\Develops\\\\ML_PROJECT\\\\Number_Plate_Recognition\\\\notebook\\\\src\\\\ANPR\\\\artifacts\\\\ingested_dir\\\\raw_data\\\\images\\\\N123.xml', 'd:\\\\Develops\\\\ML_PROJECT\\\\Number_Plate_Recognition\\\\notebook\\\\src\\\\ANPR\\\\artifacts\\\\ingested_dir\\\\raw_data\\\\images\\\\N124.xml', 'd:\\\\Develops\\\\ML_PROJECT\\\\Number_Plate_Recognition\\\\notebook\\\\src\\\\ANPR\\\\artifacts\\\\ingested_dir\\\\raw_data\\\\images\\\\N126.xml', 'd:\\\\Develops\\\\ML_PROJECT\\\\Number_Plate_Recognition\\\\notebook\\\\src\\\\ANPR\\\\artifacts\\\\ingested_dir\\\\raw_data\\\\images\\\\N127.xml', 'd:\\\\Develops\\\\ML_PROJECT\\\\Number_Plate_Recognition\\\\notebook\\\\src\\\\ANPR\\\\artifacts\\\\ingested_dir\\\\raw_data\\\\images\\\\N128.xml', 'd:\\\\Develops\\\\ML_PROJECT\\\\Number_Plate_Recognition\\\\notebook\\\\src\\\\ANPR\\\\artifacts\\\\ingested_dir\\\\raw_data\\\\images\\\\N129.xml', 'd:\\\\Develops\\\\ML_PROJECT\\\\Number_Plate_Recognition\\\\notebook\\\\src\\\\ANPR\\\\artifacts\\\\ingested_dir\\\\raw_data\\\\images\\\\N130.xml', 'd:\\\\Develops\\\\ML_PROJECT\\\\Number_Plate_Recognition\\\\notebook\\\\src\\\\ANPR\\\\artifacts\\\\ingested_dir\\\\raw_data\\\\images\\\\N131.xml', 'd:\\\\Develops\\\\ML_PROJECT\\\\Number_Plate_Recognition\\\\notebook\\\\src\\\\ANPR\\\\artifacts\\\\ingested_dir\\\\raw_data\\\\images\\\\N132.xml', 'd:\\\\Develops\\\\ML_PROJECT\\\\Number_Plate_Recognition\\\\notebook\\\\src\\\\ANPR\\\\artifacts\\\\ingested_dir\\\\raw_data\\\\images\\\\N133.xml', 'd:\\\\Develops\\\\ML_PROJECT\\\\Number_Plate_Recognition\\\\notebook\\\\src\\\\ANPR\\\\artifacts\\\\ingested_dir\\\\raw_data\\\\images\\\\N134.xml', 'd:\\\\Develops\\\\ML_PROJECT\\\\Number_Plate_Recognition\\\\notebook\\\\src\\\\ANPR\\\\artifacts\\\\ingested_dir\\\\raw_data\\\\images\\\\N135.xml', 'd:\\\\Develops\\\\ML_PROJECT\\\\Number_Plate_Recognition\\\\notebook\\\\src\\\\ANPR\\\\artifacts\\\\ingested_dir\\\\raw_data\\\\images\\\\N136.xml', 'd:\\\\Develops\\\\ML_PROJECT\\\\Number_Plate_Recognition\\\\notebook\\\\src\\\\ANPR\\\\artifacts\\\\ingested_dir\\\\raw_data\\\\images\\\\N137.xml', 'd:\\\\Develops\\\\ML_PROJECT\\\\Number_Plate_Recognition\\\\notebook\\\\src\\\\ANPR\\\\artifacts\\\\ingested_dir\\\\raw_data\\\\images\\\\N138.xml', 'd:\\\\Develops\\\\ML_PROJECT\\\\Number_Plate_Recognition\\\\notebook\\\\src\\\\ANPR\\\\artifacts\\\\ingested_dir\\\\raw_data\\\\images\\\\N139.xml', 'd:\\\\Develops\\\\ML_PROJECT\\\\Number_Plate_Recognition\\\\notebook\\\\src\\\\ANPR\\\\artifacts\\\\ingested_dir\\\\raw_data\\\\images\\\\N14.xml', 'd:\\\\Develops\\\\ML_PROJECT\\\\Number_Plate_Recognition\\\\notebook\\\\src\\\\ANPR\\\\artifacts\\\\ingested_dir\\\\raw_data\\\\images\\\\N140.xml', 'd:\\\\Develops\\\\ML_PROJECT\\\\Number_Plate_Recognition\\\\notebook\\\\src\\\\ANPR\\\\artifacts\\\\ingested_dir\\\\raw_data\\\\images\\\\N141.xml', 'd:\\\\Develops\\\\ML_PROJECT\\\\Number_Plate_Recognition\\\\notebook\\\\src\\\\ANPR\\\\artifacts\\\\ingested_dir\\\\raw_data\\\\images\\\\N142.xml', 'd:\\\\Develops\\\\ML_PROJECT\\\\Number_Plate_Recognition\\\\notebook\\\\src\\\\ANPR\\\\artifacts\\\\ingested_dir\\\\raw_data\\\\images\\\\N143.xml', 'd:\\\\Develops\\\\ML_PROJECT\\\\Number_Plate_Recognition\\\\notebook\\\\src\\\\ANPR\\\\artifacts\\\\ingested_dir\\\\raw_data\\\\images\\\\N144.xml', 'd:\\\\Develops\\\\ML_PROJECT\\\\Number_Plate_Recognition\\\\notebook\\\\src\\\\ANPR\\\\artifacts\\\\ingested_dir\\\\raw_data\\\\images\\\\N145.xml', 'd:\\\\Develops\\\\ML_PROJECT\\\\Number_Plate_Recognition\\\\notebook\\\\src\\\\ANPR\\\\artifacts\\\\ingested_dir\\\\raw_data\\\\images\\\\N147.xml', 'd:\\\\Develops\\\\ML_PROJECT\\\\Number_Plate_Recognition\\\\notebook\\\\src\\\\ANPR\\\\artifacts\\\\ingested_dir\\\\raw_data\\\\images\\\\N148.xml', 'd:\\\\Develops\\\\ML_PROJECT\\\\Number_Plate_Recognition\\\\notebook\\\\src\\\\ANPR\\\\artifacts\\\\ingested_dir\\\\raw_data\\\\images\\\\N149.xml', 'd:\\\\Develops\\\\ML_PROJECT\\\\Number_Plate_Recognition\\\\notebook\\\\src\\\\ANPR\\\\artifacts\\\\ingested_dir\\\\raw_data\\\\images\\\\N15.xml', 'd:\\\\Develops\\\\ML_PROJECT\\\\Number_Plate_Recognition\\\\notebook\\\\src\\\\ANPR\\\\artifacts\\\\ingested_dir\\\\raw_data\\\\images\\\\N150.xml', 'd:\\\\Develops\\\\ML_PROJECT\\\\Number_Plate_Recognition\\\\notebook\\\\src\\\\ANPR\\\\artifacts\\\\ingested_dir\\\\raw_data\\\\images\\\\N151.xml', 'd:\\\\Develops\\\\ML_PROJECT\\\\Number_Plate_Recognition\\\\notebook\\\\src\\\\ANPR\\\\artifacts\\\\ingested_dir\\\\raw_data\\\\images\\\\N152.xml', 'd:\\\\Develops\\\\ML_PROJECT\\\\Number_Plate_Recognition\\\\notebook\\\\src\\\\ANPR\\\\artifacts\\\\ingested_dir\\\\raw_data\\\\images\\\\N153.xml', 'd:\\\\Develops\\\\ML_PROJECT\\\\Number_Plate_Recognition\\\\notebook\\\\src\\\\ANPR\\\\artifacts\\\\ingested_dir\\\\raw_data\\\\images\\\\N154.xml', 'd:\\\\Develops\\\\ML_PROJECT\\\\Number_Plate_Recognition\\\\notebook\\\\src\\\\ANPR\\\\artifacts\\\\ingested_dir\\\\raw_data\\\\images\\\\N155.xml', 'd:\\\\Develops\\\\ML_PROJECT\\\\Number_Plate_Recognition\\\\notebook\\\\src\\\\ANPR\\\\artifacts\\\\ingested_dir\\\\raw_data\\\\images\\\\N156.xml', 'd:\\\\Develops\\\\ML_PROJECT\\\\Number_Plate_Recognition\\\\notebook\\\\src\\\\ANPR\\\\artifacts\\\\ingested_dir\\\\raw_data\\\\images\\\\N158.xml', 'd:\\\\Develops\\\\ML_PROJECT\\\\Number_Plate_Recognition\\\\notebook\\\\src\\\\ANPR\\\\artifacts\\\\ingested_dir\\\\raw_data\\\\images\\\\N16.xml', 'd:\\\\Develops\\\\ML_PROJECT\\\\Number_Plate_Recognition\\\\notebook\\\\src\\\\ANPR\\\\artifacts\\\\ingested_dir\\\\raw_data\\\\images\\\\N160.xml', 'd:\\\\Develops\\\\ML_PROJECT\\\\Number_Plate_Recognition\\\\notebook\\\\src\\\\ANPR\\\\artifacts\\\\ingested_dir\\\\raw_data\\\\images\\\\N162.xml', 'd:\\\\Develops\\\\ML_PROJECT\\\\Number_Plate_Recognition\\\\notebook\\\\src\\\\ANPR\\\\artifacts\\\\ingested_dir\\\\raw_data\\\\images\\\\N163.xml', 'd:\\\\Develops\\\\ML_PROJECT\\\\Number_Plate_Recognition\\\\notebook\\\\src\\\\ANPR\\\\artifacts\\\\ingested_dir\\\\raw_data\\\\images\\\\N164.xml', 'd:\\\\Develops\\\\ML_PROJECT\\\\Number_Plate_Recognition\\\\notebook\\\\src\\\\ANPR\\\\artifacts\\\\ingested_dir\\\\raw_data\\\\images\\\\N165.xml', 'd:\\\\Develops\\\\ML_PROJECT\\\\Number_Plate_Recognition\\\\notebook\\\\src\\\\ANPR\\\\artifacts\\\\ingested_dir\\\\raw_data\\\\images\\\\N166.xml', 'd:\\\\Develops\\\\ML_PROJECT\\\\Number_Plate_Recognition\\\\notebook\\\\src\\\\ANPR\\\\artifacts\\\\ingested_dir\\\\raw_data\\\\images\\\\N167.xml', 'd:\\\\Develops\\\\ML_PROJECT\\\\Number_Plate_Recognition\\\\notebook\\\\src\\\\ANPR\\\\artifacts\\\\ingested_dir\\\\raw_data\\\\images\\\\N168.xml', 'd:\\\\Develops\\\\ML_PROJECT\\\\Number_Plate_Recognition\\\\notebook\\\\src\\\\ANPR\\\\artifacts\\\\ingested_dir\\\\raw_data\\\\images\\\\N169.xml', 'd:\\\\Develops\\\\ML_PROJECT\\\\Number_Plate_Recognition\\\\notebook\\\\src\\\\ANPR\\\\artifacts\\\\ingested_dir\\\\raw_data\\\\images\\\\N17.xml', 'd:\\\\Develops\\\\ML_PROJECT\\\\Number_Plate_Recognition\\\\notebook\\\\src\\\\ANPR\\\\artifacts\\\\ingested_dir\\\\raw_data\\\\images\\\\N170.xml', 'd:\\\\Develops\\\\ML_PROJECT\\\\Number_Plate_Recognition\\\\notebook\\\\src\\\\ANPR\\\\artifacts\\\\ingested_dir\\\\raw_data\\\\images\\\\N171.xml', 'd:\\\\Develops\\\\ML_PROJECT\\\\Number_Plate_Recognition\\\\notebook\\\\src\\\\ANPR\\\\artifacts\\\\ingested_dir\\\\raw_data\\\\images\\\\N172.xml', 'd:\\\\Develops\\\\ML_PROJECT\\\\Number_Plate_Recognition\\\\notebook\\\\src\\\\ANPR\\\\artifacts\\\\ingested_dir\\\\raw_data\\\\images\\\\N173.xml', 'd:\\\\Develops\\\\ML_PROJECT\\\\Number_Plate_Recognition\\\\notebook\\\\src\\\\ANPR\\\\artifacts\\\\ingested_dir\\\\raw_data\\\\images\\\\N174.xml', 'd:\\\\Develops\\\\ML_PROJECT\\\\Number_Plate_Recognition\\\\notebook\\\\src\\\\ANPR\\\\artifacts\\\\ingested_dir\\\\raw_data\\\\images\\\\N175.xml', 'd:\\\\Develops\\\\ML_PROJECT\\\\Number_Plate_Recognition\\\\notebook\\\\src\\\\ANPR\\\\artifacts\\\\ingested_dir\\\\raw_data\\\\images\\\\N176.xml', 'd:\\\\Develops\\\\ML_PROJECT\\\\Number_Plate_Recognition\\\\notebook\\\\src\\\\ANPR\\\\artifacts\\\\ingested_dir\\\\raw_data\\\\images\\\\N177.xml', 'd:\\\\Develops\\\\ML_PROJECT\\\\Number_Plate_Recognition\\\\notebook\\\\src\\\\ANPR\\\\artifacts\\\\ingested_dir\\\\raw_data\\\\images\\\\N178.xml', 'd:\\\\Develops\\\\ML_PROJECT\\\\Number_Plate_Recognition\\\\notebook\\\\src\\\\ANPR\\\\artifacts\\\\ingested_dir\\\\raw_data\\\\images\\\\N179.xml', 'd:\\\\Develops\\\\ML_PROJECT\\\\Number_Plate_Recognition\\\\notebook\\\\src\\\\ANPR\\\\artifacts\\\\ingested_dir\\\\raw_data\\\\images\\\\N18.xml', 'd:\\\\Develops\\\\ML_PROJECT\\\\Number_Plate_Recognition\\\\notebook\\\\src\\\\ANPR\\\\artifacts\\\\ingested_dir\\\\raw_data\\\\images\\\\N181.xml', 'd:\\\\Develops\\\\ML_PROJECT\\\\Number_Plate_Recognition\\\\notebook\\\\src\\\\ANPR\\\\artifacts\\\\ingested_dir\\\\raw_data\\\\images\\\\N183.xml', 'd:\\\\Develops\\\\ML_PROJECT\\\\Number_Plate_Recognition\\\\notebook\\\\src\\\\ANPR\\\\artifacts\\\\ingested_dir\\\\raw_data\\\\images\\\\N184.xml', 'd:\\\\Develops\\\\ML_PROJECT\\\\Number_Plate_Recognition\\\\notebook\\\\src\\\\ANPR\\\\artifacts\\\\ingested_dir\\\\raw_data\\\\images\\\\N185.xml', 'd:\\\\Develops\\\\ML_PROJECT\\\\Number_Plate_Recognition\\\\notebook\\\\src\\\\ANPR\\\\artifacts\\\\ingested_dir\\\\raw_data\\\\images\\\\N186.xml', 'd:\\\\Develops\\\\ML_PROJECT\\\\Number_Plate_Recognition\\\\notebook\\\\src\\\\ANPR\\\\artifacts\\\\ingested_dir\\\\raw_data\\\\images\\\\N187.xml', 'd:\\\\Develops\\\\ML_PROJECT\\\\Number_Plate_Recognition\\\\notebook\\\\src\\\\ANPR\\\\artifacts\\\\ingested_dir\\\\raw_data\\\\images\\\\N188.xml', 'd:\\\\Develops\\\\ML_PROJECT\\\\Number_Plate_Recognition\\\\notebook\\\\src\\\\ANPR\\\\artifacts\\\\ingested_dir\\\\raw_data\\\\images\\\\N189.xml', 'd:\\\\Develops\\\\ML_PROJECT\\\\Number_Plate_Recognition\\\\notebook\\\\src\\\\ANPR\\\\artifacts\\\\ingested_dir\\\\raw_data\\\\images\\\\N19.xml', 'd:\\\\Develops\\\\ML_PROJECT\\\\Number_Plate_Recognition\\\\notebook\\\\src\\\\ANPR\\\\artifacts\\\\ingested_dir\\\\raw_data\\\\images\\\\N190.xml', 'd:\\\\Develops\\\\ML_PROJECT\\\\Number_Plate_Recognition\\\\notebook\\\\src\\\\ANPR\\\\artifacts\\\\ingested_dir\\\\raw_data\\\\images\\\\N191.xml', 'd:\\\\Develops\\\\ML_PROJECT\\\\Number_Plate_Recognition\\\\notebook\\\\src\\\\ANPR\\\\artifacts\\\\ingested_dir\\\\raw_data\\\\images\\\\N192.xml', 'd:\\\\Develops\\\\ML_PROJECT\\\\Number_Plate_Recognition\\\\notebook\\\\src\\\\ANPR\\\\artifacts\\\\ingested_dir\\\\raw_data\\\\images\\\\N193.xml', 'd:\\\\Develops\\\\ML_PROJECT\\\\Number_Plate_Recognition\\\\notebook\\\\src\\\\ANPR\\\\artifacts\\\\ingested_dir\\\\raw_data\\\\images\\\\N195.xml', 'd:\\\\Develops\\\\ML_PROJECT\\\\Number_Plate_Recognition\\\\notebook\\\\src\\\\ANPR\\\\artifacts\\\\ingested_dir\\\\raw_data\\\\images\\\\N196.xml', 'd:\\\\Develops\\\\ML_PROJECT\\\\Number_Plate_Recognition\\\\notebook\\\\src\\\\ANPR\\\\artifacts\\\\ingested_dir\\\\raw_data\\\\images\\\\N197.xml', 'd:\\\\Develops\\\\ML_PROJECT\\\\Number_Plate_Recognition\\\\notebook\\\\src\\\\ANPR\\\\artifacts\\\\ingested_dir\\\\raw_data\\\\images\\\\N198.xml', 'd:\\\\Develops\\\\ML_PROJECT\\\\Number_Plate_Recognition\\\\notebook\\\\src\\\\ANPR\\\\artifacts\\\\ingested_dir\\\\raw_data\\\\images\\\\N199.xml', 'd:\\\\Develops\\\\ML_PROJECT\\\\Number_Plate_Recognition\\\\notebook\\\\src\\\\ANPR\\\\artifacts\\\\ingested_dir\\\\raw_data\\\\images\\\\N2.xml', 'd:\\\\Develops\\\\ML_PROJECT\\\\Number_Plate_Recognition\\\\notebook\\\\src\\\\ANPR\\\\artifacts\\\\ingested_dir\\\\raw_data\\\\images\\\\N20.xml', 'd:\\\\Develops\\\\ML_PROJECT\\\\Number_Plate_Recognition\\\\notebook\\\\src\\\\ANPR\\\\artifacts\\\\ingested_dir\\\\raw_data\\\\images\\\\N200.xml', 'd:\\\\Develops\\\\ML_PROJECT\\\\Number_Plate_Recognition\\\\notebook\\\\src\\\\ANPR\\\\artifacts\\\\ingested_dir\\\\raw_data\\\\images\\\\N201.xml', 'd:\\\\Develops\\\\ML_PROJECT\\\\Number_Plate_Recognition\\\\notebook\\\\src\\\\ANPR\\\\artifacts\\\\ingested_dir\\\\raw_data\\\\images\\\\N202.xml', 'd:\\\\Develops\\\\ML_PROJECT\\\\Number_Plate_Recognition\\\\notebook\\\\src\\\\ANPR\\\\artifacts\\\\ingested_dir\\\\raw_data\\\\images\\\\N203.xml', 'd:\\\\Develops\\\\ML_PROJECT\\\\Number_Plate_Recognition\\\\notebook\\\\src\\\\ANPR\\\\artifacts\\\\ingested_dir\\\\raw_data\\\\images\\\\N204.xml', 'd:\\\\Develops\\\\ML_PROJECT\\\\Number_Plate_Recognition\\\\notebook\\\\src\\\\ANPR\\\\artifacts\\\\ingested_dir\\\\raw_data\\\\images\\\\N205.xml', 'd:\\\\Develops\\\\ML_PROJECT\\\\Number_Plate_Recognition\\\\notebook\\\\src\\\\ANPR\\\\artifacts\\\\ingested_dir\\\\raw_data\\\\images\\\\N206.xml', 'd:\\\\Develops\\\\ML_PROJECT\\\\Number_Plate_Recognition\\\\notebook\\\\src\\\\ANPR\\\\artifacts\\\\ingested_dir\\\\raw_data\\\\images\\\\N207.xml', 'd:\\\\Develops\\\\ML_PROJECT\\\\Number_Plate_Recognition\\\\notebook\\\\src\\\\ANPR\\\\artifacts\\\\ingested_dir\\\\raw_data\\\\images\\\\N208.xml', 'd:\\\\Develops\\\\ML_PROJECT\\\\Number_Plate_Recognition\\\\notebook\\\\src\\\\ANPR\\\\artifacts\\\\ingested_dir\\\\raw_data\\\\images\\\\N209.xml', 'd:\\\\Develops\\\\ML_PROJECT\\\\Number_Plate_Recognition\\\\notebook\\\\src\\\\ANPR\\\\artifacts\\\\ingested_dir\\\\raw_data\\\\images\\\\N21.xml', 'd:\\\\Develops\\\\ML_PROJECT\\\\Number_Plate_Recognition\\\\notebook\\\\src\\\\ANPR\\\\artifacts\\\\ingested_dir\\\\raw_data\\\\images\\\\N210.xml', 'd:\\\\Develops\\\\ML_PROJECT\\\\Number_Plate_Recognition\\\\notebook\\\\src\\\\ANPR\\\\artifacts\\\\ingested_dir\\\\raw_data\\\\images\\\\N211.xml', 'd:\\\\Develops\\\\ML_PROJECT\\\\Number_Plate_Recognition\\\\notebook\\\\src\\\\ANPR\\\\artifacts\\\\ingested_dir\\\\raw_data\\\\images\\\\N212.xml', 'd:\\\\Develops\\\\ML_PROJECT\\\\Number_Plate_Recognition\\\\notebook\\\\src\\\\ANPR\\\\artifacts\\\\ingested_dir\\\\raw_data\\\\images\\\\N213.xml', 'd:\\\\Develops\\\\ML_PROJECT\\\\Number_Plate_Recognition\\\\notebook\\\\src\\\\ANPR\\\\artifacts\\\\ingested_dir\\\\raw_data\\\\images\\\\N214.xml', 'd:\\\\Develops\\\\ML_PROJECT\\\\Number_Plate_Recognition\\\\notebook\\\\src\\\\ANPR\\\\artifacts\\\\ingested_dir\\\\raw_data\\\\images\\\\N215.xml', 'd:\\\\Develops\\\\ML_PROJECT\\\\Number_Plate_Recognition\\\\notebook\\\\src\\\\ANPR\\\\artifacts\\\\ingested_dir\\\\raw_data\\\\images\\\\N216.xml', 'd:\\\\Develops\\\\ML_PROJECT\\\\Number_Plate_Recognition\\\\notebook\\\\src\\\\ANPR\\\\artifacts\\\\ingested_dir\\\\raw_data\\\\images\\\\N217.xml', 'd:\\\\Develops\\\\ML_PROJECT\\\\Number_Plate_Recognition\\\\notebook\\\\src\\\\ANPR\\\\artifacts\\\\ingested_dir\\\\raw_data\\\\images\\\\N218.xml', 'd:\\\\Develops\\\\ML_PROJECT\\\\Number_Plate_Recognition\\\\notebook\\\\src\\\\ANPR\\\\artifacts\\\\ingested_dir\\\\raw_data\\\\images\\\\N219.xml', 'd:\\\\Develops\\\\ML_PROJECT\\\\Number_Plate_Recognition\\\\notebook\\\\src\\\\ANPR\\\\artifacts\\\\ingested_dir\\\\raw_data\\\\images\\\\N22.xml', 'd:\\\\Develops\\\\ML_PROJECT\\\\Number_Plate_Recognition\\\\notebook\\\\src\\\\ANPR\\\\artifacts\\\\ingested_dir\\\\raw_data\\\\images\\\\N220.xml', 'd:\\\\Develops\\\\ML_PROJECT\\\\Number_Plate_Recognition\\\\notebook\\\\src\\\\ANPR\\\\artifacts\\\\ingested_dir\\\\raw_data\\\\images\\\\N221.xml', 'd:\\\\Develops\\\\ML_PROJECT\\\\Number_Plate_Recognition\\\\notebook\\\\src\\\\ANPR\\\\artifacts\\\\ingested_dir\\\\raw_data\\\\images\\\\N222.xml', 'd:\\\\Develops\\\\ML_PROJECT\\\\Number_Plate_Recognition\\\\notebook\\\\src\\\\ANPR\\\\artifacts\\\\ingested_dir\\\\raw_data\\\\images\\\\N223.xml', 'd:\\\\Develops\\\\ML_PROJECT\\\\Number_Plate_Recognition\\\\notebook\\\\src\\\\ANPR\\\\artifacts\\\\ingested_dir\\\\raw_data\\\\images\\\\N224.xml', 'd:\\\\Develops\\\\ML_PROJECT\\\\Number_Plate_Recognition\\\\notebook\\\\src\\\\ANPR\\\\artifacts\\\\ingested_dir\\\\raw_data\\\\images\\\\N225.xml', 'd:\\\\Develops\\\\ML_PROJECT\\\\Number_Plate_Recognition\\\\notebook\\\\src\\\\ANPR\\\\artifacts\\\\ingested_dir\\\\raw_data\\\\images\\\\N226.xml', 'd:\\\\Develops\\\\ML_PROJECT\\\\Number_Plate_Recognition\\\\notebook\\\\src\\\\ANPR\\\\artifacts\\\\ingested_dir\\\\raw_data\\\\images\\\\N227.xml', 'd:\\\\Develops\\\\ML_PROJECT\\\\Number_Plate_Recognition\\\\notebook\\\\src\\\\ANPR\\\\artifacts\\\\ingested_dir\\\\raw_data\\\\images\\\\N229.xml', 'd:\\\\Develops\\\\ML_PROJECT\\\\Number_Plate_Recognition\\\\notebook\\\\src\\\\ANPR\\\\artifacts\\\\ingested_dir\\\\raw_data\\\\images\\\\N23.xml', 'd:\\\\Develops\\\\ML_PROJECT\\\\Number_Plate_Recognition\\\\notebook\\\\src\\\\ANPR\\\\artifacts\\\\ingested_dir\\\\raw_data\\\\images\\\\N230.xml', 'd:\\\\Develops\\\\ML_PROJECT\\\\Number_Plate_Recognition\\\\notebook\\\\src\\\\ANPR\\\\artifacts\\\\ingested_dir\\\\raw_data\\\\images\\\\N231.xml', 'd:\\\\Develops\\\\ML_PROJECT\\\\Number_Plate_Recognition\\\\notebook\\\\src\\\\ANPR\\\\artifacts\\\\ingested_dir\\\\raw_data\\\\images\\\\N232.xml', 'd:\\\\Develops\\\\ML_PROJECT\\\\Number_Plate_Recognition\\\\notebook\\\\src\\\\ANPR\\\\artifacts\\\\ingested_dir\\\\raw_data\\\\images\\\\N233.xml', 'd:\\\\Develops\\\\ML_PROJECT\\\\Number_Plate_Recognition\\\\notebook\\\\src\\\\ANPR\\\\artifacts\\\\ingested_dir\\\\raw_data\\\\images\\\\N234.xml', 'd:\\\\Develops\\\\ML_PROJECT\\\\Number_Plate_Recognition\\\\notebook\\\\src\\\\ANPR\\\\artifacts\\\\ingested_dir\\\\raw_data\\\\images\\\\N235.xml', 'd:\\\\Develops\\\\ML_PROJECT\\\\Number_Plate_Recognition\\\\notebook\\\\src\\\\ANPR\\\\artifacts\\\\ingested_dir\\\\raw_data\\\\images\\\\N236.xml', 'd:\\\\Develops\\\\ML_PROJECT\\\\Number_Plate_Recognition\\\\notebook\\\\src\\\\ANPR\\\\artifacts\\\\ingested_dir\\\\raw_data\\\\images\\\\N237.xml', 'd:\\\\Develops\\\\ML_PROJECT\\\\Number_Plate_Recognition\\\\notebook\\\\src\\\\ANPR\\\\artifacts\\\\ingested_dir\\\\raw_data\\\\images\\\\N238.xml', 'd:\\\\Develops\\\\ML_PROJECT\\\\Number_Plate_Recognition\\\\notebook\\\\src\\\\ANPR\\\\artifacts\\\\ingested_dir\\\\raw_data\\\\images\\\\N239.xml', 'd:\\\\Develops\\\\ML_PROJECT\\\\Number_Plate_Recognition\\\\notebook\\\\src\\\\ANPR\\\\artifacts\\\\ingested_dir\\\\raw_data\\\\images\\\\N24.xml', 'd:\\\\Develops\\\\ML_PROJECT\\\\Number_Plate_Recognition\\\\notebook\\\\src\\\\ANPR\\\\artifacts\\\\ingested_dir\\\\raw_data\\\\images\\\\N240.xml', 'd:\\\\Develops\\\\ML_PROJECT\\\\Number_Plate_Recognition\\\\notebook\\\\src\\\\ANPR\\\\artifacts\\\\ingested_dir\\\\raw_data\\\\images\\\\N241.xml', 'd:\\\\Develops\\\\ML_PROJECT\\\\Number_Plate_Recognition\\\\notebook\\\\src\\\\ANPR\\\\artifacts\\\\ingested_dir\\\\raw_data\\\\images\\\\N242.xml', 'd:\\\\Develops\\\\ML_PROJECT\\\\Number_Plate_Recognition\\\\notebook\\\\src\\\\ANPR\\\\artifacts\\\\ingested_dir\\\\raw_data\\\\images\\\\N244.xml', 'd:\\\\Develops\\\\ML_PROJECT\\\\Number_Plate_Recognition\\\\notebook\\\\src\\\\ANPR\\\\artifacts\\\\ingested_dir\\\\raw_data\\\\images\\\\N245.xml', 'd:\\\\Develops\\\\ML_PROJECT\\\\Number_Plate_Recognition\\\\notebook\\\\src\\\\ANPR\\\\artifacts\\\\ingested_dir\\\\raw_data\\\\images\\\\N246.xml', 'd:\\\\Develops\\\\ML_PROJECT\\\\Number_Plate_Recognition\\\\notebook\\\\src\\\\ANPR\\\\artifacts\\\\ingested_dir\\\\raw_data\\\\images\\\\N247.xml', 'd:\\\\Develops\\\\ML_PROJECT\\\\Number_Plate_Recognition\\\\notebook\\\\src\\\\ANPR\\\\artifacts\\\\ingested_dir\\\\raw_data\\\\images\\\\N248.xml', 'd:\\\\Develops\\\\ML_PROJECT\\\\Number_Plate_Recognition\\\\notebook\\\\src\\\\ANPR\\\\artifacts\\\\ingested_dir\\\\raw_data\\\\images\\\\N25.xml', 'd:\\\\Develops\\\\ML_PROJECT\\\\Number_Plate_Recognition\\\\notebook\\\\src\\\\ANPR\\\\artifacts\\\\ingested_dir\\\\raw_data\\\\images\\\\N27.xml', 'd:\\\\Develops\\\\ML_PROJECT\\\\Number_Plate_Recognition\\\\notebook\\\\src\\\\ANPR\\\\artifacts\\\\ingested_dir\\\\raw_data\\\\images\\\\N28.xml', 'd:\\\\Develops\\\\ML_PROJECT\\\\Number_Plate_Recognition\\\\notebook\\\\src\\\\ANPR\\\\artifacts\\\\ingested_dir\\\\raw_data\\\\images\\\\N3.xml', 'd:\\\\Develops\\\\ML_PROJECT\\\\Number_Plate_Recognition\\\\notebook\\\\src\\\\ANPR\\\\artifacts\\\\ingested_dir\\\\raw_data\\\\images\\\\N30.xml', 'd:\\\\Develops\\\\ML_PROJECT\\\\Number_Plate_Recognition\\\\notebook\\\\src\\\\ANPR\\\\artifacts\\\\ingested_dir\\\\raw_data\\\\images\\\\N31.xml', 'd:\\\\Develops\\\\ML_PROJECT\\\\Number_Plate_Recognition\\\\notebook\\\\src\\\\ANPR\\\\artifacts\\\\ingested_dir\\\\raw_data\\\\images\\\\N32.xml', 'd:\\\\Develops\\\\ML_PROJECT\\\\Number_Plate_Recognition\\\\notebook\\\\src\\\\ANPR\\\\artifacts\\\\ingested_dir\\\\raw_data\\\\images\\\\N33.xml', 'd:\\\\Develops\\\\ML_PROJECT\\\\Number_Plate_Recognition\\\\notebook\\\\src\\\\ANPR\\\\artifacts\\\\ingested_dir\\\\raw_data\\\\images\\\\N34.xml', 'd:\\\\Develops\\\\ML_PROJECT\\\\Number_Plate_Recognition\\\\notebook\\\\src\\\\ANPR\\\\artifacts\\\\ingested_dir\\\\raw_data\\\\images\\\\N35.xml', 'd:\\\\Develops\\\\ML_PROJECT\\\\Number_Plate_Recognition\\\\notebook\\\\src\\\\ANPR\\\\artifacts\\\\ingested_dir\\\\raw_data\\\\images\\\\N36.xml', 'd:\\\\Develops\\\\ML_PROJECT\\\\Number_Plate_Recognition\\\\notebook\\\\src\\\\ANPR\\\\artifacts\\\\ingested_dir\\\\raw_data\\\\images\\\\N37.xml', 'd:\\\\Develops\\\\ML_PROJECT\\\\Number_Plate_Recognition\\\\notebook\\\\src\\\\ANPR\\\\artifacts\\\\ingested_dir\\\\raw_data\\\\images\\\\N38.xml', 'd:\\\\Develops\\\\ML_PROJECT\\\\Number_Plate_Recognition\\\\notebook\\\\src\\\\ANPR\\\\artifacts\\\\ingested_dir\\\\raw_data\\\\images\\\\N4.xml', 'd:\\\\Develops\\\\ML_PROJECT\\\\Number_Plate_Recognition\\\\notebook\\\\src\\\\ANPR\\\\artifacts\\\\ingested_dir\\\\raw_data\\\\images\\\\N40.xml', 'd:\\\\Develops\\\\ML_PROJECT\\\\Number_Plate_Recognition\\\\notebook\\\\src\\\\ANPR\\\\artifacts\\\\ingested_dir\\\\raw_data\\\\images\\\\N42.xml', 'd:\\\\Develops\\\\ML_PROJECT\\\\Number_Plate_Recognition\\\\notebook\\\\src\\\\ANPR\\\\artifacts\\\\ingested_dir\\\\raw_data\\\\images\\\\N43.xml', 'd:\\\\Develops\\\\ML_PROJECT\\\\Number_Plate_Recognition\\\\notebook\\\\src\\\\ANPR\\\\artifacts\\\\ingested_dir\\\\raw_data\\\\images\\\\N44.xml', 'd:\\\\Develops\\\\ML_PROJECT\\\\Number_Plate_Recognition\\\\notebook\\\\src\\\\ANPR\\\\artifacts\\\\ingested_dir\\\\raw_data\\\\images\\\\N45.xml', 'd:\\\\Develops\\\\ML_PROJECT\\\\Number_Plate_Recognition\\\\notebook\\\\src\\\\ANPR\\\\artifacts\\\\ingested_dir\\\\raw_data\\\\images\\\\N46.xml', 'd:\\\\Develops\\\\ML_PROJECT\\\\Number_Plate_Recognition\\\\notebook\\\\src\\\\ANPR\\\\artifacts\\\\ingested_dir\\\\raw_data\\\\images\\\\N47.xml', 'd:\\\\Develops\\\\ML_PROJECT\\\\Number_Plate_Recognition\\\\notebook\\\\src\\\\ANPR\\\\artifacts\\\\ingested_dir\\\\raw_data\\\\images\\\\N48.xml', 'd:\\\\Develops\\\\ML_PROJECT\\\\Number_Plate_Recognition\\\\notebook\\\\src\\\\ANPR\\\\artifacts\\\\ingested_dir\\\\raw_data\\\\images\\\\N49.xml', 'd:\\\\Develops\\\\ML_PROJECT\\\\Number_Plate_Recognition\\\\notebook\\\\src\\\\ANPR\\\\artifacts\\\\ingested_dir\\\\raw_data\\\\images\\\\N5.xml', 'd:\\\\Develops\\\\ML_PROJECT\\\\Number_Plate_Recognition\\\\notebook\\\\src\\\\ANPR\\\\artifacts\\\\ingested_dir\\\\raw_data\\\\images\\\\N50.xml', 'd:\\\\Develops\\\\ML_PROJECT\\\\Number_Plate_Recognition\\\\notebook\\\\src\\\\ANPR\\\\artifacts\\\\ingested_dir\\\\raw_data\\\\images\\\\N51.xml', 'd:\\\\Develops\\\\ML_PROJECT\\\\Number_Plate_Recognition\\\\notebook\\\\src\\\\ANPR\\\\artifacts\\\\ingested_dir\\\\raw_data\\\\images\\\\N52.xml', 'd:\\\\Develops\\\\ML_PROJECT\\\\Number_Plate_Recognition\\\\notebook\\\\src\\\\ANPR\\\\artifacts\\\\ingested_dir\\\\raw_data\\\\images\\\\N53.xml', 'd:\\\\Develops\\\\ML_PROJECT\\\\Number_Plate_Recognition\\\\notebook\\\\src\\\\ANPR\\\\artifacts\\\\ingested_dir\\\\raw_data\\\\images\\\\N54.xml', 'd:\\\\Develops\\\\ML_PROJECT\\\\Number_Plate_Recognition\\\\notebook\\\\src\\\\ANPR\\\\artifacts\\\\ingested_dir\\\\raw_data\\\\images\\\\N56.xml', 'd:\\\\Develops\\\\ML_PROJECT\\\\Number_Plate_Recognition\\\\notebook\\\\src\\\\ANPR\\\\artifacts\\\\ingested_dir\\\\raw_data\\\\images\\\\N57.xml', 'd:\\\\Develops\\\\ML_PROJECT\\\\Number_Plate_Recognition\\\\notebook\\\\src\\\\ANPR\\\\artifacts\\\\ingested_dir\\\\raw_data\\\\images\\\\N58.xml', 'd:\\\\Develops\\\\ML_PROJECT\\\\Number_Plate_Recognition\\\\notebook\\\\src\\\\ANPR\\\\artifacts\\\\ingested_dir\\\\raw_data\\\\images\\\\N59.xml', 'd:\\\\Develops\\\\ML_PROJECT\\\\Number_Plate_Recognition\\\\notebook\\\\src\\\\ANPR\\\\artifacts\\\\ingested_dir\\\\raw_data\\\\images\\\\N6.xml', 'd:\\\\Develops\\\\ML_PROJECT\\\\Number_Plate_Recognition\\\\notebook\\\\src\\\\ANPR\\\\artifacts\\\\ingested_dir\\\\raw_data\\\\images\\\\N61.xml', 'd:\\\\Develops\\\\ML_PROJECT\\\\Number_Plate_Recognition\\\\notebook\\\\src\\\\ANPR\\\\artifacts\\\\ingested_dir\\\\raw_data\\\\images\\\\N62.xml', 'd:\\\\Develops\\\\ML_PROJECT\\\\Number_Plate_Recognition\\\\notebook\\\\src\\\\ANPR\\\\artifacts\\\\ingested_dir\\\\raw_data\\\\images\\\\N63.xml', 'd:\\\\Develops\\\\ML_PROJECT\\\\Number_Plate_Recognition\\\\notebook\\\\src\\\\ANPR\\\\artifacts\\\\ingested_dir\\\\raw_data\\\\images\\\\N64.xml', 'd:\\\\Develops\\\\ML_PROJECT\\\\Number_Plate_Recognition\\\\notebook\\\\src\\\\ANPR\\\\artifacts\\\\ingested_dir\\\\raw_data\\\\images\\\\N65.xml', 'd:\\\\Develops\\\\ML_PROJECT\\\\Number_Plate_Recognition\\\\notebook\\\\src\\\\ANPR\\\\artifacts\\\\ingested_dir\\\\raw_data\\\\images\\\\N66.xml', 'd:\\\\Develops\\\\ML_PROJECT\\\\Number_Plate_Recognition\\\\notebook\\\\src\\\\ANPR\\\\artifacts\\\\ingested_dir\\\\raw_data\\\\images\\\\N67.xml', 'd:\\\\Develops\\\\ML_PROJECT\\\\Number_Plate_Recognition\\\\notebook\\\\src\\\\ANPR\\\\artifacts\\\\ingested_dir\\\\raw_data\\\\images\\\\N68.xml', 'd:\\\\Develops\\\\ML_PROJECT\\\\Number_Plate_Recognition\\\\notebook\\\\src\\\\ANPR\\\\artifacts\\\\ingested_dir\\\\raw_data\\\\images\\\\N69.xml', 'd:\\\\Develops\\\\ML_PROJECT\\\\Number_Plate_Recognition\\\\notebook\\\\src\\\\ANPR\\\\artifacts\\\\ingested_dir\\\\raw_data\\\\images\\\\N7.xml', 'd:\\\\Develops\\\\ML_PROJECT\\\\Number_Plate_Recognition\\\\notebook\\\\src\\\\ANPR\\\\artifacts\\\\ingested_dir\\\\raw_data\\\\images\\\\N70.xml', 'd:\\\\Develops\\\\ML_PROJECT\\\\Number_Plate_Recognition\\\\notebook\\\\src\\\\ANPR\\\\artifacts\\\\ingested_dir\\\\raw_data\\\\images\\\\N72.xml', 'd:\\\\Develops\\\\ML_PROJECT\\\\Number_Plate_Recognition\\\\notebook\\\\src\\\\ANPR\\\\artifacts\\\\ingested_dir\\\\raw_data\\\\images\\\\N73.xml', 'd:\\\\Develops\\\\ML_PROJECT\\\\Number_Plate_Recognition\\\\notebook\\\\src\\\\ANPR\\\\artifacts\\\\ingested_dir\\\\raw_data\\\\images\\\\N74.xml', 'd:\\\\Develops\\\\ML_PROJECT\\\\Number_Plate_Recognition\\\\notebook\\\\src\\\\ANPR\\\\artifacts\\\\ingested_dir\\\\raw_data\\\\images\\\\N75.xml', 'd:\\\\Develops\\\\ML_PROJECT\\\\Number_Plate_Recognition\\\\notebook\\\\src\\\\ANPR\\\\artifacts\\\\ingested_dir\\\\raw_data\\\\images\\\\N77.xml', 'd:\\\\Develops\\\\ML_PROJECT\\\\Number_Plate_Recognition\\\\notebook\\\\src\\\\ANPR\\\\artifacts\\\\ingested_dir\\\\raw_data\\\\images\\\\N78.xml', 'd:\\\\Develops\\\\ML_PROJECT\\\\Number_Plate_Recognition\\\\notebook\\\\src\\\\ANPR\\\\artifacts\\\\ingested_dir\\\\raw_data\\\\images\\\\N79.xml', 'd:\\\\Develops\\\\ML_PROJECT\\\\Number_Plate_Recognition\\\\notebook\\\\src\\\\ANPR\\\\artifacts\\\\ingested_dir\\\\raw_data\\\\images\\\\N8.xml', 'd:\\\\Develops\\\\ML_PROJECT\\\\Number_Plate_Recognition\\\\notebook\\\\src\\\\ANPR\\\\artifacts\\\\ingested_dir\\\\raw_data\\\\images\\\\N80.xml', 'd:\\\\Develops\\\\ML_PROJECT\\\\Number_Plate_Recognition\\\\notebook\\\\src\\\\ANPR\\\\artifacts\\\\ingested_dir\\\\raw_data\\\\images\\\\N81.xml', 'd:\\\\Develops\\\\ML_PROJECT\\\\Number_Plate_Recognition\\\\notebook\\\\src\\\\ANPR\\\\artifacts\\\\ingested_dir\\\\raw_data\\\\images\\\\N82.xml', 'd:\\\\Develops\\\\ML_PROJECT\\\\Number_Plate_Recognition\\\\notebook\\\\src\\\\ANPR\\\\artifacts\\\\ingested_dir\\\\raw_data\\\\images\\\\N84.xml', 'd:\\\\Develops\\\\ML_PROJECT\\\\Number_Plate_Recognition\\\\notebook\\\\src\\\\ANPR\\\\artifacts\\\\ingested_dir\\\\raw_data\\\\images\\\\N85.xml', 'd:\\\\Develops\\\\ML_PROJECT\\\\Number_Plate_Recognition\\\\notebook\\\\src\\\\ANPR\\\\artifacts\\\\ingested_dir\\\\raw_data\\\\images\\\\N86.xml', 'd:\\\\Develops\\\\ML_PROJECT\\\\Number_Plate_Recognition\\\\notebook\\\\src\\\\ANPR\\\\artifacts\\\\ingested_dir\\\\raw_data\\\\images\\\\N88.xml', 'd:\\\\Develops\\\\ML_PROJECT\\\\Number_Plate_Recognition\\\\notebook\\\\src\\\\ANPR\\\\artifacts\\\\ingested_dir\\\\raw_data\\\\images\\\\N89.xml', 'd:\\\\Develops\\\\ML_PROJECT\\\\Number_Plate_Recognition\\\\notebook\\\\src\\\\ANPR\\\\artifacts\\\\ingested_dir\\\\raw_data\\\\images\\\\N9.xml', 'd:\\\\Develops\\\\ML_PROJECT\\\\Number_Plate_Recognition\\\\notebook\\\\src\\\\ANPR\\\\artifacts\\\\ingested_dir\\\\raw_data\\\\images\\\\N90.xml', 'd:\\\\Develops\\\\ML_PROJECT\\\\Number_Plate_Recognition\\\\notebook\\\\src\\\\ANPR\\\\artifacts\\\\ingested_dir\\\\raw_data\\\\images\\\\N91.xml', 'd:\\\\Develops\\\\ML_PROJECT\\\\Number_Plate_Recognition\\\\notebook\\\\src\\\\ANPR\\\\artifacts\\\\ingested_dir\\\\raw_data\\\\images\\\\N92.xml', 'd:\\\\Develops\\\\ML_PROJECT\\\\Number_Plate_Recognition\\\\notebook\\\\src\\\\ANPR\\\\artifacts\\\\ingested_dir\\\\raw_data\\\\images\\\\N93.xml', 'd:\\\\Develops\\\\ML_PROJECT\\\\Number_Plate_Recognition\\\\notebook\\\\src\\\\ANPR\\\\artifacts\\\\ingested_dir\\\\raw_data\\\\images\\\\N94.xml', 'd:\\\\Develops\\\\ML_PROJECT\\\\Number_Plate_Recognition\\\\notebook\\\\src\\\\ANPR\\\\artifacts\\\\ingested_dir\\\\raw_data\\\\images\\\\N95.xml', 'd:\\\\Develops\\\\ML_PROJECT\\\\Number_Plate_Recognition\\\\notebook\\\\src\\\\ANPR\\\\artifacts\\\\ingested_dir\\\\raw_data\\\\images\\\\N96.xml', 'd:\\\\Develops\\\\ML_PROJECT\\\\Number_Plate_Recognition\\\\notebook\\\\src\\\\ANPR\\\\artifacts\\\\ingested_dir\\\\raw_data\\\\images\\\\N97.xml', 'd:\\\\Develops\\\\ML_PROJECT\\\\Number_Plate_Recognition\\\\notebook\\\\src\\\\ANPR\\\\artifacts\\\\ingested_dir\\\\raw_data\\\\images\\\\N98.xml', 'd:\\\\Develops\\\\ML_PROJECT\\\\Number_Plate_Recognition\\\\notebook\\\\src\\\\ANPR\\\\artifacts\\\\ingested_dir\\\\raw_data\\\\images\\\\N99.xml']\n"
     ]
    },
    {
     "data": {
      "text/html": [
       "<div>\n",
       "<style scoped>\n",
       "    .dataframe tbody tr th:only-of-type {\n",
       "        vertical-align: middle;\n",
       "    }\n",
       "\n",
       "    .dataframe tbody tr th {\n",
       "        vertical-align: top;\n",
       "    }\n",
       "\n",
       "    .dataframe thead th {\n",
       "        text-align: right;\n",
       "    }\n",
       "</style>\n",
       "<table border=\"1\" class=\"dataframe\">\n",
       "  <thead>\n",
       "    <tr style=\"text-align: right;\">\n",
       "      <th></th>\n",
       "      <th>filepath</th>\n",
       "      <th>xmin</th>\n",
       "      <th>xmax</th>\n",
       "      <th>ymin</th>\n",
       "      <th>ymax</th>\n",
       "    </tr>\n",
       "  </thead>\n",
       "  <tbody>\n",
       "    <tr>\n",
       "      <th>0</th>\n",
       "      <td>d:\\Develops\\ML_PROJECT\\Number_Plate_Recognitio...</td>\n",
       "      <td>1093</td>\n",
       "      <td>1396</td>\n",
       "      <td>645</td>\n",
       "      <td>727</td>\n",
       "    </tr>\n",
       "    <tr>\n",
       "      <th>1</th>\n",
       "      <td>d:\\Develops\\ML_PROJECT\\Number_Plate_Recognitio...</td>\n",
       "      <td>134</td>\n",
       "      <td>301</td>\n",
       "      <td>312</td>\n",
       "      <td>350</td>\n",
       "    </tr>\n",
       "    <tr>\n",
       "      <th>2</th>\n",
       "      <td>d:\\Develops\\ML_PROJECT\\Number_Plate_Recognitio...</td>\n",
       "      <td>31</td>\n",
       "      <td>139</td>\n",
       "      <td>128</td>\n",
       "      <td>161</td>\n",
       "    </tr>\n",
       "    <tr>\n",
       "      <th>3</th>\n",
       "      <td>d:\\Develops\\ML_PROJECT\\Number_Plate_Recognitio...</td>\n",
       "      <td>164</td>\n",
       "      <td>316</td>\n",
       "      <td>216</td>\n",
       "      <td>243</td>\n",
       "    </tr>\n",
       "    <tr>\n",
       "      <th>4</th>\n",
       "      <td>d:\\Develops\\ML_PROJECT\\Number_Plate_Recognitio...</td>\n",
       "      <td>813</td>\n",
       "      <td>1067</td>\n",
       "      <td>665</td>\n",
       "      <td>724</td>\n",
       "    </tr>\n",
       "    <tr>\n",
       "      <th>...</th>\n",
       "      <td>...</td>\n",
       "      <td>...</td>\n",
       "      <td>...</td>\n",
       "      <td>...</td>\n",
       "      <td>...</td>\n",
       "    </tr>\n",
       "    <tr>\n",
       "      <th>220</th>\n",
       "      <td>d:\\Develops\\ML_PROJECT\\Number_Plate_Recognitio...</td>\n",
       "      <td>23</td>\n",
       "      <td>408</td>\n",
       "      <td>173</td>\n",
       "      <td>391</td>\n",
       "    </tr>\n",
       "    <tr>\n",
       "      <th>221</th>\n",
       "      <td>d:\\Develops\\ML_PROJECT\\Number_Plate_Recognitio...</td>\n",
       "      <td>137</td>\n",
       "      <td>352</td>\n",
       "      <td>141</td>\n",
       "      <td>186</td>\n",
       "    </tr>\n",
       "    <tr>\n",
       "      <th>222</th>\n",
       "      <td>d:\\Develops\\ML_PROJECT\\Number_Plate_Recognitio...</td>\n",
       "      <td>175</td>\n",
       "      <td>290</td>\n",
       "      <td>228</td>\n",
       "      <td>255</td>\n",
       "    </tr>\n",
       "    <tr>\n",
       "      <th>223</th>\n",
       "      <td>d:\\Develops\\ML_PROJECT\\Number_Plate_Recognitio...</td>\n",
       "      <td>563</td>\n",
       "      <td>675</td>\n",
       "      <td>207</td>\n",
       "      <td>238</td>\n",
       "    </tr>\n",
       "    <tr>\n",
       "      <th>224</th>\n",
       "      <td>d:\\Develops\\ML_PROJECT\\Number_Plate_Recognitio...</td>\n",
       "      <td>158</td>\n",
       "      <td>389</td>\n",
       "      <td>129</td>\n",
       "      <td>193</td>\n",
       "    </tr>\n",
       "  </tbody>\n",
       "</table>\n",
       "<p>225 rows × 5 columns</p>\n",
       "</div>"
      ],
      "text/plain": [
       "                                              filepath  xmin  xmax  ymin  ymax\n",
       "0    d:\\Develops\\ML_PROJECT\\Number_Plate_Recognitio...  1093  1396   645   727\n",
       "1    d:\\Develops\\ML_PROJECT\\Number_Plate_Recognitio...   134   301   312   350\n",
       "2    d:\\Develops\\ML_PROJECT\\Number_Plate_Recognitio...    31   139   128   161\n",
       "3    d:\\Develops\\ML_PROJECT\\Number_Plate_Recognitio...   164   316   216   243\n",
       "4    d:\\Develops\\ML_PROJECT\\Number_Plate_Recognitio...   813  1067   665   724\n",
       "..                                                 ...   ...   ...   ...   ...\n",
       "220  d:\\Develops\\ML_PROJECT\\Number_Plate_Recognitio...    23   408   173   391\n",
       "221  d:\\Develops\\ML_PROJECT\\Number_Plate_Recognitio...   137   352   141   186\n",
       "222  d:\\Develops\\ML_PROJECT\\Number_Plate_Recognitio...   175   290   228   255\n",
       "223  d:\\Develops\\ML_PROJECT\\Number_Plate_Recognitio...   563   675   207   238\n",
       "224  d:\\Develops\\ML_PROJECT\\Number_Plate_Recognitio...   158   389   129   193\n",
       "\n",
       "[225 rows x 5 columns]"
      ]
     },
     "execution_count": 21,
     "metadata": {},
     "output_type": "execute_result"
    }
   ],
   "source": [
    "get_bounding_box_coordinates()"
   ]
  },
  {
   "cell_type": "code",
   "execution_count": 23,
   "metadata": {},
   "outputs": [
    {
     "name": "stdout",
     "output_type": "stream",
     "text": [
      "[]\n"
     ]
    },
    {
     "data": {
      "text/html": [
       "<div>\n",
       "<style scoped>\n",
       "    .dataframe tbody tr th:only-of-type {\n",
       "        vertical-align: middle;\n",
       "    }\n",
       "\n",
       "    .dataframe tbody tr th {\n",
       "        vertical-align: top;\n",
       "    }\n",
       "\n",
       "    .dataframe thead th {\n",
       "        text-align: right;\n",
       "    }\n",
       "</style>\n",
       "<table border=\"1\" class=\"dataframe\">\n",
       "  <thead>\n",
       "    <tr style=\"text-align: right;\">\n",
       "      <th></th>\n",
       "      <th>filepath</th>\n",
       "      <th>xmin</th>\n",
       "      <th>xmax</th>\n",
       "      <th>ymin</th>\n",
       "      <th>ymax</th>\n",
       "    </tr>\n",
       "  </thead>\n",
       "  <tbody>\n",
       "  </tbody>\n",
       "</table>\n",
       "</div>"
      ],
      "text/plain": [
       "Empty DataFrame\n",
       "Columns: [filepath, xmin, xmax, ymin, ymax]\n",
       "Index: []"
      ]
     },
     "execution_count": 23,
     "metadata": {},
     "output_type": "execute_result"
    }
   ],
   "source": [
    "data_tranfomation.get_bounding_box_coordinates()"
   ]
  },
  {
   "cell_type": "code",
   "execution_count": 2,
   "metadata": {},
   "outputs": [],
   "source": [
    "CONFIG_FILE_PATH = \"D:/Develops/ML_PROJECT/Number_Plate_Recognition/config/config.yaml\""
   ]
  },
  {
   "cell_type": "code",
   "execution_count": 3,
   "metadata": {},
   "outputs": [],
   "source": [
    "config_info = read_yaml(config_file_path=CONFIG_FILE_PATH)"
   ]
  },
  {
   "cell_type": "code",
   "execution_count": 4,
   "metadata": {},
   "outputs": [],
   "source": [
    "data_transformation_config = config_info[DATA_TRANSFORMATION_CONFIG]"
   ]
  },
  {
   "cell_type": "code",
   "execution_count": 5,
   "metadata": {},
   "outputs": [
    {
     "data": {
      "text/plain": [
       "{'data_transformation_artifact_dir': 'data_transformation',\n",
       " 'labeled_dataframe': 'labels.csv',\n",
       " 'transformed_data': 'data.npy',\n",
       " 'transformed_output': 'output.npy'}"
      ]
     },
     "execution_count": 5,
     "metadata": {},
     "output_type": "execute_result"
    }
   ],
   "source": [
    "data_transformation_config"
   ]
  },
  {
   "cell_type": "code",
   "execution_count": 13,
   "metadata": {},
   "outputs": [],
   "source": [
    "#DataIngestionConfig()"
   ]
  },
  {
   "cell_type": "code",
   "execution_count": 6,
   "metadata": {},
   "outputs": [],
   "source": [
    "data_ingestion_config = Configuration(config_file_path=CONFIG_FILE_PATH, current_time_stamp=CURRENT_TIME_STAMP)"
   ]
  },
  {
   "cell_type": "code",
   "execution_count": 10,
   "metadata": {},
   "outputs": [],
   "source": [
    "data_ingestion_artifacts = data_ingestion_config.get_data_ingestion_artifacts()"
   ]
  },
  {
   "cell_type": "code",
   "execution_count": 11,
   "metadata": {},
   "outputs": [
    {
     "data": {
      "text/plain": [
       "DataIngestionArtifacts(image_data_dir='d:\\\\Develops\\\\ML_PROJECT\\\\Number_Plate_Recognition\\\\notebook\\\\src\\\\ANPR\\\\artifacts\\\\ingested_dir\\\\raw_data\\\\images')"
      ]
     },
     "execution_count": 11,
     "metadata": {},
     "output_type": "execute_result"
    }
   ],
   "source": [
    "data_ingestion_artifacts"
   ]
  },
  {
   "cell_type": "code",
   "execution_count": 13,
   "metadata": {},
   "outputs": [
    {
     "data": {
      "text/plain": [
       "'d:\\\\Develops\\\\ML_PROJECT\\\\Number_Plate_Recognition\\\\notebook\\\\src\\\\ANPR\\\\artifacts\\\\data_transformation'"
      ]
     },
     "execution_count": 13,
     "metadata": {},
     "output_type": "execute_result"
    }
   ],
   "source": [
    "data_ingestion_config.data_transformation_config().data_transformation_artifact_dir"
   ]
  },
  {
   "cell_type": "code",
   "execution_count": 18,
   "metadata": {},
   "outputs": [],
   "source": [
    "labels_file_dir = os.path.join(data_ingestion_config.data_transformation_config().data_transformation_artifact_dir, data_ingestion_config.data_transformation_config().labeled_dataframe)"
   ]
  },
  {
   "cell_type": "code",
   "execution_count": 19,
   "metadata": {},
   "outputs": [
    {
     "data": {
      "text/plain": [
       "'d:\\\\Develops\\\\ML_PROJECT\\\\Number_Plate_Recognition\\\\notebook\\\\src\\\\ANPR\\\\artifacts\\\\data_transformation\\\\labels.csv'"
      ]
     },
     "execution_count": 19,
     "metadata": {},
     "output_type": "execute_result"
    }
   ],
   "source": [
    "labels_file_dir"
   ]
  },
  {
   "cell_type": "code",
   "execution_count": 43,
   "metadata": {},
   "outputs": [],
   "source": [
    "def get_filename_from_XML(filename) :\n",
    "    image_filename = ET.parse(filename).getroot().find(\"source\").text\n",
    "    print(image_filename)"
   ]
  },
  {
   "cell_type": "code",
   "execution_count": 44,
   "metadata": {},
   "outputs": [
    {
     "name": "stdout",
     "output_type": "stream",
     "text": [
      "['d:\\\\Develops\\\\ML_PROJECT\\\\Number_Plate_Recognition\\\\notebook\\\\src\\\\ANPR\\\\artifacts\\\\ingested_dir\\\\raw_data\\\\images\\\\N1.xml', 'd:\\\\Develops\\\\ML_PROJECT\\\\Number_Plate_Recognition\\\\notebook\\\\src\\\\ANPR\\\\artifacts\\\\ingested_dir\\\\raw_data\\\\images\\\\N100.xml', 'd:\\\\Develops\\\\ML_PROJECT\\\\Number_Plate_Recognition\\\\notebook\\\\src\\\\ANPR\\\\artifacts\\\\ingested_dir\\\\raw_data\\\\images\\\\N101.xml', 'd:\\\\Develops\\\\ML_PROJECT\\\\Number_Plate_Recognition\\\\notebook\\\\src\\\\ANPR\\\\artifacts\\\\ingested_dir\\\\raw_data\\\\images\\\\N102.xml', 'd:\\\\Develops\\\\ML_PROJECT\\\\Number_Plate_Recognition\\\\notebook\\\\src\\\\ANPR\\\\artifacts\\\\ingested_dir\\\\raw_data\\\\images\\\\N103.xml', 'd:\\\\Develops\\\\ML_PROJECT\\\\Number_Plate_Recognition\\\\notebook\\\\src\\\\ANPR\\\\artifacts\\\\ingested_dir\\\\raw_data\\\\images\\\\N104.xml', 'd:\\\\Develops\\\\ML_PROJECT\\\\Number_Plate_Recognition\\\\notebook\\\\src\\\\ANPR\\\\artifacts\\\\ingested_dir\\\\raw_data\\\\images\\\\N105.xml', 'd:\\\\Develops\\\\ML_PROJECT\\\\Number_Plate_Recognition\\\\notebook\\\\src\\\\ANPR\\\\artifacts\\\\ingested_dir\\\\raw_data\\\\images\\\\N106.xml', 'd:\\\\Develops\\\\ML_PROJECT\\\\Number_Plate_Recognition\\\\notebook\\\\src\\\\ANPR\\\\artifacts\\\\ingested_dir\\\\raw_data\\\\images\\\\N107.xml', 'd:\\\\Develops\\\\ML_PROJECT\\\\Number_Plate_Recognition\\\\notebook\\\\src\\\\ANPR\\\\artifacts\\\\ingested_dir\\\\raw_data\\\\images\\\\N108.xml', 'd:\\\\Develops\\\\ML_PROJECT\\\\Number_Plate_Recognition\\\\notebook\\\\src\\\\ANPR\\\\artifacts\\\\ingested_dir\\\\raw_data\\\\images\\\\N109.xml', 'd:\\\\Develops\\\\ML_PROJECT\\\\Number_Plate_Recognition\\\\notebook\\\\src\\\\ANPR\\\\artifacts\\\\ingested_dir\\\\raw_data\\\\images\\\\N11.xml', 'd:\\\\Develops\\\\ML_PROJECT\\\\Number_Plate_Recognition\\\\notebook\\\\src\\\\ANPR\\\\artifacts\\\\ingested_dir\\\\raw_data\\\\images\\\\N110.xml', 'd:\\\\Develops\\\\ML_PROJECT\\\\Number_Plate_Recognition\\\\notebook\\\\src\\\\ANPR\\\\artifacts\\\\ingested_dir\\\\raw_data\\\\images\\\\N111.xml', 'd:\\\\Develops\\\\ML_PROJECT\\\\Number_Plate_Recognition\\\\notebook\\\\src\\\\ANPR\\\\artifacts\\\\ingested_dir\\\\raw_data\\\\images\\\\N112.xml', 'd:\\\\Develops\\\\ML_PROJECT\\\\Number_Plate_Recognition\\\\notebook\\\\src\\\\ANPR\\\\artifacts\\\\ingested_dir\\\\raw_data\\\\images\\\\N113.xml', 'd:\\\\Develops\\\\ML_PROJECT\\\\Number_Plate_Recognition\\\\notebook\\\\src\\\\ANPR\\\\artifacts\\\\ingested_dir\\\\raw_data\\\\images\\\\N114.xml', 'd:\\\\Develops\\\\ML_PROJECT\\\\Number_Plate_Recognition\\\\notebook\\\\src\\\\ANPR\\\\artifacts\\\\ingested_dir\\\\raw_data\\\\images\\\\N116.xml', 'd:\\\\Develops\\\\ML_PROJECT\\\\Number_Plate_Recognition\\\\notebook\\\\src\\\\ANPR\\\\artifacts\\\\ingested_dir\\\\raw_data\\\\images\\\\N117.xml', 'd:\\\\Develops\\\\ML_PROJECT\\\\Number_Plate_Recognition\\\\notebook\\\\src\\\\ANPR\\\\artifacts\\\\ingested_dir\\\\raw_data\\\\images\\\\N118.xml', 'd:\\\\Develops\\\\ML_PROJECT\\\\Number_Plate_Recognition\\\\notebook\\\\src\\\\ANPR\\\\artifacts\\\\ingested_dir\\\\raw_data\\\\images\\\\N119.xml', 'd:\\\\Develops\\\\ML_PROJECT\\\\Number_Plate_Recognition\\\\notebook\\\\src\\\\ANPR\\\\artifacts\\\\ingested_dir\\\\raw_data\\\\images\\\\N12.xml', 'd:\\\\Develops\\\\ML_PROJECT\\\\Number_Plate_Recognition\\\\notebook\\\\src\\\\ANPR\\\\artifacts\\\\ingested_dir\\\\raw_data\\\\images\\\\N120.xml', 'd:\\\\Develops\\\\ML_PROJECT\\\\Number_Plate_Recognition\\\\notebook\\\\src\\\\ANPR\\\\artifacts\\\\ingested_dir\\\\raw_data\\\\images\\\\N121.xml', 'd:\\\\Develops\\\\ML_PROJECT\\\\Number_Plate_Recognition\\\\notebook\\\\src\\\\ANPR\\\\artifacts\\\\ingested_dir\\\\raw_data\\\\images\\\\N122.xml', 'd:\\\\Develops\\\\ML_PROJECT\\\\Number_Plate_Recognition\\\\notebook\\\\src\\\\ANPR\\\\artifacts\\\\ingested_dir\\\\raw_data\\\\images\\\\N123.xml', 'd:\\\\Develops\\\\ML_PROJECT\\\\Number_Plate_Recognition\\\\notebook\\\\src\\\\ANPR\\\\artifacts\\\\ingested_dir\\\\raw_data\\\\images\\\\N124.xml', 'd:\\\\Develops\\\\ML_PROJECT\\\\Number_Plate_Recognition\\\\notebook\\\\src\\\\ANPR\\\\artifacts\\\\ingested_dir\\\\raw_data\\\\images\\\\N126.xml', 'd:\\\\Develops\\\\ML_PROJECT\\\\Number_Plate_Recognition\\\\notebook\\\\src\\\\ANPR\\\\artifacts\\\\ingested_dir\\\\raw_data\\\\images\\\\N127.xml', 'd:\\\\Develops\\\\ML_PROJECT\\\\Number_Plate_Recognition\\\\notebook\\\\src\\\\ANPR\\\\artifacts\\\\ingested_dir\\\\raw_data\\\\images\\\\N128.xml', 'd:\\\\Develops\\\\ML_PROJECT\\\\Number_Plate_Recognition\\\\notebook\\\\src\\\\ANPR\\\\artifacts\\\\ingested_dir\\\\raw_data\\\\images\\\\N129.xml', 'd:\\\\Develops\\\\ML_PROJECT\\\\Number_Plate_Recognition\\\\notebook\\\\src\\\\ANPR\\\\artifacts\\\\ingested_dir\\\\raw_data\\\\images\\\\N130.xml', 'd:\\\\Develops\\\\ML_PROJECT\\\\Number_Plate_Recognition\\\\notebook\\\\src\\\\ANPR\\\\artifacts\\\\ingested_dir\\\\raw_data\\\\images\\\\N131.xml', 'd:\\\\Develops\\\\ML_PROJECT\\\\Number_Plate_Recognition\\\\notebook\\\\src\\\\ANPR\\\\artifacts\\\\ingested_dir\\\\raw_data\\\\images\\\\N132.xml', 'd:\\\\Develops\\\\ML_PROJECT\\\\Number_Plate_Recognition\\\\notebook\\\\src\\\\ANPR\\\\artifacts\\\\ingested_dir\\\\raw_data\\\\images\\\\N133.xml', 'd:\\\\Develops\\\\ML_PROJECT\\\\Number_Plate_Recognition\\\\notebook\\\\src\\\\ANPR\\\\artifacts\\\\ingested_dir\\\\raw_data\\\\images\\\\N134.xml', 'd:\\\\Develops\\\\ML_PROJECT\\\\Number_Plate_Recognition\\\\notebook\\\\src\\\\ANPR\\\\artifacts\\\\ingested_dir\\\\raw_data\\\\images\\\\N135.xml', 'd:\\\\Develops\\\\ML_PROJECT\\\\Number_Plate_Recognition\\\\notebook\\\\src\\\\ANPR\\\\artifacts\\\\ingested_dir\\\\raw_data\\\\images\\\\N136.xml', 'd:\\\\Develops\\\\ML_PROJECT\\\\Number_Plate_Recognition\\\\notebook\\\\src\\\\ANPR\\\\artifacts\\\\ingested_dir\\\\raw_data\\\\images\\\\N137.xml', 'd:\\\\Develops\\\\ML_PROJECT\\\\Number_Plate_Recognition\\\\notebook\\\\src\\\\ANPR\\\\artifacts\\\\ingested_dir\\\\raw_data\\\\images\\\\N138.xml', 'd:\\\\Develops\\\\ML_PROJECT\\\\Number_Plate_Recognition\\\\notebook\\\\src\\\\ANPR\\\\artifacts\\\\ingested_dir\\\\raw_data\\\\images\\\\N139.xml', 'd:\\\\Develops\\\\ML_PROJECT\\\\Number_Plate_Recognition\\\\notebook\\\\src\\\\ANPR\\\\artifacts\\\\ingested_dir\\\\raw_data\\\\images\\\\N14.xml', 'd:\\\\Develops\\\\ML_PROJECT\\\\Number_Plate_Recognition\\\\notebook\\\\src\\\\ANPR\\\\artifacts\\\\ingested_dir\\\\raw_data\\\\images\\\\N140.xml', 'd:\\\\Develops\\\\ML_PROJECT\\\\Number_Plate_Recognition\\\\notebook\\\\src\\\\ANPR\\\\artifacts\\\\ingested_dir\\\\raw_data\\\\images\\\\N141.xml', 'd:\\\\Develops\\\\ML_PROJECT\\\\Number_Plate_Recognition\\\\notebook\\\\src\\\\ANPR\\\\artifacts\\\\ingested_dir\\\\raw_data\\\\images\\\\N142.xml', 'd:\\\\Develops\\\\ML_PROJECT\\\\Number_Plate_Recognition\\\\notebook\\\\src\\\\ANPR\\\\artifacts\\\\ingested_dir\\\\raw_data\\\\images\\\\N143.xml', 'd:\\\\Develops\\\\ML_PROJECT\\\\Number_Plate_Recognition\\\\notebook\\\\src\\\\ANPR\\\\artifacts\\\\ingested_dir\\\\raw_data\\\\images\\\\N144.xml', 'd:\\\\Develops\\\\ML_PROJECT\\\\Number_Plate_Recognition\\\\notebook\\\\src\\\\ANPR\\\\artifacts\\\\ingested_dir\\\\raw_data\\\\images\\\\N145.xml', 'd:\\\\Develops\\\\ML_PROJECT\\\\Number_Plate_Recognition\\\\notebook\\\\src\\\\ANPR\\\\artifacts\\\\ingested_dir\\\\raw_data\\\\images\\\\N147.xml', 'd:\\\\Develops\\\\ML_PROJECT\\\\Number_Plate_Recognition\\\\notebook\\\\src\\\\ANPR\\\\artifacts\\\\ingested_dir\\\\raw_data\\\\images\\\\N148.xml', 'd:\\\\Develops\\\\ML_PROJECT\\\\Number_Plate_Recognition\\\\notebook\\\\src\\\\ANPR\\\\artifacts\\\\ingested_dir\\\\raw_data\\\\images\\\\N149.xml', 'd:\\\\Develops\\\\ML_PROJECT\\\\Number_Plate_Recognition\\\\notebook\\\\src\\\\ANPR\\\\artifacts\\\\ingested_dir\\\\raw_data\\\\images\\\\N15.xml', 'd:\\\\Develops\\\\ML_PROJECT\\\\Number_Plate_Recognition\\\\notebook\\\\src\\\\ANPR\\\\artifacts\\\\ingested_dir\\\\raw_data\\\\images\\\\N150.xml', 'd:\\\\Develops\\\\ML_PROJECT\\\\Number_Plate_Recognition\\\\notebook\\\\src\\\\ANPR\\\\artifacts\\\\ingested_dir\\\\raw_data\\\\images\\\\N151.xml', 'd:\\\\Develops\\\\ML_PROJECT\\\\Number_Plate_Recognition\\\\notebook\\\\src\\\\ANPR\\\\artifacts\\\\ingested_dir\\\\raw_data\\\\images\\\\N152.xml', 'd:\\\\Develops\\\\ML_PROJECT\\\\Number_Plate_Recognition\\\\notebook\\\\src\\\\ANPR\\\\artifacts\\\\ingested_dir\\\\raw_data\\\\images\\\\N153.xml', 'd:\\\\Develops\\\\ML_PROJECT\\\\Number_Plate_Recognition\\\\notebook\\\\src\\\\ANPR\\\\artifacts\\\\ingested_dir\\\\raw_data\\\\images\\\\N154.xml', 'd:\\\\Develops\\\\ML_PROJECT\\\\Number_Plate_Recognition\\\\notebook\\\\src\\\\ANPR\\\\artifacts\\\\ingested_dir\\\\raw_data\\\\images\\\\N155.xml', 'd:\\\\Develops\\\\ML_PROJECT\\\\Number_Plate_Recognition\\\\notebook\\\\src\\\\ANPR\\\\artifacts\\\\ingested_dir\\\\raw_data\\\\images\\\\N156.xml', 'd:\\\\Develops\\\\ML_PROJECT\\\\Number_Plate_Recognition\\\\notebook\\\\src\\\\ANPR\\\\artifacts\\\\ingested_dir\\\\raw_data\\\\images\\\\N158.xml', 'd:\\\\Develops\\\\ML_PROJECT\\\\Number_Plate_Recognition\\\\notebook\\\\src\\\\ANPR\\\\artifacts\\\\ingested_dir\\\\raw_data\\\\images\\\\N16.xml', 'd:\\\\Develops\\\\ML_PROJECT\\\\Number_Plate_Recognition\\\\notebook\\\\src\\\\ANPR\\\\artifacts\\\\ingested_dir\\\\raw_data\\\\images\\\\N160.xml', 'd:\\\\Develops\\\\ML_PROJECT\\\\Number_Plate_Recognition\\\\notebook\\\\src\\\\ANPR\\\\artifacts\\\\ingested_dir\\\\raw_data\\\\images\\\\N162.xml', 'd:\\\\Develops\\\\ML_PROJECT\\\\Number_Plate_Recognition\\\\notebook\\\\src\\\\ANPR\\\\artifacts\\\\ingested_dir\\\\raw_data\\\\images\\\\N163.xml', 'd:\\\\Develops\\\\ML_PROJECT\\\\Number_Plate_Recognition\\\\notebook\\\\src\\\\ANPR\\\\artifacts\\\\ingested_dir\\\\raw_data\\\\images\\\\N164.xml', 'd:\\\\Develops\\\\ML_PROJECT\\\\Number_Plate_Recognition\\\\notebook\\\\src\\\\ANPR\\\\artifacts\\\\ingested_dir\\\\raw_data\\\\images\\\\N165.xml', 'd:\\\\Develops\\\\ML_PROJECT\\\\Number_Plate_Recognition\\\\notebook\\\\src\\\\ANPR\\\\artifacts\\\\ingested_dir\\\\raw_data\\\\images\\\\N166.xml', 'd:\\\\Develops\\\\ML_PROJECT\\\\Number_Plate_Recognition\\\\notebook\\\\src\\\\ANPR\\\\artifacts\\\\ingested_dir\\\\raw_data\\\\images\\\\N167.xml', 'd:\\\\Develops\\\\ML_PROJECT\\\\Number_Plate_Recognition\\\\notebook\\\\src\\\\ANPR\\\\artifacts\\\\ingested_dir\\\\raw_data\\\\images\\\\N168.xml', 'd:\\\\Develops\\\\ML_PROJECT\\\\Number_Plate_Recognition\\\\notebook\\\\src\\\\ANPR\\\\artifacts\\\\ingested_dir\\\\raw_data\\\\images\\\\N169.xml', 'd:\\\\Develops\\\\ML_PROJECT\\\\Number_Plate_Recognition\\\\notebook\\\\src\\\\ANPR\\\\artifacts\\\\ingested_dir\\\\raw_data\\\\images\\\\N17.xml', 'd:\\\\Develops\\\\ML_PROJECT\\\\Number_Plate_Recognition\\\\notebook\\\\src\\\\ANPR\\\\artifacts\\\\ingested_dir\\\\raw_data\\\\images\\\\N170.xml', 'd:\\\\Develops\\\\ML_PROJECT\\\\Number_Plate_Recognition\\\\notebook\\\\src\\\\ANPR\\\\artifacts\\\\ingested_dir\\\\raw_data\\\\images\\\\N171.xml', 'd:\\\\Develops\\\\ML_PROJECT\\\\Number_Plate_Recognition\\\\notebook\\\\src\\\\ANPR\\\\artifacts\\\\ingested_dir\\\\raw_data\\\\images\\\\N172.xml', 'd:\\\\Develops\\\\ML_PROJECT\\\\Number_Plate_Recognition\\\\notebook\\\\src\\\\ANPR\\\\artifacts\\\\ingested_dir\\\\raw_data\\\\images\\\\N173.xml', 'd:\\\\Develops\\\\ML_PROJECT\\\\Number_Plate_Recognition\\\\notebook\\\\src\\\\ANPR\\\\artifacts\\\\ingested_dir\\\\raw_data\\\\images\\\\N174.xml', 'd:\\\\Develops\\\\ML_PROJECT\\\\Number_Plate_Recognition\\\\notebook\\\\src\\\\ANPR\\\\artifacts\\\\ingested_dir\\\\raw_data\\\\images\\\\N175.xml', 'd:\\\\Develops\\\\ML_PROJECT\\\\Number_Plate_Recognition\\\\notebook\\\\src\\\\ANPR\\\\artifacts\\\\ingested_dir\\\\raw_data\\\\images\\\\N176.xml', 'd:\\\\Develops\\\\ML_PROJECT\\\\Number_Plate_Recognition\\\\notebook\\\\src\\\\ANPR\\\\artifacts\\\\ingested_dir\\\\raw_data\\\\images\\\\N177.xml', 'd:\\\\Develops\\\\ML_PROJECT\\\\Number_Plate_Recognition\\\\notebook\\\\src\\\\ANPR\\\\artifacts\\\\ingested_dir\\\\raw_data\\\\images\\\\N178.xml', 'd:\\\\Develops\\\\ML_PROJECT\\\\Number_Plate_Recognition\\\\notebook\\\\src\\\\ANPR\\\\artifacts\\\\ingested_dir\\\\raw_data\\\\images\\\\N179.xml', 'd:\\\\Develops\\\\ML_PROJECT\\\\Number_Plate_Recognition\\\\notebook\\\\src\\\\ANPR\\\\artifacts\\\\ingested_dir\\\\raw_data\\\\images\\\\N18.xml', 'd:\\\\Develops\\\\ML_PROJECT\\\\Number_Plate_Recognition\\\\notebook\\\\src\\\\ANPR\\\\artifacts\\\\ingested_dir\\\\raw_data\\\\images\\\\N181.xml', 'd:\\\\Develops\\\\ML_PROJECT\\\\Number_Plate_Recognition\\\\notebook\\\\src\\\\ANPR\\\\artifacts\\\\ingested_dir\\\\raw_data\\\\images\\\\N183.xml', 'd:\\\\Develops\\\\ML_PROJECT\\\\Number_Plate_Recognition\\\\notebook\\\\src\\\\ANPR\\\\artifacts\\\\ingested_dir\\\\raw_data\\\\images\\\\N184.xml', 'd:\\\\Develops\\\\ML_PROJECT\\\\Number_Plate_Recognition\\\\notebook\\\\src\\\\ANPR\\\\artifacts\\\\ingested_dir\\\\raw_data\\\\images\\\\N185.xml', 'd:\\\\Develops\\\\ML_PROJECT\\\\Number_Plate_Recognition\\\\notebook\\\\src\\\\ANPR\\\\artifacts\\\\ingested_dir\\\\raw_data\\\\images\\\\N186.xml', 'd:\\\\Develops\\\\ML_PROJECT\\\\Number_Plate_Recognition\\\\notebook\\\\src\\\\ANPR\\\\artifacts\\\\ingested_dir\\\\raw_data\\\\images\\\\N187.xml', 'd:\\\\Develops\\\\ML_PROJECT\\\\Number_Plate_Recognition\\\\notebook\\\\src\\\\ANPR\\\\artifacts\\\\ingested_dir\\\\raw_data\\\\images\\\\N188.xml', 'd:\\\\Develops\\\\ML_PROJECT\\\\Number_Plate_Recognition\\\\notebook\\\\src\\\\ANPR\\\\artifacts\\\\ingested_dir\\\\raw_data\\\\images\\\\N189.xml', 'd:\\\\Develops\\\\ML_PROJECT\\\\Number_Plate_Recognition\\\\notebook\\\\src\\\\ANPR\\\\artifacts\\\\ingested_dir\\\\raw_data\\\\images\\\\N19.xml', 'd:\\\\Develops\\\\ML_PROJECT\\\\Number_Plate_Recognition\\\\notebook\\\\src\\\\ANPR\\\\artifacts\\\\ingested_dir\\\\raw_data\\\\images\\\\N190.xml', 'd:\\\\Develops\\\\ML_PROJECT\\\\Number_Plate_Recognition\\\\notebook\\\\src\\\\ANPR\\\\artifacts\\\\ingested_dir\\\\raw_data\\\\images\\\\N191.xml', 'd:\\\\Develops\\\\ML_PROJECT\\\\Number_Plate_Recognition\\\\notebook\\\\src\\\\ANPR\\\\artifacts\\\\ingested_dir\\\\raw_data\\\\images\\\\N192.xml', 'd:\\\\Develops\\\\ML_PROJECT\\\\Number_Plate_Recognition\\\\notebook\\\\src\\\\ANPR\\\\artifacts\\\\ingested_dir\\\\raw_data\\\\images\\\\N193.xml', 'd:\\\\Develops\\\\ML_PROJECT\\\\Number_Plate_Recognition\\\\notebook\\\\src\\\\ANPR\\\\artifacts\\\\ingested_dir\\\\raw_data\\\\images\\\\N195.xml', 'd:\\\\Develops\\\\ML_PROJECT\\\\Number_Plate_Recognition\\\\notebook\\\\src\\\\ANPR\\\\artifacts\\\\ingested_dir\\\\raw_data\\\\images\\\\N196.xml', 'd:\\\\Develops\\\\ML_PROJECT\\\\Number_Plate_Recognition\\\\notebook\\\\src\\\\ANPR\\\\artifacts\\\\ingested_dir\\\\raw_data\\\\images\\\\N197.xml', 'd:\\\\Develops\\\\ML_PROJECT\\\\Number_Plate_Recognition\\\\notebook\\\\src\\\\ANPR\\\\artifacts\\\\ingested_dir\\\\raw_data\\\\images\\\\N198.xml', 'd:\\\\Develops\\\\ML_PROJECT\\\\Number_Plate_Recognition\\\\notebook\\\\src\\\\ANPR\\\\artifacts\\\\ingested_dir\\\\raw_data\\\\images\\\\N199.xml', 'd:\\\\Develops\\\\ML_PROJECT\\\\Number_Plate_Recognition\\\\notebook\\\\src\\\\ANPR\\\\artifacts\\\\ingested_dir\\\\raw_data\\\\images\\\\N2.xml', 'd:\\\\Develops\\\\ML_PROJECT\\\\Number_Plate_Recognition\\\\notebook\\\\src\\\\ANPR\\\\artifacts\\\\ingested_dir\\\\raw_data\\\\images\\\\N20.xml', 'd:\\\\Develops\\\\ML_PROJECT\\\\Number_Plate_Recognition\\\\notebook\\\\src\\\\ANPR\\\\artifacts\\\\ingested_dir\\\\raw_data\\\\images\\\\N200.xml', 'd:\\\\Develops\\\\ML_PROJECT\\\\Number_Plate_Recognition\\\\notebook\\\\src\\\\ANPR\\\\artifacts\\\\ingested_dir\\\\raw_data\\\\images\\\\N201.xml', 'd:\\\\Develops\\\\ML_PROJECT\\\\Number_Plate_Recognition\\\\notebook\\\\src\\\\ANPR\\\\artifacts\\\\ingested_dir\\\\raw_data\\\\images\\\\N202.xml', 'd:\\\\Develops\\\\ML_PROJECT\\\\Number_Plate_Recognition\\\\notebook\\\\src\\\\ANPR\\\\artifacts\\\\ingested_dir\\\\raw_data\\\\images\\\\N203.xml', 'd:\\\\Develops\\\\ML_PROJECT\\\\Number_Plate_Recognition\\\\notebook\\\\src\\\\ANPR\\\\artifacts\\\\ingested_dir\\\\raw_data\\\\images\\\\N204.xml', 'd:\\\\Develops\\\\ML_PROJECT\\\\Number_Plate_Recognition\\\\notebook\\\\src\\\\ANPR\\\\artifacts\\\\ingested_dir\\\\raw_data\\\\images\\\\N205.xml', 'd:\\\\Develops\\\\ML_PROJECT\\\\Number_Plate_Recognition\\\\notebook\\\\src\\\\ANPR\\\\artifacts\\\\ingested_dir\\\\raw_data\\\\images\\\\N206.xml', 'd:\\\\Develops\\\\ML_PROJECT\\\\Number_Plate_Recognition\\\\notebook\\\\src\\\\ANPR\\\\artifacts\\\\ingested_dir\\\\raw_data\\\\images\\\\N207.xml', 'd:\\\\Develops\\\\ML_PROJECT\\\\Number_Plate_Recognition\\\\notebook\\\\src\\\\ANPR\\\\artifacts\\\\ingested_dir\\\\raw_data\\\\images\\\\N208.xml', 'd:\\\\Develops\\\\ML_PROJECT\\\\Number_Plate_Recognition\\\\notebook\\\\src\\\\ANPR\\\\artifacts\\\\ingested_dir\\\\raw_data\\\\images\\\\N209.xml', 'd:\\\\Develops\\\\ML_PROJECT\\\\Number_Plate_Recognition\\\\notebook\\\\src\\\\ANPR\\\\artifacts\\\\ingested_dir\\\\raw_data\\\\images\\\\N21.xml', 'd:\\\\Develops\\\\ML_PROJECT\\\\Number_Plate_Recognition\\\\notebook\\\\src\\\\ANPR\\\\artifacts\\\\ingested_dir\\\\raw_data\\\\images\\\\N210.xml', 'd:\\\\Develops\\\\ML_PROJECT\\\\Number_Plate_Recognition\\\\notebook\\\\src\\\\ANPR\\\\artifacts\\\\ingested_dir\\\\raw_data\\\\images\\\\N211.xml', 'd:\\\\Develops\\\\ML_PROJECT\\\\Number_Plate_Recognition\\\\notebook\\\\src\\\\ANPR\\\\artifacts\\\\ingested_dir\\\\raw_data\\\\images\\\\N212.xml', 'd:\\\\Develops\\\\ML_PROJECT\\\\Number_Plate_Recognition\\\\notebook\\\\src\\\\ANPR\\\\artifacts\\\\ingested_dir\\\\raw_data\\\\images\\\\N213.xml', 'd:\\\\Develops\\\\ML_PROJECT\\\\Number_Plate_Recognition\\\\notebook\\\\src\\\\ANPR\\\\artifacts\\\\ingested_dir\\\\raw_data\\\\images\\\\N214.xml', 'd:\\\\Develops\\\\ML_PROJECT\\\\Number_Plate_Recognition\\\\notebook\\\\src\\\\ANPR\\\\artifacts\\\\ingested_dir\\\\raw_data\\\\images\\\\N215.xml', 'd:\\\\Develops\\\\ML_PROJECT\\\\Number_Plate_Recognition\\\\notebook\\\\src\\\\ANPR\\\\artifacts\\\\ingested_dir\\\\raw_data\\\\images\\\\N216.xml', 'd:\\\\Develops\\\\ML_PROJECT\\\\Number_Plate_Recognition\\\\notebook\\\\src\\\\ANPR\\\\artifacts\\\\ingested_dir\\\\raw_data\\\\images\\\\N217.xml', 'd:\\\\Develops\\\\ML_PROJECT\\\\Number_Plate_Recognition\\\\notebook\\\\src\\\\ANPR\\\\artifacts\\\\ingested_dir\\\\raw_data\\\\images\\\\N218.xml', 'd:\\\\Develops\\\\ML_PROJECT\\\\Number_Plate_Recognition\\\\notebook\\\\src\\\\ANPR\\\\artifacts\\\\ingested_dir\\\\raw_data\\\\images\\\\N219.xml', 'd:\\\\Develops\\\\ML_PROJECT\\\\Number_Plate_Recognition\\\\notebook\\\\src\\\\ANPR\\\\artifacts\\\\ingested_dir\\\\raw_data\\\\images\\\\N22.xml', 'd:\\\\Develops\\\\ML_PROJECT\\\\Number_Plate_Recognition\\\\notebook\\\\src\\\\ANPR\\\\artifacts\\\\ingested_dir\\\\raw_data\\\\images\\\\N220.xml', 'd:\\\\Develops\\\\ML_PROJECT\\\\Number_Plate_Recognition\\\\notebook\\\\src\\\\ANPR\\\\artifacts\\\\ingested_dir\\\\raw_data\\\\images\\\\N221.xml', 'd:\\\\Develops\\\\ML_PROJECT\\\\Number_Plate_Recognition\\\\notebook\\\\src\\\\ANPR\\\\artifacts\\\\ingested_dir\\\\raw_data\\\\images\\\\N222.xml', 'd:\\\\Develops\\\\ML_PROJECT\\\\Number_Plate_Recognition\\\\notebook\\\\src\\\\ANPR\\\\artifacts\\\\ingested_dir\\\\raw_data\\\\images\\\\N223.xml', 'd:\\\\Develops\\\\ML_PROJECT\\\\Number_Plate_Recognition\\\\notebook\\\\src\\\\ANPR\\\\artifacts\\\\ingested_dir\\\\raw_data\\\\images\\\\N224.xml', 'd:\\\\Develops\\\\ML_PROJECT\\\\Number_Plate_Recognition\\\\notebook\\\\src\\\\ANPR\\\\artifacts\\\\ingested_dir\\\\raw_data\\\\images\\\\N225.xml', 'd:\\\\Develops\\\\ML_PROJECT\\\\Number_Plate_Recognition\\\\notebook\\\\src\\\\ANPR\\\\artifacts\\\\ingested_dir\\\\raw_data\\\\images\\\\N226.xml', 'd:\\\\Develops\\\\ML_PROJECT\\\\Number_Plate_Recognition\\\\notebook\\\\src\\\\ANPR\\\\artifacts\\\\ingested_dir\\\\raw_data\\\\images\\\\N227.xml', 'd:\\\\Develops\\\\ML_PROJECT\\\\Number_Plate_Recognition\\\\notebook\\\\src\\\\ANPR\\\\artifacts\\\\ingested_dir\\\\raw_data\\\\images\\\\N229.xml', 'd:\\\\Develops\\\\ML_PROJECT\\\\Number_Plate_Recognition\\\\notebook\\\\src\\\\ANPR\\\\artifacts\\\\ingested_dir\\\\raw_data\\\\images\\\\N23.xml', 'd:\\\\Develops\\\\ML_PROJECT\\\\Number_Plate_Recognition\\\\notebook\\\\src\\\\ANPR\\\\artifacts\\\\ingested_dir\\\\raw_data\\\\images\\\\N230.xml', 'd:\\\\Develops\\\\ML_PROJECT\\\\Number_Plate_Recognition\\\\notebook\\\\src\\\\ANPR\\\\artifacts\\\\ingested_dir\\\\raw_data\\\\images\\\\N231.xml', 'd:\\\\Develops\\\\ML_PROJECT\\\\Number_Plate_Recognition\\\\notebook\\\\src\\\\ANPR\\\\artifacts\\\\ingested_dir\\\\raw_data\\\\images\\\\N232.xml', 'd:\\\\Develops\\\\ML_PROJECT\\\\Number_Plate_Recognition\\\\notebook\\\\src\\\\ANPR\\\\artifacts\\\\ingested_dir\\\\raw_data\\\\images\\\\N233.xml', 'd:\\\\Develops\\\\ML_PROJECT\\\\Number_Plate_Recognition\\\\notebook\\\\src\\\\ANPR\\\\artifacts\\\\ingested_dir\\\\raw_data\\\\images\\\\N234.xml', 'd:\\\\Develops\\\\ML_PROJECT\\\\Number_Plate_Recognition\\\\notebook\\\\src\\\\ANPR\\\\artifacts\\\\ingested_dir\\\\raw_data\\\\images\\\\N235.xml', 'd:\\\\Develops\\\\ML_PROJECT\\\\Number_Plate_Recognition\\\\notebook\\\\src\\\\ANPR\\\\artifacts\\\\ingested_dir\\\\raw_data\\\\images\\\\N236.xml', 'd:\\\\Develops\\\\ML_PROJECT\\\\Number_Plate_Recognition\\\\notebook\\\\src\\\\ANPR\\\\artifacts\\\\ingested_dir\\\\raw_data\\\\images\\\\N237.xml', 'd:\\\\Develops\\\\ML_PROJECT\\\\Number_Plate_Recognition\\\\notebook\\\\src\\\\ANPR\\\\artifacts\\\\ingested_dir\\\\raw_data\\\\images\\\\N238.xml', 'd:\\\\Develops\\\\ML_PROJECT\\\\Number_Plate_Recognition\\\\notebook\\\\src\\\\ANPR\\\\artifacts\\\\ingested_dir\\\\raw_data\\\\images\\\\N239.xml', 'd:\\\\Develops\\\\ML_PROJECT\\\\Number_Plate_Recognition\\\\notebook\\\\src\\\\ANPR\\\\artifacts\\\\ingested_dir\\\\raw_data\\\\images\\\\N24.xml', 'd:\\\\Develops\\\\ML_PROJECT\\\\Number_Plate_Recognition\\\\notebook\\\\src\\\\ANPR\\\\artifacts\\\\ingested_dir\\\\raw_data\\\\images\\\\N240.xml', 'd:\\\\Develops\\\\ML_PROJECT\\\\Number_Plate_Recognition\\\\notebook\\\\src\\\\ANPR\\\\artifacts\\\\ingested_dir\\\\raw_data\\\\images\\\\N241.xml', 'd:\\\\Develops\\\\ML_PROJECT\\\\Number_Plate_Recognition\\\\notebook\\\\src\\\\ANPR\\\\artifacts\\\\ingested_dir\\\\raw_data\\\\images\\\\N242.xml', 'd:\\\\Develops\\\\ML_PROJECT\\\\Number_Plate_Recognition\\\\notebook\\\\src\\\\ANPR\\\\artifacts\\\\ingested_dir\\\\raw_data\\\\images\\\\N244.xml', 'd:\\\\Develops\\\\ML_PROJECT\\\\Number_Plate_Recognition\\\\notebook\\\\src\\\\ANPR\\\\artifacts\\\\ingested_dir\\\\raw_data\\\\images\\\\N245.xml', 'd:\\\\Develops\\\\ML_PROJECT\\\\Number_Plate_Recognition\\\\notebook\\\\src\\\\ANPR\\\\artifacts\\\\ingested_dir\\\\raw_data\\\\images\\\\N246.xml', 'd:\\\\Develops\\\\ML_PROJECT\\\\Number_Plate_Recognition\\\\notebook\\\\src\\\\ANPR\\\\artifacts\\\\ingested_dir\\\\raw_data\\\\images\\\\N247.xml', 'd:\\\\Develops\\\\ML_PROJECT\\\\Number_Plate_Recognition\\\\notebook\\\\src\\\\ANPR\\\\artifacts\\\\ingested_dir\\\\raw_data\\\\images\\\\N248.xml', 'd:\\\\Develops\\\\ML_PROJECT\\\\Number_Plate_Recognition\\\\notebook\\\\src\\\\ANPR\\\\artifacts\\\\ingested_dir\\\\raw_data\\\\images\\\\N25.xml', 'd:\\\\Develops\\\\ML_PROJECT\\\\Number_Plate_Recognition\\\\notebook\\\\src\\\\ANPR\\\\artifacts\\\\ingested_dir\\\\raw_data\\\\images\\\\N27.xml', 'd:\\\\Develops\\\\ML_PROJECT\\\\Number_Plate_Recognition\\\\notebook\\\\src\\\\ANPR\\\\artifacts\\\\ingested_dir\\\\raw_data\\\\images\\\\N28.xml', 'd:\\\\Develops\\\\ML_PROJECT\\\\Number_Plate_Recognition\\\\notebook\\\\src\\\\ANPR\\\\artifacts\\\\ingested_dir\\\\raw_data\\\\images\\\\N3.xml', 'd:\\\\Develops\\\\ML_PROJECT\\\\Number_Plate_Recognition\\\\notebook\\\\src\\\\ANPR\\\\artifacts\\\\ingested_dir\\\\raw_data\\\\images\\\\N30.xml', 'd:\\\\Develops\\\\ML_PROJECT\\\\Number_Plate_Recognition\\\\notebook\\\\src\\\\ANPR\\\\artifacts\\\\ingested_dir\\\\raw_data\\\\images\\\\N31.xml', 'd:\\\\Develops\\\\ML_PROJECT\\\\Number_Plate_Recognition\\\\notebook\\\\src\\\\ANPR\\\\artifacts\\\\ingested_dir\\\\raw_data\\\\images\\\\N32.xml', 'd:\\\\Develops\\\\ML_PROJECT\\\\Number_Plate_Recognition\\\\notebook\\\\src\\\\ANPR\\\\artifacts\\\\ingested_dir\\\\raw_data\\\\images\\\\N33.xml', 'd:\\\\Develops\\\\ML_PROJECT\\\\Number_Plate_Recognition\\\\notebook\\\\src\\\\ANPR\\\\artifacts\\\\ingested_dir\\\\raw_data\\\\images\\\\N34.xml', 'd:\\\\Develops\\\\ML_PROJECT\\\\Number_Plate_Recognition\\\\notebook\\\\src\\\\ANPR\\\\artifacts\\\\ingested_dir\\\\raw_data\\\\images\\\\N35.xml', 'd:\\\\Develops\\\\ML_PROJECT\\\\Number_Plate_Recognition\\\\notebook\\\\src\\\\ANPR\\\\artifacts\\\\ingested_dir\\\\raw_data\\\\images\\\\N36.xml', 'd:\\\\Develops\\\\ML_PROJECT\\\\Number_Plate_Recognition\\\\notebook\\\\src\\\\ANPR\\\\artifacts\\\\ingested_dir\\\\raw_data\\\\images\\\\N37.xml', 'd:\\\\Develops\\\\ML_PROJECT\\\\Number_Plate_Recognition\\\\notebook\\\\src\\\\ANPR\\\\artifacts\\\\ingested_dir\\\\raw_data\\\\images\\\\N38.xml', 'd:\\\\Develops\\\\ML_PROJECT\\\\Number_Plate_Recognition\\\\notebook\\\\src\\\\ANPR\\\\artifacts\\\\ingested_dir\\\\raw_data\\\\images\\\\N4.xml', 'd:\\\\Develops\\\\ML_PROJECT\\\\Number_Plate_Recognition\\\\notebook\\\\src\\\\ANPR\\\\artifacts\\\\ingested_dir\\\\raw_data\\\\images\\\\N40.xml', 'd:\\\\Develops\\\\ML_PROJECT\\\\Number_Plate_Recognition\\\\notebook\\\\src\\\\ANPR\\\\artifacts\\\\ingested_dir\\\\raw_data\\\\images\\\\N42.xml', 'd:\\\\Develops\\\\ML_PROJECT\\\\Number_Plate_Recognition\\\\notebook\\\\src\\\\ANPR\\\\artifacts\\\\ingested_dir\\\\raw_data\\\\images\\\\N43.xml', 'd:\\\\Develops\\\\ML_PROJECT\\\\Number_Plate_Recognition\\\\notebook\\\\src\\\\ANPR\\\\artifacts\\\\ingested_dir\\\\raw_data\\\\images\\\\N44.xml', 'd:\\\\Develops\\\\ML_PROJECT\\\\Number_Plate_Recognition\\\\notebook\\\\src\\\\ANPR\\\\artifacts\\\\ingested_dir\\\\raw_data\\\\images\\\\N45.xml', 'd:\\\\Develops\\\\ML_PROJECT\\\\Number_Plate_Recognition\\\\notebook\\\\src\\\\ANPR\\\\artifacts\\\\ingested_dir\\\\raw_data\\\\images\\\\N46.xml', 'd:\\\\Develops\\\\ML_PROJECT\\\\Number_Plate_Recognition\\\\notebook\\\\src\\\\ANPR\\\\artifacts\\\\ingested_dir\\\\raw_data\\\\images\\\\N47.xml', 'd:\\\\Develops\\\\ML_PROJECT\\\\Number_Plate_Recognition\\\\notebook\\\\src\\\\ANPR\\\\artifacts\\\\ingested_dir\\\\raw_data\\\\images\\\\N48.xml', 'd:\\\\Develops\\\\ML_PROJECT\\\\Number_Plate_Recognition\\\\notebook\\\\src\\\\ANPR\\\\artifacts\\\\ingested_dir\\\\raw_data\\\\images\\\\N49.xml', 'd:\\\\Develops\\\\ML_PROJECT\\\\Number_Plate_Recognition\\\\notebook\\\\src\\\\ANPR\\\\artifacts\\\\ingested_dir\\\\raw_data\\\\images\\\\N5.xml', 'd:\\\\Develops\\\\ML_PROJECT\\\\Number_Plate_Recognition\\\\notebook\\\\src\\\\ANPR\\\\artifacts\\\\ingested_dir\\\\raw_data\\\\images\\\\N50.xml', 'd:\\\\Develops\\\\ML_PROJECT\\\\Number_Plate_Recognition\\\\notebook\\\\src\\\\ANPR\\\\artifacts\\\\ingested_dir\\\\raw_data\\\\images\\\\N51.xml', 'd:\\\\Develops\\\\ML_PROJECT\\\\Number_Plate_Recognition\\\\notebook\\\\src\\\\ANPR\\\\artifacts\\\\ingested_dir\\\\raw_data\\\\images\\\\N52.xml', 'd:\\\\Develops\\\\ML_PROJECT\\\\Number_Plate_Recognition\\\\notebook\\\\src\\\\ANPR\\\\artifacts\\\\ingested_dir\\\\raw_data\\\\images\\\\N53.xml', 'd:\\\\Develops\\\\ML_PROJECT\\\\Number_Plate_Recognition\\\\notebook\\\\src\\\\ANPR\\\\artifacts\\\\ingested_dir\\\\raw_data\\\\images\\\\N54.xml', 'd:\\\\Develops\\\\ML_PROJECT\\\\Number_Plate_Recognition\\\\notebook\\\\src\\\\ANPR\\\\artifacts\\\\ingested_dir\\\\raw_data\\\\images\\\\N56.xml', 'd:\\\\Develops\\\\ML_PROJECT\\\\Number_Plate_Recognition\\\\notebook\\\\src\\\\ANPR\\\\artifacts\\\\ingested_dir\\\\raw_data\\\\images\\\\N57.xml', 'd:\\\\Develops\\\\ML_PROJECT\\\\Number_Plate_Recognition\\\\notebook\\\\src\\\\ANPR\\\\artifacts\\\\ingested_dir\\\\raw_data\\\\images\\\\N58.xml', 'd:\\\\Develops\\\\ML_PROJECT\\\\Number_Plate_Recognition\\\\notebook\\\\src\\\\ANPR\\\\artifacts\\\\ingested_dir\\\\raw_data\\\\images\\\\N59.xml', 'd:\\\\Develops\\\\ML_PROJECT\\\\Number_Plate_Recognition\\\\notebook\\\\src\\\\ANPR\\\\artifacts\\\\ingested_dir\\\\raw_data\\\\images\\\\N6.xml', 'd:\\\\Develops\\\\ML_PROJECT\\\\Number_Plate_Recognition\\\\notebook\\\\src\\\\ANPR\\\\artifacts\\\\ingested_dir\\\\raw_data\\\\images\\\\N61.xml', 'd:\\\\Develops\\\\ML_PROJECT\\\\Number_Plate_Recognition\\\\notebook\\\\src\\\\ANPR\\\\artifacts\\\\ingested_dir\\\\raw_data\\\\images\\\\N62.xml', 'd:\\\\Develops\\\\ML_PROJECT\\\\Number_Plate_Recognition\\\\notebook\\\\src\\\\ANPR\\\\artifacts\\\\ingested_dir\\\\raw_data\\\\images\\\\N63.xml', 'd:\\\\Develops\\\\ML_PROJECT\\\\Number_Plate_Recognition\\\\notebook\\\\src\\\\ANPR\\\\artifacts\\\\ingested_dir\\\\raw_data\\\\images\\\\N64.xml', 'd:\\\\Develops\\\\ML_PROJECT\\\\Number_Plate_Recognition\\\\notebook\\\\src\\\\ANPR\\\\artifacts\\\\ingested_dir\\\\raw_data\\\\images\\\\N65.xml', 'd:\\\\Develops\\\\ML_PROJECT\\\\Number_Plate_Recognition\\\\notebook\\\\src\\\\ANPR\\\\artifacts\\\\ingested_dir\\\\raw_data\\\\images\\\\N66.xml', 'd:\\\\Develops\\\\ML_PROJECT\\\\Number_Plate_Recognition\\\\notebook\\\\src\\\\ANPR\\\\artifacts\\\\ingested_dir\\\\raw_data\\\\images\\\\N67.xml', 'd:\\\\Develops\\\\ML_PROJECT\\\\Number_Plate_Recognition\\\\notebook\\\\src\\\\ANPR\\\\artifacts\\\\ingested_dir\\\\raw_data\\\\images\\\\N68.xml', 'd:\\\\Develops\\\\ML_PROJECT\\\\Number_Plate_Recognition\\\\notebook\\\\src\\\\ANPR\\\\artifacts\\\\ingested_dir\\\\raw_data\\\\images\\\\N69.xml', 'd:\\\\Develops\\\\ML_PROJECT\\\\Number_Plate_Recognition\\\\notebook\\\\src\\\\ANPR\\\\artifacts\\\\ingested_dir\\\\raw_data\\\\images\\\\N7.xml', 'd:\\\\Develops\\\\ML_PROJECT\\\\Number_Plate_Recognition\\\\notebook\\\\src\\\\ANPR\\\\artifacts\\\\ingested_dir\\\\raw_data\\\\images\\\\N70.xml', 'd:\\\\Develops\\\\ML_PROJECT\\\\Number_Plate_Recognition\\\\notebook\\\\src\\\\ANPR\\\\artifacts\\\\ingested_dir\\\\raw_data\\\\images\\\\N72.xml', 'd:\\\\Develops\\\\ML_PROJECT\\\\Number_Plate_Recognition\\\\notebook\\\\src\\\\ANPR\\\\artifacts\\\\ingested_dir\\\\raw_data\\\\images\\\\N73.xml', 'd:\\\\Develops\\\\ML_PROJECT\\\\Number_Plate_Recognition\\\\notebook\\\\src\\\\ANPR\\\\artifacts\\\\ingested_dir\\\\raw_data\\\\images\\\\N74.xml', 'd:\\\\Develops\\\\ML_PROJECT\\\\Number_Plate_Recognition\\\\notebook\\\\src\\\\ANPR\\\\artifacts\\\\ingested_dir\\\\raw_data\\\\images\\\\N75.xml', 'd:\\\\Develops\\\\ML_PROJECT\\\\Number_Plate_Recognition\\\\notebook\\\\src\\\\ANPR\\\\artifacts\\\\ingested_dir\\\\raw_data\\\\images\\\\N77.xml', 'd:\\\\Develops\\\\ML_PROJECT\\\\Number_Plate_Recognition\\\\notebook\\\\src\\\\ANPR\\\\artifacts\\\\ingested_dir\\\\raw_data\\\\images\\\\N78.xml', 'd:\\\\Develops\\\\ML_PROJECT\\\\Number_Plate_Recognition\\\\notebook\\\\src\\\\ANPR\\\\artifacts\\\\ingested_dir\\\\raw_data\\\\images\\\\N79.xml', 'd:\\\\Develops\\\\ML_PROJECT\\\\Number_Plate_Recognition\\\\notebook\\\\src\\\\ANPR\\\\artifacts\\\\ingested_dir\\\\raw_data\\\\images\\\\N8.xml', 'd:\\\\Develops\\\\ML_PROJECT\\\\Number_Plate_Recognition\\\\notebook\\\\src\\\\ANPR\\\\artifacts\\\\ingested_dir\\\\raw_data\\\\images\\\\N80.xml', 'd:\\\\Develops\\\\ML_PROJECT\\\\Number_Plate_Recognition\\\\notebook\\\\src\\\\ANPR\\\\artifacts\\\\ingested_dir\\\\raw_data\\\\images\\\\N81.xml', 'd:\\\\Develops\\\\ML_PROJECT\\\\Number_Plate_Recognition\\\\notebook\\\\src\\\\ANPR\\\\artifacts\\\\ingested_dir\\\\raw_data\\\\images\\\\N82.xml', 'd:\\\\Develops\\\\ML_PROJECT\\\\Number_Plate_Recognition\\\\notebook\\\\src\\\\ANPR\\\\artifacts\\\\ingested_dir\\\\raw_data\\\\images\\\\N84.xml', 'd:\\\\Develops\\\\ML_PROJECT\\\\Number_Plate_Recognition\\\\notebook\\\\src\\\\ANPR\\\\artifacts\\\\ingested_dir\\\\raw_data\\\\images\\\\N85.xml', 'd:\\\\Develops\\\\ML_PROJECT\\\\Number_Plate_Recognition\\\\notebook\\\\src\\\\ANPR\\\\artifacts\\\\ingested_dir\\\\raw_data\\\\images\\\\N86.xml', 'd:\\\\Develops\\\\ML_PROJECT\\\\Number_Plate_Recognition\\\\notebook\\\\src\\\\ANPR\\\\artifacts\\\\ingested_dir\\\\raw_data\\\\images\\\\N88.xml', 'd:\\\\Develops\\\\ML_PROJECT\\\\Number_Plate_Recognition\\\\notebook\\\\src\\\\ANPR\\\\artifacts\\\\ingested_dir\\\\raw_data\\\\images\\\\N89.xml', 'd:\\\\Develops\\\\ML_PROJECT\\\\Number_Plate_Recognition\\\\notebook\\\\src\\\\ANPR\\\\artifacts\\\\ingested_dir\\\\raw_data\\\\images\\\\N9.xml', 'd:\\\\Develops\\\\ML_PROJECT\\\\Number_Plate_Recognition\\\\notebook\\\\src\\\\ANPR\\\\artifacts\\\\ingested_dir\\\\raw_data\\\\images\\\\N90.xml', 'd:\\\\Develops\\\\ML_PROJECT\\\\Number_Plate_Recognition\\\\notebook\\\\src\\\\ANPR\\\\artifacts\\\\ingested_dir\\\\raw_data\\\\images\\\\N91.xml', 'd:\\\\Develops\\\\ML_PROJECT\\\\Number_Plate_Recognition\\\\notebook\\\\src\\\\ANPR\\\\artifacts\\\\ingested_dir\\\\raw_data\\\\images\\\\N92.xml', 'd:\\\\Develops\\\\ML_PROJECT\\\\Number_Plate_Recognition\\\\notebook\\\\src\\\\ANPR\\\\artifacts\\\\ingested_dir\\\\raw_data\\\\images\\\\N93.xml', 'd:\\\\Develops\\\\ML_PROJECT\\\\Number_Plate_Recognition\\\\notebook\\\\src\\\\ANPR\\\\artifacts\\\\ingested_dir\\\\raw_data\\\\images\\\\N94.xml', 'd:\\\\Develops\\\\ML_PROJECT\\\\Number_Plate_Recognition\\\\notebook\\\\src\\\\ANPR\\\\artifacts\\\\ingested_dir\\\\raw_data\\\\images\\\\N95.xml', 'd:\\\\Develops\\\\ML_PROJECT\\\\Number_Plate_Recognition\\\\notebook\\\\src\\\\ANPR\\\\artifacts\\\\ingested_dir\\\\raw_data\\\\images\\\\N96.xml', 'd:\\\\Develops\\\\ML_PROJECT\\\\Number_Plate_Recognition\\\\notebook\\\\src\\\\ANPR\\\\artifacts\\\\ingested_dir\\\\raw_data\\\\images\\\\N97.xml', 'd:\\\\Develops\\\\ML_PROJECT\\\\Number_Plate_Recognition\\\\notebook\\\\src\\\\ANPR\\\\artifacts\\\\ingested_dir\\\\raw_data\\\\images\\\\N98.xml', 'd:\\\\Develops\\\\ML_PROJECT\\\\Number_Plate_Recognition\\\\notebook\\\\src\\\\ANPR\\\\artifacts\\\\ingested_dir\\\\raw_data\\\\images\\\\N99.xml']\n"
     ]
    }
   ],
   "source": [
    "labels_dataframe = get_bounding_box_coordinates()"
   ]
  },
  {
   "cell_type": "code",
   "execution_count": 45,
   "metadata": {},
   "outputs": [
    {
     "data": {
      "text/plain": [
       "0      d:\\Develops\\ML_PROJECT\\Number_Plate_Recognitio...\n",
       "1      d:\\Develops\\ML_PROJECT\\Number_Plate_Recognitio...\n",
       "2      d:\\Develops\\ML_PROJECT\\Number_Plate_Recognitio...\n",
       "3      d:\\Develops\\ML_PROJECT\\Number_Plate_Recognitio...\n",
       "4      d:\\Develops\\ML_PROJECT\\Number_Plate_Recognitio...\n",
       "                             ...                        \n",
       "220    d:\\Develops\\ML_PROJECT\\Number_Plate_Recognitio...\n",
       "221    d:\\Develops\\ML_PROJECT\\Number_Plate_Recognitio...\n",
       "222    d:\\Develops\\ML_PROJECT\\Number_Plate_Recognitio...\n",
       "223    d:\\Develops\\ML_PROJECT\\Number_Plate_Recognitio...\n",
       "224    d:\\Develops\\ML_PROJECT\\Number_Plate_Recognitio...\n",
       "Name: filepath, Length: 225, dtype: object"
      ]
     },
     "execution_count": 45,
     "metadata": {},
     "output_type": "execute_result"
    }
   ],
   "source": [
    "labels_dataframe[\"filepath\"]"
   ]
  },
  {
   "cell_type": "code",
   "execution_count": 46,
   "metadata": {},
   "outputs": [
    {
     "name": "stdout",
     "output_type": "stream",
     "text": [
      "\n",
      "\t\t\n",
      "\n",
      "\t\t\n",
      "\n",
      "\t\t\n",
      "\n",
      "\t\t\n",
      "\n",
      "\t\t\n",
      "\n",
      "\t\t\n",
      "\n",
      "\t\t\n",
      "\n",
      "\t\t\n",
      "\n",
      "\t\t\n",
      "\n",
      "\t\t\n",
      "\n",
      "\t\t\n",
      "\n",
      "\t\t\n",
      "\n",
      "\t\t\n",
      "\n",
      "\t\t\n",
      "\n",
      "\t\t\n",
      "\n",
      "\t\t\n",
      "\n",
      "\t\t\n",
      "\n",
      "\t\t\n",
      "\n",
      "\t\t\n",
      "\n",
      "\t\t\n",
      "\n",
      "\t\t\n",
      "\n",
      "\t\t\n",
      "\n",
      "\t\t\n",
      "\n",
      "\t\t\n",
      "\n",
      "\t\t\n",
      "\n",
      "\t\t\n",
      "\n",
      "\t\t\n",
      "\n",
      "\t\t\n",
      "\n",
      "\t\t\n",
      "\n",
      "\t\t\n",
      "\n",
      "\t\t\n",
      "\n",
      "\t\t\n",
      "\n",
      "\t\t\n",
      "\n",
      "\t\t\n",
      "\n",
      "\t\t\n",
      "\n",
      "\t\t\n",
      "\n",
      "\t\t\n",
      "\n",
      "\t\t\n",
      "\n",
      "\t\t\n",
      "\n",
      "\t\t\n",
      "\n",
      "\t\t\n",
      "\n",
      "\t\t\n",
      "\n",
      "\t\t\n",
      "\n",
      "\t\t\n",
      "\n",
      "\t\t\n",
      "\n",
      "\t\t\n",
      "\n",
      "\t\t\n",
      "\n",
      "\t\t\n",
      "\n",
      "\t\t\n",
      "\n",
      "\t\t\n",
      "\n",
      "\t\t\n",
      "\n",
      "\t\t\n",
      "\n",
      "\t\t\n",
      "\n",
      "\t\t\n",
      "\n",
      "\t\t\n",
      "\n",
      "\t\t\n",
      "\n",
      "\t\t\n",
      "\n",
      "\t\t\n",
      "\n",
      "\t\t\n",
      "\n",
      "\t\t\n",
      "\n",
      "\t\t\n",
      "\n",
      "\t\t\n",
      "\n",
      "\t\t\n",
      "\n",
      "\t\t\n",
      "\n",
      "\t\t\n",
      "\n",
      "\t\t\n",
      "\n",
      "\t\t\n",
      "\n",
      "\t\t\n",
      "\n",
      "\t\t\n",
      "\n",
      "\t\t\n",
      "\n",
      "\t\t\n",
      "\n",
      "\t\t\n",
      "\n",
      "\t\t\n",
      "\n",
      "\t\t\n",
      "\n",
      "\t\t\n",
      "\n",
      "\t\t\n",
      "\n",
      "\t\t\n",
      "\n",
      "\t\t\n",
      "\n",
      "\t\t\n",
      "\n",
      "\t\t\n",
      "\n",
      "\t\t\n",
      "\n",
      "\t\t\n",
      "\n",
      "\t\t\n",
      "\n",
      "\t\t\n",
      "\n",
      "\t\t\n",
      "\n",
      "\t\t\n",
      "\n",
      "\t\t\n",
      "\n",
      "\t\t\n",
      "\n",
      "\t\t\n",
      "\n",
      "\t\t\n",
      "\n",
      "\t\t\n",
      "\n",
      "\t\t\n",
      "\n",
      "\t\t\n",
      "\n",
      "\t\t\n",
      "\n",
      "\t\t\n",
      "\n",
      "\t\t\n",
      "\n",
      "\t\t\n",
      "\n",
      "\t\t\n",
      "\n",
      "\t\t\n",
      "\n",
      "\t\t\n",
      "\n",
      "\t\t\n",
      "\n",
      "\t\t\n",
      "\n",
      "\t\t\n",
      "\n",
      "\t\t\n",
      "\n",
      "\t\t\n",
      "\n",
      "\t\t\n",
      "\n",
      "\t\t\n",
      "\n",
      "\t\t\n",
      "\n",
      "\t\t\n",
      "\n",
      "\t\t\n",
      "\n",
      "\t\t\n",
      "\n",
      "\t\t\n",
      "\n",
      "\t\t\n",
      "\n",
      "\t\t\n",
      "\n",
      "\t\t\n",
      "\n",
      "\t\t\n",
      "\n",
      "\t\t\n",
      "\n",
      "\t\t\n",
      "\n",
      "\t\t\n",
      "\n",
      "\t\t\n",
      "\n",
      "\t\t\n",
      "\n",
      "\t\t\n",
      "\n",
      "\t\t\n",
      "\n",
      "\t\t\n",
      "\n",
      "\t\t\n",
      "\n",
      "\t\t\n",
      "\n",
      "\t\t\n",
      "\n",
      "\t\t\n",
      "\n",
      "\t\t\n",
      "\n",
      "\t\t\n",
      "\n",
      "\t\t\n",
      "\n",
      "\t\t\n",
      "\n",
      "\t\t\n",
      "\n",
      "\t\t\n",
      "\n",
      "\t\t\n",
      "\n",
      "\t\t\n",
      "\n",
      "\t\t\n",
      "\n",
      "\t\t\n",
      "\n",
      "\t\t\n",
      "\n",
      "\t\t\n",
      "\n",
      "\t\t\n",
      "\n",
      "\t\t\n",
      "\n",
      "\t\t\n",
      "\n",
      "\t\t\n",
      "\n",
      "\t\t\n",
      "\n",
      "\t\t\n",
      "\n",
      "\t\t\n",
      "\n",
      "\t\t\n",
      "\n",
      "\t\t\n",
      "\n",
      "\t\t\n",
      "\n",
      "\t\t\n",
      "\n",
      "\t\t\n",
      "\n",
      "\t\t\n",
      "\n",
      "\t\t\n",
      "\n",
      "\t\t\n",
      "\n",
      "\t\t\n",
      "\n",
      "\t\t\n",
      "\n",
      "\t\t\n",
      "\n",
      "\t\t\n",
      "\n",
      "\t\t\n",
      "\n",
      "\t\t\n",
      "\n",
      "\t\t\n",
      "\n",
      "\t\t\n",
      "\n",
      "\t\t\n",
      "\n",
      "\t\t\n",
      "\n",
      "\t\t\n",
      "\n",
      "\t\t\n",
      "\n",
      "\t\t\n",
      "\n",
      "\t\t\n",
      "\n",
      "\t\t\n",
      "\n",
      "\t\t\n",
      "\n",
      "\t\t\n",
      "\n",
      "\t\t\n",
      "\n",
      "\t\t\n",
      "\n",
      "\t\t\n",
      "\n",
      "\t\t\n",
      "\n",
      "\t\t\n",
      "\n",
      "\t\t\n",
      "\n",
      "\t\t\n",
      "\n",
      "\t\t\n",
      "\n",
      "\t\t\n",
      "\n",
      "\t\t\n",
      "\n",
      "\t\t\n",
      "\n",
      "\t\t\n",
      "\n",
      "\t\t\n",
      "\n",
      "\t\t\n",
      "\n",
      "\t\t\n",
      "\n",
      "\t\t\n",
      "\n",
      "\t\t\n",
      "\n",
      "\t\t\n",
      "\n",
      "\t\t\n",
      "\n",
      "\t\t\n",
      "\n",
      "\t\t\n",
      "\n",
      "\t\t\n",
      "\n",
      "\t\t\n",
      "\n",
      "\t\t\n",
      "\n",
      "\t\t\n",
      "\n",
      "\t\t\n",
      "\n",
      "\t\t\n",
      "\n",
      "\t\t\n",
      "\n",
      "\t\t\n",
      "\n",
      "\t\t\n",
      "\n",
      "\t\t\n",
      "\n",
      "\t\t\n",
      "\n",
      "\t\t\n",
      "\n",
      "\t\t\n",
      "\n",
      "\t\t\n",
      "\n",
      "\t\t\n",
      "\n",
      "\t\t\n",
      "\n",
      "\t\t\n",
      "\n",
      "\t\t\n",
      "\n",
      "\t\t\n",
      "\n",
      "\t\t\n",
      "\n",
      "\t\t\n",
      "\n",
      "\t\t\n",
      "\n",
      "\t\t\n",
      "\n",
      "\t\t\n",
      "\n",
      "\t\t\n",
      "\n",
      "\t\t\n",
      "\n",
      "\t\t\n",
      "\n",
      "\t\t\n",
      "\n",
      "\t\t\n",
      "\n",
      "\t\t\n",
      "\n",
      "\t\t\n",
      "\n",
      "\t\t\n"
     ]
    },
    {
     "data": {
      "text/plain": [
       "[0      None\n",
       " 1      None\n",
       " 2      None\n",
       " 3      None\n",
       " 4      None\n",
       "        ... \n",
       " 220    None\n",
       " 221    None\n",
       " 222    None\n",
       " 223    None\n",
       " 224    None\n",
       " Name: filepath, Length: 225, dtype: object]"
      ]
     },
     "execution_count": 46,
     "metadata": {},
     "output_type": "execute_result"
    }
   ],
   "source": [
    "[labels_dataframe[\"filepath\"].apply(get_filename_from_XML)]"
   ]
  },
  {
   "cell_type": "code",
   "execution_count": 54,
   "metadata": {},
   "outputs": [
    {
     "data": {
      "text/html": [
       "<div>\n",
       "<style scoped>\n",
       "    .dataframe tbody tr th:only-of-type {\n",
       "        vertical-align: middle;\n",
       "    }\n",
       "\n",
       "    .dataframe tbody tr th {\n",
       "        vertical-align: top;\n",
       "    }\n",
       "\n",
       "    .dataframe thead th {\n",
       "        text-align: right;\n",
       "    }\n",
       "</style>\n",
       "<table border=\"1\" class=\"dataframe\">\n",
       "  <thead>\n",
       "    <tr style=\"text-align: right;\">\n",
       "      <th></th>\n",
       "      <th>xmin</th>\n",
       "      <th>xmax</th>\n",
       "      <th>ymin</th>\n",
       "      <th>ymax</th>\n",
       "    </tr>\n",
       "  </thead>\n",
       "  <tbody>\n",
       "    <tr>\n",
       "      <th>0</th>\n",
       "      <td>1093</td>\n",
       "      <td>1396</td>\n",
       "      <td>645</td>\n",
       "      <td>727</td>\n",
       "    </tr>\n",
       "    <tr>\n",
       "      <th>1</th>\n",
       "      <td>134</td>\n",
       "      <td>301</td>\n",
       "      <td>312</td>\n",
       "      <td>350</td>\n",
       "    </tr>\n",
       "    <tr>\n",
       "      <th>2</th>\n",
       "      <td>31</td>\n",
       "      <td>139</td>\n",
       "      <td>128</td>\n",
       "      <td>161</td>\n",
       "    </tr>\n",
       "    <tr>\n",
       "      <th>3</th>\n",
       "      <td>164</td>\n",
       "      <td>316</td>\n",
       "      <td>216</td>\n",
       "      <td>243</td>\n",
       "    </tr>\n",
       "    <tr>\n",
       "      <th>4</th>\n",
       "      <td>813</td>\n",
       "      <td>1067</td>\n",
       "      <td>665</td>\n",
       "      <td>724</td>\n",
       "    </tr>\n",
       "    <tr>\n",
       "      <th>...</th>\n",
       "      <td>...</td>\n",
       "      <td>...</td>\n",
       "      <td>...</td>\n",
       "      <td>...</td>\n",
       "    </tr>\n",
       "    <tr>\n",
       "      <th>220</th>\n",
       "      <td>23</td>\n",
       "      <td>408</td>\n",
       "      <td>173</td>\n",
       "      <td>391</td>\n",
       "    </tr>\n",
       "    <tr>\n",
       "      <th>221</th>\n",
       "      <td>137</td>\n",
       "      <td>352</td>\n",
       "      <td>141</td>\n",
       "      <td>186</td>\n",
       "    </tr>\n",
       "    <tr>\n",
       "      <th>222</th>\n",
       "      <td>175</td>\n",
       "      <td>290</td>\n",
       "      <td>228</td>\n",
       "      <td>255</td>\n",
       "    </tr>\n",
       "    <tr>\n",
       "      <th>223</th>\n",
       "      <td>563</td>\n",
       "      <td>675</td>\n",
       "      <td>207</td>\n",
       "      <td>238</td>\n",
       "    </tr>\n",
       "    <tr>\n",
       "      <th>224</th>\n",
       "      <td>158</td>\n",
       "      <td>389</td>\n",
       "      <td>129</td>\n",
       "      <td>193</td>\n",
       "    </tr>\n",
       "  </tbody>\n",
       "</table>\n",
       "<p>225 rows × 4 columns</p>\n",
       "</div>"
      ],
      "text/plain": [
       "     xmin  xmax  ymin  ymax\n",
       "0    1093  1396   645   727\n",
       "1     134   301   312   350\n",
       "2      31   139   128   161\n",
       "3     164   316   216   243\n",
       "4     813  1067   665   724\n",
       "..    ...   ...   ...   ...\n",
       "220    23   408   173   391\n",
       "221   137   352   141   186\n",
       "222   175   290   228   255\n",
       "223   563   675   207   238\n",
       "224   158   389   129   193\n",
       "\n",
       "[225 rows x 4 columns]"
      ]
     },
     "execution_count": 54,
     "metadata": {},
     "output_type": "execute_result"
    }
   ],
   "source": [
    "labels_dataframe.iloc[:,1:]"
   ]
  },
  {
   "cell_type": "code",
   "execution_count": 58,
   "metadata": {},
   "outputs": [],
   "source": [
    "xmin,xmax,ymin,ymax = labels_dataframe.iloc[:,1:].values[0]"
   ]
  },
  {
   "cell_type": "code",
   "execution_count": 59,
   "metadata": {},
   "outputs": [
    {
     "data": {
      "text/plain": [
       "np.int64(1396)"
      ]
     },
     "execution_count": 59,
     "metadata": {},
     "output_type": "execute_result"
    }
   ],
   "source": [
    "xmax"
   ]
  },
  {
   "cell_type": "code",
   "execution_count": 60,
   "metadata": {},
   "outputs": [
    {
     "data": {
      "text/plain": [
       "array([1093, 1396,  645,  727])"
      ]
     },
     "execution_count": 60,
     "metadata": {},
     "output_type": "execute_result"
    }
   ],
   "source": [
    "labels_dataframe.iloc[:,1:].values[0]"
   ]
  },
  {
   "cell_type": "code",
   "execution_count": 61,
   "metadata": {},
   "outputs": [],
   "source": [
    "import numpy as np"
   ]
  },
  {
   "cell_type": "code",
   "execution_count": 62,
   "metadata": {},
   "outputs": [
    {
     "data": {
      "text/plain": [
       "'d:\\\\Develops\\\\ML_PROJECT\\\\Number_Plate_Recognition\\\\notebook\\\\src\\\\ANPR\\\\artifacts'"
      ]
     },
     "execution_count": 62,
     "metadata": {},
     "output_type": "execute_result"
    }
   ],
   "source": [
    "os.path.dirname(data_ingestion_config.data_transformation_config().data_transformation_artifact_dir)"
   ]
  },
  {
   "cell_type": "code",
   "execution_count": 63,
   "metadata": {},
   "outputs": [
    {
     "data": {
      "text/plain": [
       "'d:\\\\Develops\\\\ML_PROJECT\\\\Number_Plate_Recognition\\\\notebook\\\\src\\\\ANPR\\\\artifacts\\\\data_transformation'"
      ]
     },
     "execution_count": 63,
     "metadata": {},
     "output_type": "execute_result"
    }
   ],
   "source": [
    "data_ingestion_config.data_transformation_config().data_transformation_artifact_dir"
   ]
  },
  {
   "cell_type": "code",
   "execution_count": 64,
   "metadata": {},
   "outputs": [
    {
     "data": {
      "text/plain": [
       "'d:\\\\Develops\\\\ML_PROJECT\\\\Number_Plate_Recognition\\\\notebook\\\\src\\\\ANPR\\\\artifacts\\\\data_transformation\\\\labels.csv'"
      ]
     },
     "execution_count": 64,
     "metadata": {},
     "output_type": "execute_result"
    }
   ],
   "source": [
    "data_ingestion_config.data_transformation_config().labeled_dataframe"
   ]
  },
  {
   "cell_type": "code",
   "execution_count": null,
   "metadata": {},
   "outputs": [],
   "source": []
  }
 ],
 "metadata": {
  "kernelspec": {
   "display_name": "venv_ANPR",
   "language": "python",
   "name": "python3"
  },
  "language_info": {
   "codemirror_mode": {
    "name": "ipython",
    "version": 3
   },
   "file_extension": ".py",
   "mimetype": "text/x-python",
   "name": "python",
   "nbconvert_exporter": "python",
   "pygments_lexer": "ipython3",
   "version": "3.10.16"
  }
 },
 "nbformat": 4,
 "nbformat_minor": 2
}

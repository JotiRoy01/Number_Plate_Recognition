{
 "cells": [
  {
   "cell_type": "code",
   "execution_count": 35,
   "metadata": {},
   "outputs": [],
   "source": [
    "import os, sys\n",
    "from ANPR.config.configuration import Configuration\n",
    "from ANPR.constants import *\n",
    "from ANPR.entity.config_entity import DataIngestionConfig\n",
    "from ANPR.exception import *\n",
    "from ANPR.logger.log import logging\n",
    "from ANPR.utils.common import read_yaml\n",
    "from zipfile import ZipFile, Path"
   ]
  },
  {
   "cell_type": "code",
   "execution_count": 2,
   "metadata": {},
   "outputs": [
    {
     "data": {
      "text/plain": [
       "'2025-01-30-20-03-02'"
      ]
     },
     "execution_count": 2,
     "metadata": {},
     "output_type": "execute_result"
    }
   ],
   "source": [
    "CONFIG_FILE_PATH = \"D:/Develops/ML_PROJECT/Number_Plate_Recognition/config/config.yaml\"\n",
    "CURRENT_TIME_STAMP"
   ]
  },
  {
   "cell_type": "code",
   "execution_count": 3,
   "metadata": {},
   "outputs": [],
   "source": [
    "data_ingestion_config = Configuration(config_file_path=CONFIG_FILE_PATH, current_time_stamp=CURRENT_TIME_STAMP)"
   ]
  },
  {
   "cell_type": "code",
   "execution_count": 4,
   "metadata": {},
   "outputs": [],
   "source": [
    "data_ingestion_config = data_ingestion_config.get_data_ingestion_config()"
   ]
  },
  {
   "cell_type": "code",
   "execution_count": 5,
   "metadata": {},
   "outputs": [],
   "source": [
    "data_url = data_ingestion_config.data_url"
   ]
  },
  {
   "cell_type": "code",
   "execution_count": 6,
   "metadata": {},
   "outputs": [
    {
     "data": {
      "text/plain": [
       "'view?usp=sharing'"
      ]
     },
     "execution_count": 6,
     "metadata": {},
     "output_type": "execute_result"
    }
   ],
   "source": [
    "os.path.basename(data_url)"
   ]
  },
  {
   "cell_type": "code",
   "execution_count": 7,
   "metadata": {},
   "outputs": [],
   "source": [
    "zip_downlod_dir = data_ingestion_config.zip_download_dir"
   ]
  },
  {
   "cell_type": "code",
   "execution_count": 8,
   "metadata": {},
   "outputs": [
    {
     "data": {
      "text/plain": [
       "'d:\\\\Develops\\\\ML_PROJECT\\\\Number_Plate_Recognition\\\\notebook\\\\src\\\\ANPR\\\\artifacts\\\\ingested_dir\\\\raw_data\\\\zip_data'"
      ]
     },
     "execution_count": 8,
     "metadata": {},
     "output_type": "execute_result"
    }
   ],
   "source": [
    "zip_downlod_dir"
   ]
  },
  {
   "cell_type": "code",
   "execution_count": 9,
   "metadata": {},
   "outputs": [
    {
     "data": {
      "text/plain": [
       "'https://drive.google.com/file/d/1d3IcHxIbP-FRiUzhhDtdnALwcnJ0AqMP/view?usp=sharing'"
      ]
     },
     "execution_count": 9,
     "metadata": {},
     "output_type": "execute_result"
    }
   ],
   "source": [
    "data_url"
   ]
  },
  {
   "cell_type": "code",
   "execution_count": 10,
   "metadata": {},
   "outputs": [],
   "source": [
    "file_id = data_url.split(\"/\")[-2]"
   ]
  },
  {
   "cell_type": "code",
   "execution_count": 11,
   "metadata": {},
   "outputs": [
    {
     "data": {
      "text/plain": [
       "'1d3IcHxIbP-FRiUzhhDtdnALwcnJ0AqMP'"
      ]
     },
     "execution_count": 11,
     "metadata": {},
     "output_type": "execute_result"
    }
   ],
   "source": [
    "file_id"
   ]
  },
  {
   "cell_type": "code",
   "execution_count": 12,
   "metadata": {},
   "outputs": [
    {
     "data": {
      "text/plain": [
       "'M'"
      ]
     },
     "execution_count": 12,
     "metadata": {},
     "output_type": "execute_result"
    }
   ],
   "source": [
    "file_id[-2]"
   ]
  },
  {
   "cell_type": "code",
   "execution_count": 13,
   "metadata": {},
   "outputs": [],
   "source": [
    "prefix = \"https://drive.google.com/uc?id=\"\n",
    "#gdown.download(prefix+file_id,zip_downlod_dir)"
   ]
  },
  {
   "cell_type": "code",
   "execution_count": 14,
   "metadata": {},
   "outputs": [],
   "source": [
    "import gdown"
   ]
  },
  {
   "cell_type": "code",
   "execution_count": 15,
   "metadata": {},
   "outputs": [],
   "source": [
    "image_data_url = prefix+file_id"
   ]
  },
  {
   "cell_type": "code",
   "execution_count": 16,
   "metadata": {},
   "outputs": [
    {
     "data": {
      "text/plain": [
       "'https://drive.google.com/uc?id=1d3IcHxIbP-FRiUzhhDtdnALwcnJ0AqMP'"
      ]
     },
     "execution_count": 16,
     "metadata": {},
     "output_type": "execute_result"
    }
   ],
   "source": [
    "image_data_url"
   ]
  },
  {
   "cell_type": "code",
   "execution_count": 17,
   "metadata": {},
   "outputs": [],
   "source": [
    "from six.moves import urllib\n",
    "import datetime"
   ]
  },
  {
   "cell_type": "code",
   "execution_count": 18,
   "metadata": {},
   "outputs": [],
   "source": [
    "filename = \"images.zip\""
   ]
  },
  {
   "cell_type": "code",
   "execution_count": 19,
   "metadata": {},
   "outputs": [],
   "source": [
    "zip_downlod_file_name = os.path.join(zip_downlod_dir, filename) "
   ]
  },
  {
   "cell_type": "code",
   "execution_count": 20,
   "metadata": {},
   "outputs": [],
   "source": [
    "os.makedirs(zip_downlod_dir, exist_ok=True)"
   ]
  },
  {
   "cell_type": "code",
   "execution_count": 21,
   "metadata": {},
   "outputs": [],
   "source": [
    "#urllib.request.urlretrieve(image_data_url, zip_downlod_file_name)"
   ]
  },
  {
   "cell_type": "code",
   "execution_count": 22,
   "metadata": {},
   "outputs": [],
   "source": [
    "# def downlaod_images() :\n",
    "#     now = datetime.datetime.now()\n",
    "#     timestamp = now.strftime(\"%Y-%m-%d-%H-%M-%S\")\n",
    "#     prefix = \"https://drive.google.com/uc?/export=download&id=\"\n",
    "#     url_id = data_ingestion_config.data_url.split(\"/\")[-2]\n",
    "#     zip_data_url = prefix + url_id\n",
    "    \n",
    "#     file_extension = \"images.zip\"\n",
    "#     zip_data_file_name = os.path.join(zip_downlod_dir, file_extension)\n",
    "#     os.makedirs(zip_downlod_dir, exist_ok=True)\n",
    "#     urllib.request.urlretrieve(zip_data_url, zip_data_file_name)\n"
   ]
  },
  {
   "cell_type": "code",
   "execution_count": 23,
   "metadata": {},
   "outputs": [
    {
     "ename": "NameError",
     "evalue": "name 'downlaod_images' is not defined",
     "output_type": "error",
     "traceback": [
      "\u001b[1;31m---------------------------------------------------------------------------\u001b[0m",
      "\u001b[1;31mNameError\u001b[0m                                 Traceback (most recent call last)",
      "Cell \u001b[1;32mIn[23], line 1\u001b[0m\n\u001b[1;32m----> 1\u001b[0m \u001b[43mdownlaod_images\u001b[49m()\n",
      "\u001b[1;31mNameError\u001b[0m: name 'downlaod_images' is not defined"
     ]
    }
   ],
   "source": [
    "downlaod_images()"
   ]
  },
  {
   "cell_type": "code",
   "execution_count": 36,
   "metadata": {},
   "outputs": [
    {
     "ename": "AttributeError",
     "evalue": "type object 'datetime.datetime' has no attribute 'datetime'",
     "output_type": "error",
     "traceback": [
      "\u001b[1;31m---------------------------------------------------------------------------\u001b[0m",
      "\u001b[1;31mAttributeError\u001b[0m                            Traceback (most recent call last)",
      "Cell \u001b[1;32mIn[36], line 1\u001b[0m\n\u001b[1;32m----> 1\u001b[0m \u001b[43mdatetime\u001b[49m\u001b[38;5;241;43m.\u001b[39;49m\u001b[43mdatetime\u001b[49m\u001b[38;5;241m.\u001b[39mnow()\n",
      "\u001b[1;31mAttributeError\u001b[0m: type object 'datetime.datetime' has no attribute 'datetime'"
     ]
    }
   ],
   "source": [
    "datetime.datetime.now()"
   ]
  },
  {
   "cell_type": "code",
   "execution_count": 37,
   "metadata": {},
   "outputs": [
    {
     "data": {
      "text/plain": [
       "'1d3IcHxIbP-FRiUzhhDtdnALwcnJ0AqMP'"
      ]
     },
     "execution_count": 37,
     "metadata": {},
     "output_type": "execute_result"
    }
   ],
   "source": [
    "data_ingestion_config.data_url.split(\"/\")[-2]"
   ]
  },
  {
   "cell_type": "code",
   "execution_count": 38,
   "metadata": {},
   "outputs": [],
   "source": [
    "url_id = data_ingestion_config.data_url.split(\"/\")[-2]\n",
    "zip_data_url = prefix + url_id"
   ]
  },
  {
   "cell_type": "code",
   "execution_count": 39,
   "metadata": {},
   "outputs": [
    {
     "data": {
      "text/plain": [
       "'https://drive.google.com/uc?id=1d3IcHxIbP-FRiUzhhDtdnALwcnJ0AqMP'"
      ]
     },
     "execution_count": 39,
     "metadata": {},
     "output_type": "execute_result"
    }
   ],
   "source": [
    "zip_data_url"
   ]
  },
  {
   "cell_type": "code",
   "execution_count": 40,
   "metadata": {},
   "outputs": [
    {
     "data": {
      "text/plain": [
       "'2025-01-30-20-03-02'"
      ]
     },
     "execution_count": 40,
     "metadata": {},
     "output_type": "execute_result"
    }
   ],
   "source": [
    "CURRENT_TIME_STAMP"
   ]
  },
  {
   "cell_type": "code",
   "execution_count": 41,
   "metadata": {},
   "outputs": [],
   "source": [
    "from zipfile import ZipFile"
   ]
  },
  {
   "cell_type": "code",
   "execution_count": 72,
   "metadata": {},
   "outputs": [],
   "source": [
    "def _get_updated_list_of_file(list_of_files) :\n",
    "    ''''\n",
    "    Method Name: _get_updated_list_of_file\n",
    "    Description: This hidden method will check if file is of extension jpeg or xml \n",
    "    '''\n",
    "    return [f for f in list_of_files if f.endswith(\".jpeg\") or (f.endswith(\".xml\"))]\n",
    "    "
   ]
  },
  {
   "cell_type": "code",
   "execution_count": 73,
   "metadata": {},
   "outputs": [],
   "source": [
    "def _preprocess(zf:ZipFile, f:str, working_dir):\n",
    "    \"\"\"\n",
    "    Method Name : _preprocess\n",
    "    Description: This hiddent method chekc if file exists if so, then will extract into target folder & Also check size of file, if it's empty then removes it\n",
    "    \"\"\"\n",
    "    target_filepath = os.path.join(data_ingestion_config.raw_data_dir,f)\n",
    "    if not os.path.exists(target_filepath) :\n",
    "        zf.extract(f, working_dir)\n",
    "\n",
    "    if os.path.getsize(target_filepath == 0) :\n",
    "        os.remove(target_filepath)"
   ]
  },
  {
   "cell_type": "code",
   "execution_count": 74,
   "metadata": {},
   "outputs": [],
   "source": [
    "def unzip_file_and_clean(zip_data_file_path:str, raw_data_dir:str) -> Path :\n",
    "    \"\"\"\n",
    "    Method Name: unzip file\n",
    "    Description: This method will unzip folder and save it\n",
    "    \"\"\"\n",
    "    zip_data_file_path = os.path.join(data_ingestion_config.zip_download_dir, \"images.zip\")\n",
    "    try :\n",
    "        with ZipFile(zip_data_file_path, mode=\"r\") as zip_ref :\n",
    "            list_of_file = zip_ref.namelist()\n",
    "            print(list_of_file)\n",
    "            updated_list_of_file = _get_updated_list_of_file(list_of_files=list_of_file)\n",
    "            for file in updated_list_of_file :\n",
    "                _preprocess(zip_ref, file, raw_data_dir)\n",
    "    except Exception as e:\n",
    "         raise ANPR_Exceptioon(e,sys) from e"
   ]
  },
  {
   "cell_type": "code",
   "execution_count": 75,
   "metadata": {},
   "outputs": [
    {
     "name": "stdout",
     "output_type": "stream",
     "text": [
      "['images/N1.jpeg', 'images/N1.xml', 'images/N100.jpeg', 'images/N100.xml', 'images/N101.jpeg', 'images/N101.xml', 'images/N102.jpeg', 'images/N102.xml', 'images/N103.jpeg', 'images/N103.xml', 'images/N104.jpeg', 'images/N104.xml', 'images/N105.jpeg', 'images/N105.xml', 'images/N106.jpeg', 'images/N106.xml', 'images/N107.jpeg', 'images/N107.xml', 'images/N108.jpeg', 'images/N108.xml', 'images/N109.jpeg', 'images/N109.xml', 'images/N11.jpeg', 'images/N11.xml', 'images/N110.jpeg', 'images/N110.xml', 'images/N111.jpeg', 'images/N111.xml', 'images/N112.jpeg', 'images/N112.xml', 'images/N113.jpeg', 'images/N113.xml', 'images/N114.jpeg', 'images/N114.xml', 'images/N116.jpeg', 'images/N116.xml', 'images/N117.jpeg', 'images/N117.xml', 'images/N118.jpeg', 'images/N118.xml', 'images/N119.jpeg', 'images/N119.xml', 'images/N12.jpeg', 'images/N12.xml', 'images/N120.jpeg', 'images/N120.xml', 'images/N121.jpeg', 'images/N121.xml', 'images/N122.jpeg', 'images/N122.xml', 'images/N123.jpeg', 'images/N123.xml', 'images/N124.jpeg', 'images/N124.xml', 'images/N126.jpeg', 'images/N126.xml', 'images/N127.jpeg', 'images/N127.xml', 'images/N128.jpeg', 'images/N128.xml', 'images/N129.jpeg', 'images/N129.xml', 'images/N130.jpeg', 'images/N130.xml', 'images/N131.jpeg', 'images/N131.xml', 'images/N132.jpeg', 'images/N132.xml', 'images/N133.jpeg', 'images/N133.xml', 'images/N134.jpeg', 'images/N134.xml', 'images/N135.jpeg', 'images/N135.xml', 'images/N136.jpeg', 'images/N136.xml', 'images/N137.jpeg', 'images/N137.xml', 'images/N138.jpeg', 'images/N138.xml', 'images/N139.jpeg', 'images/N139.xml', 'images/N14.jpeg', 'images/N14.xml', 'images/N140.jpeg', 'images/N140.xml', 'images/N141.jpeg', 'images/N141.xml', 'images/N142.jpeg', 'images/N142.xml', 'images/N143.jpeg', 'images/N143.xml', 'images/N144.jpeg', 'images/N144.xml', 'images/N145.jpeg', 'images/N145.xml', 'images/N147.jpeg', 'images/N147.xml', 'images/N148.jpeg', 'images/N148.xml', 'images/N149.jpeg', 'images/N149.xml', 'images/N15.jpeg', 'images/N15.xml', 'images/N150.jpeg', 'images/N150.xml', 'images/N151.jpeg', 'images/N151.xml', 'images/N152.jpeg', 'images/N152.xml', 'images/N153.jpeg', 'images/N153.xml', 'images/N154.jpeg', 'images/N154.xml', 'images/N155.jpeg', 'images/N155.xml', 'images/N156.jpeg', 'images/N156.xml', 'images/N158.jpeg', 'images/N158.xml', 'images/N16.jpeg', 'images/N16.xml', 'images/N160.jpeg', 'images/N160.xml', 'images/N162.jpeg', 'images/N162.xml', 'images/N163.jpeg', 'images/N163.xml', 'images/N164.jpeg', 'images/N164.xml', 'images/N165.jpeg', 'images/N165.xml', 'images/N166.jpeg', 'images/N166.xml', 'images/N167.jpeg', 'images/N167.xml', 'images/N168.jpeg', 'images/N168.xml', 'images/N169.jpeg', 'images/N169.xml', 'images/N17.jpeg', 'images/N17.xml', 'images/N170.jpeg', 'images/N170.xml', 'images/N171.jpeg', 'images/N171.xml', 'images/N172.jpeg', 'images/N172.xml', 'images/N173.jpeg', 'images/N173.xml', 'images/N174.jpeg', 'images/N174.xml', 'images/N175.jpeg', 'images/N175.xml', 'images/N176.jpeg', 'images/N176.xml', 'images/N177.jpeg', 'images/N177.xml', 'images/N178.jpeg', 'images/N178.xml', 'images/N179.jpeg', 'images/N179.xml', 'images/N18.jpeg', 'images/N18.xml', 'images/N180.jpeg', 'images/N181.jpeg', 'images/N181.xml', 'images/N182.jpeg', 'images/N183.jpeg', 'images/N183.xml', 'images/N184.jpeg', 'images/N184.xml', 'images/N185.jpeg', 'images/N185.xml', 'images/N186.jpeg', 'images/N186.xml', 'images/N187.jpeg', 'images/N187.xml', 'images/N188.jpeg', 'images/N188.xml', 'images/N189.jpeg', 'images/N189.xml', 'images/N19.jpeg', 'images/N19.xml', 'images/N190.jpeg', 'images/N190.xml', 'images/N191.jpeg', 'images/N191.xml', 'images/N192.jpeg', 'images/N192.xml', 'images/N193.jpeg', 'images/N193.xml', 'images/N195.jpeg', 'images/N195.xml', 'images/N196.jpeg', 'images/N196.xml', 'images/N197.jpeg', 'images/N197.xml', 'images/N198.jpeg', 'images/N198.xml', 'images/N199.jpeg', 'images/N199.xml', 'images/N2.jpeg', 'images/N2.xml', 'images/N20.jpeg', 'images/N20.xml', 'images/N200.jpeg', 'images/N200.xml', 'images/N201.jpeg', 'images/N201.xml', 'images/N202.jpeg', 'images/N202.xml', 'images/N203.jpeg', 'images/N203.xml', 'images/N204.jpeg', 'images/N204.xml', 'images/N205.jpeg', 'images/N205.xml', 'images/N206.jpeg', 'images/N206.xml', 'images/N207.jpeg', 'images/N207.xml', 'images/N208.jpeg', 'images/N208.xml', 'images/N209.jpeg', 'images/N209.xml', 'images/N21.jpeg', 'images/N21.xml', 'images/N210.jpeg', 'images/N210.xml', 'images/N211.jpeg', 'images/N211.xml', 'images/N212.jpeg', 'images/N212.xml', 'images/N213.jpeg', 'images/N213.xml', 'images/N214.jpeg', 'images/N214.xml', 'images/N215.jpeg', 'images/N215.xml', 'images/N216.jpeg', 'images/N216.xml', 'images/N217.jpeg', 'images/N217.xml', 'images/N218.jpeg', 'images/N218.xml', 'images/N219.jpeg', 'images/N219.xml', 'images/N22.jpeg', 'images/N22.xml', 'images/N220.jpeg', 'images/N220.xml', 'images/N221.jpeg', 'images/N221.xml', 'images/N222.jpeg', 'images/N222.xml', 'images/N223.jpeg', 'images/N223.xml', 'images/N224.jpeg', 'images/N224.xml', 'images/N225.jpeg', 'images/N225.xml', 'images/N226.jpeg', 'images/N226.xml', 'images/N227.jpeg', 'images/N227.xml', 'images/N229.jpeg', 'images/N229.xml', 'images/N23.jpeg', 'images/N23.xml', 'images/N230.jpeg', 'images/N230.xml', 'images/N231.jpeg', 'images/N231.xml', 'images/N232.jpeg', 'images/N232.xml', 'images/N233.jpeg', 'images/N233.xml', 'images/N234.jpeg', 'images/N234.xml', 'images/N235.jpeg', 'images/N235.xml', 'images/N236.jpeg', 'images/N236.xml', 'images/N237.jpeg', 'images/N237.xml', 'images/N238.jpeg', 'images/N238.xml', 'images/N239.jpeg', 'images/N239.xml', 'images/N24.jpeg', 'images/N24.xml', 'images/N240.jpeg', 'images/N240.xml', 'images/N241.jpeg', 'images/N241.xml', 'images/N242.jpeg', 'images/N242.xml', 'images/N244.jpeg', 'images/N244.xml', 'images/N245.jpeg', 'images/N245.xml', 'images/N246.jpeg', 'images/N246.xml', 'images/N247.jpeg', 'images/N247.xml', 'images/N248.jpeg', 'images/N248.xml', 'images/N249.jpeg', 'images/N25.jpeg', 'images/N25.xml', 'images/N27.jpeg', 'images/N27.xml', 'images/N28.jpeg', 'images/N28.xml', 'images/N3.jpeg', 'images/N3.xml', 'images/N30.jpeg', 'images/N30.xml', 'images/N31.jpeg', 'images/N31.xml', 'images/N32.jpeg', 'images/N32.xml', 'images/N33.jpeg', 'images/N33.xml', 'images/N34.jpeg', 'images/N34.xml', 'images/N35.jpeg', 'images/N35.xml', 'images/N36.jpeg', 'images/N36.xml', 'images/N37.jpeg', 'images/N37.xml', 'images/N38.jpeg', 'images/N38.xml', 'images/N4.jpeg', 'images/N4.xml', 'images/N40.jpeg', 'images/N40.xml', 'images/N42.jpeg', 'images/N42.xml', 'images/N43.jpeg', 'images/N43.xml', 'images/N44.jpeg', 'images/N44.xml', 'images/N45.jpeg', 'images/N45.xml', 'images/N46.jpeg', 'images/N46.xml', 'images/N47.jpeg', 'images/N47.xml', 'images/N48.jpeg', 'images/N48.xml', 'images/N49.jpeg', 'images/N49.xml', 'images/N5.jpeg', 'images/N5.xml', 'images/N50.jpeg', 'images/N50.xml', 'images/N51.jpeg', 'images/N51.xml', 'images/N52.jpeg', 'images/N52.xml', 'images/N53.jpeg', 'images/N53.xml', 'images/N54.jpeg', 'images/N54.xml', 'images/N56.jpeg', 'images/N56.xml', 'images/N57.jpeg', 'images/N57.xml', 'images/N58.jpeg', 'images/N58.xml', 'images/N59.jpeg', 'images/N59.xml', 'images/N6.jpeg', 'images/N6.xml', 'images/N61.jpeg', 'images/N61.xml', 'images/N62.jpeg', 'images/N62.xml', 'images/N63.jpeg', 'images/N63.xml', 'images/N64.jpeg', 'images/N64.xml', 'images/N65.jpeg', 'images/N65.xml', 'images/N66.jpeg', 'images/N66.xml', 'images/N67.jpeg', 'images/N67.xml', 'images/N68.jpeg', 'images/N68.xml', 'images/N69.jpeg', 'images/N69.xml', 'images/N7.jpeg', 'images/N7.xml', 'images/N70.jpeg', 'images/N70.xml', 'images/N72.jpeg', 'images/N72.xml', 'images/N73.jpeg', 'images/N73.xml', 'images/N74.jpeg', 'images/N74.xml', 'images/N75.jpeg', 'images/N75.xml', 'images/N77.jpeg', 'images/N77.xml', 'images/N78.jpeg', 'images/N78.xml', 'images/N79.jpeg', 'images/N79.xml', 'images/N8.jpeg', 'images/N8.xml', 'images/N80.jpeg', 'images/N80.xml', 'images/N81.jpeg', 'images/N81.xml', 'images/N82.jpeg', 'images/N82.xml', 'images/N84.jpeg', 'images/N84.xml', 'images/N85.jpeg', 'images/N85.xml', 'images/N86.jpeg', 'images/N86.xml', 'images/N88.jpeg', 'images/N88.xml', 'images/N89.jpeg', 'images/N89.xml', 'images/N9.jpeg', 'images/N9.xml', 'images/N90.jpeg', 'images/N90.xml', 'images/N91.jpeg', 'images/N91.xml', 'images/N92.jpeg', 'images/N92.xml', 'images/N93.jpeg', 'images/N93.xml', 'images/N94.jpeg', 'images/N94.xml', 'images/N95.jpeg', 'images/N95.xml', 'images/N96.jpeg', 'images/N96.xml', 'images/N97.jpeg', 'images/N97.xml', 'images/N98.jpeg', 'images/N98.xml', 'images/N99.jpeg', 'images/N99.xml']\n"
     ]
    }
   ],
   "source": [
    "unzip_file_and_clean(zip_data_file_path=zip_downlod_dir,raw_data_dir=data_ingestion_config.raw_data_dir)"
   ]
  },
  {
   "cell_type": "code",
   "execution_count": 37,
   "metadata": {},
   "outputs": [],
   "source": [
    "#!pip install path"
   ]
  },
  {
   "cell_type": "code",
   "execution_count": 38,
   "metadata": {},
   "outputs": [],
   "source": [
    "#from pathlib import Path"
   ]
  },
  {
   "cell_type": "code",
   "execution_count": 46,
   "metadata": {},
   "outputs": [
    {
     "data": {
      "text/plain": [
       "'d:\\\\Develops\\\\ML_PROJECT\\\\Number_Plate_Recognition\\\\notebook\\\\src\\\\ANPR\\\\artifacts\\\\ingested_dir\\\\raw_data\\\\zip_data'"
      ]
     },
     "execution_count": 46,
     "metadata": {},
     "output_type": "execute_result"
    }
   ],
   "source": [
    "zip_downlod_dir"
   ]
  },
  {
   "cell_type": "code",
   "execution_count": 47,
   "metadata": {},
   "outputs": [],
   "source": [
    "from zipfile import ZipFile, Path"
   ]
  },
  {
   "cell_type": "code",
   "execution_count": 48,
   "metadata": {},
   "outputs": [
    {
     "ename": "AttributeError",
     "evalue": "'DataIngestionConfig' object has no attribute 'zip_downlod_dir'",
     "output_type": "error",
     "traceback": [
      "\u001b[1;31m---------------------------------------------------------------------------\u001b[0m",
      "\u001b[1;31mAttributeError\u001b[0m                            Traceback (most recent call last)",
      "Cell \u001b[1;32mIn[48], line 1\u001b[0m\n\u001b[1;32m----> 1\u001b[0m \u001b[43mdata_ingestion_config\u001b[49m\u001b[38;5;241;43m.\u001b[39;49m\u001b[43mzip_downlod_dir\u001b[49m\n",
      "\u001b[1;31mAttributeError\u001b[0m: 'DataIngestionConfig' object has no attribute 'zip_downlod_dir'"
     ]
    }
   ],
   "source": [
    "data_ingestion_config.zip_downlod_dir"
   ]
  },
  {
   "cell_type": "code",
   "execution_count": 45,
   "metadata": {},
   "outputs": [],
   "source": [
    "file_id_1 = \"1d3IcHxIbP-FRiUzhhDtdnALwcnJ0AqMP\"\n",
    "url = \"https://drive.google.com/uc?id=\"\n",
    "re_url_id = url+file_id_1"
   ]
  },
  {
   "cell_type": "code",
   "execution_count": 46,
   "metadata": {},
   "outputs": [
    {
     "data": {
      "text/plain": [
       "'https://drive.google.com/uc?id=1d3IcHxIbP-FRiUzhhDtdnALwcnJ0AqMP'"
      ]
     },
     "execution_count": 46,
     "metadata": {},
     "output_type": "execute_result"
    }
   ],
   "source": [
    "re_url_id"
   ]
  },
  {
   "cell_type": "code",
   "execution_count": 47,
   "metadata": {},
   "outputs": [
    {
     "ename": "NameError",
     "evalue": "name 'post_url' is not defined",
     "output_type": "error",
     "traceback": [
      "\u001b[1;31m---------------------------------------------------------------------------\u001b[0m",
      "\u001b[1;31mNameError\u001b[0m                                 Traceback (most recent call last)",
      "Cell \u001b[1;32mIn[47], line 1\u001b[0m\n\u001b[1;32m----> 1\u001b[0m \u001b[43mpost_url\u001b[49m\n",
      "\u001b[1;31mNameError\u001b[0m: name 'post_url' is not defined"
     ]
    }
   ],
   "source": [
    "post_url"
   ]
  },
  {
   "cell_type": "code",
   "execution_count": 48,
   "metadata": {},
   "outputs": [
    {
     "ename": "SyntaxError",
     "evalue": "invalid decimal literal (758829156.py, line 1)",
     "output_type": "error",
     "traceback": [
      "\u001b[1;36m  Cell \u001b[1;32mIn[48], line 1\u001b[1;36m\u001b[0m\n\u001b[1;33m    https://drive.google.com/file/d/1d3IcHxIbP-FRiUzhhDtdnALwcnJ0AqMP/view?usp=sharing\u001b[0m\n\u001b[1;37m                                    ^\u001b[0m\n\u001b[1;31mSyntaxError\u001b[0m\u001b[1;31m:\u001b[0m invalid decimal literal\n"
     ]
    }
   ],
   "source": [
    "https://drive.google.com/file/d/1d3IcHxIbP-FRiUzhhDtdnALwcnJ0AqMP/view?usp=sharing"
   ]
  },
  {
   "cell_type": "code",
   "execution_count": 49,
   "metadata": {},
   "outputs": [],
   "source": [
    "import requests"
   ]
  },
  {
   "cell_type": "code",
   "execution_count": 50,
   "metadata": {},
   "outputs": [],
   "source": [
    "def Download_file_from_google_drive(re_url_id, destination):\n",
    "    \"\"\"Downloads a file from Google Drive given its ID.\n",
    "\n",
    "    Args:\n",
    "        file_id: The ID of the file in Google Drive.\n",
    "        destination: The local path where the file should be saved.\n",
    "    \"\"\"\n",
    "\n",
    "    url = f\"https://drive.google.com/uc?id={re_url_id}\"\n",
    "\n",
    "    try:\n",
    "        response = requests.get(url, stream=True)\n",
    "        response.raise_for_status()  # Raise an exception for bad status codes (4xx or 5xx)\n",
    "\n",
    "        with open(destination, \"wb\") as f:\n",
    "            for chunk in response.iter_content(chunk_size=8192):\n",
    "                if chunk:\n",
    "                    f.write(chunk)\n",
    "        print(f\"File downloaded successfully to {destination}\")\n",
    "\n",
    "    except requests.exceptions.RequestException as e:\n",
    "        print(f\"Error downloading file: {e}\")\n",
    "    except Exception as e:\n",
    "        print(f\"An unexpected error occurred: {e}\")"
   ]
  },
  {
   "cell_type": "code",
   "execution_count": 51,
   "metadata": {},
   "outputs": [
    {
     "ename": "NameError",
     "evalue": "name 'download_file_from_google_drive' is not defined",
     "output_type": "error",
     "traceback": [
      "\u001b[1;31m---------------------------------------------------------------------------\u001b[0m",
      "\u001b[1;31mNameError\u001b[0m                                 Traceback (most recent call last)",
      "Cell \u001b[1;32mIn[51], line 1\u001b[0m\n\u001b[1;32m----> 1\u001b[0m \u001b[43mdownload_file_from_google_drive\u001b[49m(re_url_id\u001b[38;5;241m=\u001b[39mfile_id_1, destination\u001b[38;5;241m=\u001b[39m destination)\n",
      "\u001b[1;31mNameError\u001b[0m: name 'download_file_from_google_drive' is not defined"
     ]
    }
   ],
   "source": [
    "download_file_from_google_drive(re_url_id=file_id_1, destination= destination)"
   ]
  },
  {
   "cell_type": "code",
   "execution_count": 54,
   "metadata": {},
   "outputs": [],
   "source": [
    "destination = os.path.join(data_ingestion_config.zip_download_dir, \"images.zip\")"
   ]
  },
  {
   "cell_type": "code",
   "execution_count": 55,
   "metadata": {},
   "outputs": [],
   "source": [
    "destination = data_ingestion_config.zip_download_dir"
   ]
  },
  {
   "cell_type": "code",
   "execution_count": 56,
   "metadata": {},
   "outputs": [
    {
     "data": {
      "text/plain": [
       "'d:\\\\Develops\\\\ML_PROJECT\\\\Number_Plate_Recognition\\\\notebook\\\\src\\\\ANPR\\\\artifacts\\\\ingested_dir\\\\raw_data\\\\zip_data'"
      ]
     },
     "execution_count": 56,
     "metadata": {},
     "output_type": "execute_result"
    }
   ],
   "source": [
    "destination"
   ]
  },
  {
   "cell_type": "code",
   "execution_count": 57,
   "metadata": {},
   "outputs": [
    {
     "ename": "NameError",
     "evalue": "name 're_url_id' is not defined",
     "output_type": "error",
     "traceback": [
      "\u001b[1;31m---------------------------------------------------------------------------\u001b[0m",
      "\u001b[1;31mNameError\u001b[0m                                 Traceback (most recent call last)",
      "Cell \u001b[1;32mIn[57], line 1\u001b[0m\n\u001b[1;32m----> 1\u001b[0m \u001b[43mre_url_id\u001b[49m\n",
      "\u001b[1;31mNameError\u001b[0m: name 're_url_id' is not defined"
     ]
    }
   ],
   "source": [
    "re_url_id"
   ]
  },
  {
   "cell_type": "code",
   "execution_count": 58,
   "metadata": {},
   "outputs": [],
   "source": [
    "def download_file_from_google_drive(file_id, destination):\n",
    "    \"\"\"Downloads a file from Google Drive given its ID.\n",
    "\n",
    "    Args:\n",
    "        file_id: The ID of the file in Google Drive.\n",
    "        destination: The local path where the file should be saved.\n",
    "    \"\"\"\n",
    "\n",
    "    url = f\"https://drive.google.com/uc?id={file_id}\"\n",
    "\n",
    "    try:\n",
    "        response = requests.get(url, stream=True)\n",
    "        response.raise_for_status()  # Raise HTTPError for bad responses (4xx or 5xx)\n",
    "\n",
    "        with open(destination, \"wb\") as f:  # Open in binary write mode (\"wb\")\n",
    "            for chunk in response.iter_content(chunk_size=8192):\n",
    "                if chunk:\n",
    "                    f.write(chunk)\n",
    "        print(f\"File downloaded successfully to {destination}\")\n",
    "\n",
    "    except requests.exceptions.RequestException as e:\n",
    "        print(f\"Error downloading file: {e}\")\n",
    "        return False #Return false if there is an error\n",
    "    except Exception as e:\n",
    "        print(f\"An unexpected error occurred: {e}\")\n",
    "        return False #Return false if there is an error\n",
    "    return True"
   ]
  },
  {
   "cell_type": "code",
   "execution_count": 59,
   "metadata": {},
   "outputs": [
    {
     "ename": "NameError",
     "evalue": "name 'file_id_1' is not defined",
     "output_type": "error",
     "traceback": [
      "\u001b[1;31m---------------------------------------------------------------------------\u001b[0m",
      "\u001b[1;31mNameError\u001b[0m                                 Traceback (most recent call last)",
      "Cell \u001b[1;32mIn[59], line 1\u001b[0m\n\u001b[1;32m----> 1\u001b[0m download_file_from_google_drive(file_id\u001b[38;5;241m=\u001b[39m\u001b[43mfile_id_1\u001b[49m,destination\u001b[38;5;241m=\u001b[39mdestination)\n",
      "\u001b[1;31mNameError\u001b[0m: name 'file_id_1' is not defined"
     ]
    }
   ],
   "source": [
    "download_file_from_google_drive(file_id=file_id_1,destination=destination)"
   ]
  },
  {
   "cell_type": "code",
   "execution_count": 60,
   "metadata": {},
   "outputs": [],
   "source": [
    "url = \"https://drive.google.com/uc?id=\""
   ]
  },
  {
   "cell_type": "code",
   "execution_count": 71,
   "metadata": {},
   "outputs": [
    {
     "name": "stderr",
     "output_type": "stream",
     "text": [
      "Downloading...\n",
      "From (original): https://drive.google.com/uc?/export=download&id=1d3IcHxIbP-FRiUzhhDtdnALwcnJ0AqMP\n",
      "From (redirected): https://drive.google.com/uc?%2Fexport=download&id=1d3IcHxIbP-FRiUzhhDtdnALwcnJ0AqMP&confirm=t&uuid=68263271-2e67-4498-91e0-323344f69c9a\n",
      "To: d:\\Develops\\ML_PROJECT\\Number_Plate_Recognition\\notebook\\src\\ANPR\\artifacts\\ingested_dir\\raw_data\\zip_data\\images.zip\n",
      "100%|██████████| 40.4M/40.4M [00:04<00:00, 8.12MB/s]\n"
     ]
    },
    {
     "data": {
      "text/plain": [
       "'d:\\\\Develops\\\\ML_PROJECT\\\\Number_Plate_Recognition\\\\notebook\\\\src\\\\ANPR\\\\artifacts\\\\ingested_dir\\\\raw_data\\\\zip_data\\\\images.zip'"
      ]
     },
     "execution_count": 71,
     "metadata": {},
     "output_type": "execute_result"
    }
   ],
   "source": [
    "dataset_url = data_ingestion_config.data_url\n",
    "#os.makedirs(\"artifacts/data_ingestion\", exist_ok=True)\n",
    "\n",
    "\n",
    "file_id = dataset_url.split(\"/\")[-2]\n",
    "prefix = 'https://drive.google.com/uc?/export=download&id='\n",
    "gdown.download(prefix+file_id,destination)\n",
    "\n",
    "\n"
   ]
  },
  {
   "cell_type": "code",
   "execution_count": 63,
   "metadata": {},
   "outputs": [
    {
     "data": {
      "text/plain": [
       "'https://drive.google.com/file/d/1d3IcHxIbP-FRiUzhhDtdnALwcnJ0AqMP/view?usp=sharing'"
      ]
     },
     "execution_count": 63,
     "metadata": {},
     "output_type": "execute_result"
    }
   ],
   "source": [
    "data_ingestion_config.data_url"
   ]
  },
  {
   "cell_type": "code",
   "execution_count": 64,
   "metadata": {},
   "outputs": [
    {
     "data": {
      "text/plain": [
       "('d:\\\\Develops\\\\ML_PROJECT\\\\Number_Plate_Recognition\\\\notebook\\\\src\\\\ANPR\\\\artifacts\\\\ingested_dir\\\\raw_data\\\\zip_data',)"
      ]
     },
     "execution_count": 64,
     "metadata": {},
     "output_type": "execute_result"
    }
   ],
   "source": [
    "data_ingestion_config.zip_download_dir, "
   ]
  },
  {
   "cell_type": "code",
   "execution_count": 65,
   "metadata": {},
   "outputs": [
    {
     "data": {
      "text/plain": [
       "'images.zip'"
      ]
     },
     "execution_count": 65,
     "metadata": {},
     "output_type": "execute_result"
    }
   ],
   "source": [
    "filename"
   ]
  },
  {
   "cell_type": "code",
   "execution_count": 66,
   "metadata": {},
   "outputs": [],
   "source": [
    "destination = os.path.join(destination, filename)"
   ]
  },
  {
   "cell_type": "code",
   "execution_count": 67,
   "metadata": {},
   "outputs": [
    {
     "data": {
      "text/plain": [
       "'d:\\\\Develops\\\\ML_PROJECT\\\\Number_Plate_Recognition\\\\notebook\\\\src\\\\ANPR\\\\artifacts\\\\ingested_dir\\\\raw_data\\\\zip_data\\\\images.zip'"
      ]
     },
     "execution_count": 67,
     "metadata": {},
     "output_type": "execute_result"
    }
   ],
   "source": [
    "destination"
   ]
  },
  {
   "cell_type": "code",
   "execution_count": 68,
   "metadata": {},
   "outputs": [],
   "source": [
    "os.makedirs(zip_downlod_dir, exist_ok=True)"
   ]
  },
  {
   "cell_type": "code",
   "execution_count": 69,
   "metadata": {},
   "outputs": [],
   "source": [
    "from zipfile import ZipFile"
   ]
  },
  {
   "cell_type": "code",
   "execution_count": 70,
   "metadata": {},
   "outputs": [],
   "source": [
    "zip_file_path = os.path.join(data_ingestion_config.zip_download_dir, \"images.zip\")"
   ]
  },
  {
   "cell_type": "code",
   "execution_count": 68,
   "metadata": {},
   "outputs": [
    {
     "ename": "FileNotFoundError",
     "evalue": "[Errno 2] No such file or directory: 'd:\\\\Develops\\\\ML_PROJECT\\\\Number_Plate_Recognition\\\\notebook\\\\src\\\\ANPR\\\\artifacts\\\\ingested_dir\\\\2025-01-28-17-15-26\\\\raw_data\\\\zip_data\\\\images.zip'",
     "output_type": "error",
     "traceback": [
      "\u001b[1;31m---------------------------------------------------------------------------\u001b[0m",
      "\u001b[1;31mFileNotFoundError\u001b[0m                         Traceback (most recent call last)",
      "Cell \u001b[1;32mIn[68], line 1\u001b[0m\n\u001b[1;32m----> 1\u001b[0m \u001b[38;5;28;01mwith\u001b[39;00m \u001b[43mZipFile\u001b[49m\u001b[43m(\u001b[49m\u001b[43mdestination\u001b[49m\u001b[43m,\u001b[49m\u001b[43m \u001b[49m\u001b[43mmode\u001b[49m\u001b[38;5;241;43m=\u001b[39;49m\u001b[38;5;124;43m'\u001b[39;49m\u001b[38;5;124;43mr\u001b[39;49m\u001b[38;5;124;43m'\u001b[39;49m\u001b[43m)\u001b[49m \u001b[38;5;28;01mas\u001b[39;00m zip_ref :\n\u001b[0;32m      2\u001b[0m     list_of_file \u001b[38;5;241m=\u001b[39m zip_ref\u001b[38;5;241m.\u001b[39mnamelist()\n\u001b[0;32m      3\u001b[0m     \u001b[38;5;28mprint\u001b[39m(list_of_file)\n",
      "File \u001b[1;32md:\\Develops\\ML_PROJECT\\Number_Plate_Recognition\\venv_ANPR\\lib\\zipfile.py:1254\u001b[0m, in \u001b[0;36mZipFile.__init__\u001b[1;34m(self, file, mode, compression, allowZip64, compresslevel, strict_timestamps)\u001b[0m\n\u001b[0;32m   1252\u001b[0m \u001b[38;5;28;01mwhile\u001b[39;00m \u001b[38;5;28;01mTrue\u001b[39;00m:\n\u001b[0;32m   1253\u001b[0m     \u001b[38;5;28;01mtry\u001b[39;00m:\n\u001b[1;32m-> 1254\u001b[0m         \u001b[38;5;28mself\u001b[39m\u001b[38;5;241m.\u001b[39mfp \u001b[38;5;241m=\u001b[39m \u001b[43mio\u001b[49m\u001b[38;5;241;43m.\u001b[39;49m\u001b[43mopen\u001b[49m\u001b[43m(\u001b[49m\u001b[43mfile\u001b[49m\u001b[43m,\u001b[49m\u001b[43m \u001b[49m\u001b[43mfilemode\u001b[49m\u001b[43m)\u001b[49m\n\u001b[0;32m   1255\u001b[0m     \u001b[38;5;28;01mexcept\u001b[39;00m \u001b[38;5;167;01mOSError\u001b[39;00m:\n\u001b[0;32m   1256\u001b[0m         \u001b[38;5;28;01mif\u001b[39;00m filemode \u001b[38;5;129;01min\u001b[39;00m modeDict:\n",
      "\u001b[1;31mFileNotFoundError\u001b[0m: [Errno 2] No such file or directory: 'd:\\\\Develops\\\\ML_PROJECT\\\\Number_Plate_Recognition\\\\notebook\\\\src\\\\ANPR\\\\artifacts\\\\ingested_dir\\\\2025-01-28-17-15-26\\\\raw_data\\\\zip_data\\\\images.zip'"
     ]
    }
   ],
   "source": [
    "with ZipFile(destination, mode='r') as zip_ref :\n",
    "    list_of_file = zip_ref.namelist()\n",
    "    print(list_of_file)"
   ]
  },
  {
   "cell_type": "code",
   "execution_count": 70,
   "metadata": {},
   "outputs": [
    {
     "ename": "FileNotFoundError",
     "evalue": "[Errno 2] No such file or directory: 'd:\\\\Develops\\\\ML_PROJECT\\\\Number_Plate_Recognition\\\\notebook\\\\src\\\\ANPR\\\\artifacts\\\\ingested_dir\\\\2025-01-28-17-15-26\\\\raw_data\\\\zip_data\\\\images.zip'",
     "output_type": "error",
     "traceback": [
      "\u001b[1;31m---------------------------------------------------------------------------\u001b[0m",
      "\u001b[1;31mFileNotFoundError\u001b[0m                         Traceback (most recent call last)",
      "Cell \u001b[1;32mIn[70], line 1\u001b[0m\n\u001b[1;32m----> 1\u001b[0m \u001b[38;5;28;01mwith\u001b[39;00m \u001b[43mZipFile\u001b[49m\u001b[43m(\u001b[49m\u001b[43mdestination\u001b[49m\u001b[43m,\u001b[49m\u001b[43m \u001b[49m\u001b[43mmode\u001b[49m\u001b[38;5;241;43m=\u001b[39;49m\u001b[38;5;124;43m\"\u001b[39;49m\u001b[38;5;124;43mr\u001b[39;49m\u001b[38;5;124;43m\"\u001b[39;49m\u001b[43m)\u001b[49m \u001b[38;5;28;01mas\u001b[39;00m zip_ref :\n\u001b[0;32m      2\u001b[0m     list_of_file \u001b[38;5;241m=\u001b[39m zip_ref\u001b[38;5;241m.\u001b[39mnamelist()\n\u001b[0;32m      3\u001b[0m     \u001b[38;5;28mprint\u001b[39m(list_of_file)\n",
      "File \u001b[1;32md:\\Develops\\ML_PROJECT\\Number_Plate_Recognition\\venv_ANPR\\lib\\zipfile.py:1254\u001b[0m, in \u001b[0;36mZipFile.__init__\u001b[1;34m(self, file, mode, compression, allowZip64, compresslevel, strict_timestamps)\u001b[0m\n\u001b[0;32m   1252\u001b[0m \u001b[38;5;28;01mwhile\u001b[39;00m \u001b[38;5;28;01mTrue\u001b[39;00m:\n\u001b[0;32m   1253\u001b[0m     \u001b[38;5;28;01mtry\u001b[39;00m:\n\u001b[1;32m-> 1254\u001b[0m         \u001b[38;5;28mself\u001b[39m\u001b[38;5;241m.\u001b[39mfp \u001b[38;5;241m=\u001b[39m \u001b[43mio\u001b[49m\u001b[38;5;241;43m.\u001b[39;49m\u001b[43mopen\u001b[49m\u001b[43m(\u001b[49m\u001b[43mfile\u001b[49m\u001b[43m,\u001b[49m\u001b[43m \u001b[49m\u001b[43mfilemode\u001b[49m\u001b[43m)\u001b[49m\n\u001b[0;32m   1255\u001b[0m     \u001b[38;5;28;01mexcept\u001b[39;00m \u001b[38;5;167;01mOSError\u001b[39;00m:\n\u001b[0;32m   1256\u001b[0m         \u001b[38;5;28;01mif\u001b[39;00m filemode \u001b[38;5;129;01min\u001b[39;00m modeDict:\n",
      "\u001b[1;31mFileNotFoundError\u001b[0m: [Errno 2] No such file or directory: 'd:\\\\Develops\\\\ML_PROJECT\\\\Number_Plate_Recognition\\\\notebook\\\\src\\\\ANPR\\\\artifacts\\\\ingested_dir\\\\2025-01-28-17-15-26\\\\raw_data\\\\zip_data\\\\images.zip'"
     ]
    }
   ],
   "source": [
    "with ZipFile(destination, mode=\"r\") as zip_ref :\n",
    "    list_of_file = zip_ref.namelist()\n",
    "    print(list_of_file)"
   ]
  },
  {
   "cell_type": "code",
   "execution_count": null,
   "metadata": {},
   "outputs": [],
   "source": []
  },
  {
   "cell_type": "code",
   "execution_count": 1,
   "metadata": {},
   "outputs": [],
   "source": [
    "from tensorflow.keras.preprocessing.image import img_to_array, load_img"
   ]
  },
  {
   "cell_type": "code",
   "execution_count": null,
   "metadata": {},
   "outputs": [],
   "source": []
  },
  {
   "cell_type": "code",
   "execution_count": null,
   "metadata": {},
   "outputs": [],
   "source": []
  },
  {
   "cell_type": "code",
   "execution_count": null,
   "metadata": {},
   "outputs": [],
   "source": []
  },
  {
   "cell_type": "code",
   "execution_count": null,
   "metadata": {},
   "outputs": [],
   "source": []
  },
  {
   "cell_type": "code",
   "execution_count": null,
   "metadata": {},
   "outputs": [],
   "source": []
  }
 ],
 "metadata": {
  "kernelspec": {
   "display_name": "Python 3",
   "language": "python",
   "name": "python3"
  },
  "language_info": {
   "codemirror_mode": {
    "name": "ipython",
    "version": 3
   },
   "file_extension": ".py",
   "mimetype": "text/x-python",
   "name": "python",
   "nbconvert_exporter": "python",
   "pygments_lexer": "ipython3",
   "version": "3.10.16"
  }
 },
 "nbformat": 4,
 "nbformat_minor": 2
}

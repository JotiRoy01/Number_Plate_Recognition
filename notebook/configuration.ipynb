{
 "cells": [
  {
   "cell_type": "code",
   "execution_count": 1,
   "metadata": {},
   "outputs": [],
   "source": [
    "from ANPR.constants import *\n",
    "from ANPR.logger.log import *\n",
    "from ANPR.exception import ANPR_Exceptioon\n",
    "from ANPR.utils.common import read_yaml\n",
    "import os, sys\n",
    "from ANPR.entity.config_entity import DataIngestionConfig"
   ]
  },
  {
   "cell_type": "code",
   "execution_count": 2,
   "metadata": {},
   "outputs": [],
   "source": [
    "# ROOT_DIR = os.getcwd()\n",
    "# CONFIG_DIR = \"config\"\n",
    "# CONFIG_FILE_NAME = \"config.yaml\"\n",
    "# CONFIG_FILE_PATH = os.path.join(ROOT_DIR,CONFIG_DIR)"
   ]
  },
  {
   "cell_type": "code",
   "execution_count": 3,
   "metadata": {},
   "outputs": [],
   "source": [
    "CONFIG_FILE_PATH = \"D:/Develops/ML_PROJECT/Number_Plate_Recognition/config/config.yaml\""
   ]
  },
  {
   "cell_type": "code",
   "execution_count": 4,
   "metadata": {},
   "outputs": [],
   "source": [
    "config_info = read_yaml(config_file_path=CONFIG_FILE_PATH)"
   ]
  },
  {
   "cell_type": "code",
   "execution_count": 5,
   "metadata": {},
   "outputs": [
    {
     "data": {
      "text/plain": [
       "'d:\\\\Develops\\\\ML_PROJECT\\\\Number_Plate_Recognition\\\\notebook'"
      ]
     },
     "execution_count": 5,
     "metadata": {},
     "output_type": "execute_result"
    }
   ],
   "source": [
    "ROOT_DIR"
   ]
  },
  {
   "cell_type": "code",
   "execution_count": 6,
   "metadata": {},
   "outputs": [],
   "source": [
    "def get_training_pipeline_config() :\n",
    "    training_pipeline_config = config_info[TRAINING_PIPELINE_CONFIG_KEY]\n",
    "    artifact_dir = os.path.join(ROOT_DIR,\n",
    "                                training_pipeline_config[TRAINING_PIPELINE_NAME_KEY],\n",
    "                                training_pipeline_config[TRAINING_PIPELINE_ARTIFACT_DIR_KEY])\n",
    "    return training_pipeline_config, artifact_dir\n"
   ]
  },
  {
   "cell_type": "code",
   "execution_count": 7,
   "metadata": {},
   "outputs": [],
   "source": [
    "training_pipeline, Artifact = get_training_pipeline_config()"
   ]
  },
  {
   "cell_type": "code",
   "execution_count": 8,
   "metadata": {},
   "outputs": [
    {
     "data": {
      "text/plain": [
       "{'pipeline_name': 'src\\\\ANPR', 'artifact_dir': 'artifact'}"
      ]
     },
     "execution_count": 8,
     "metadata": {},
     "output_type": "execute_result"
    }
   ],
   "source": [
    "training_pipeline"
   ]
  },
  {
   "cell_type": "code",
   "execution_count": 9,
   "metadata": {},
   "outputs": [
    {
     "data": {
      "text/plain": [
       "'d:\\\\Develops\\\\ML_PROJECT\\\\Number_Plate_Recognition\\\\notebook\\\\src\\\\ANPR\\\\artifact'"
      ]
     },
     "execution_count": 9,
     "metadata": {},
     "output_type": "execute_result"
    }
   ],
   "source": [
    "Artifact"
   ]
  },
  {
   "cell_type": "code",
   "execution_count": 10,
   "metadata": {},
   "outputs": [],
   "source": [
    "training_pipeline, Artifact = get_training_pipeline_config()\n",
    "\n",
    "def get_data_ingestion_config() -> DataIngestionConfig :\n",
    "    try :\n",
    "        #training_pipeline, Artifact = get_training_pipeline_config()\n",
    "        artifact_dir = Artifact\n",
    "        data_ingestion_artifact_dir = os.path.join(artifact_dir,DATA_INGESTION_DIR_CONFIG_KEY)\n",
    "        data_ingested_config = config_info[DATA_INGESTION_CONFIG_KEY]\n",
    "        data_url = data_ingested_config[DATA_INGESTION_URL_CONFIG_KEY]\n",
    "        raw_data_dir = data_ingested_config[DATA_INGESTION_RAW_DATA_DIR_CONFIG_KEY]\n",
    "        zip_download_dir = data_ingested_config[DATA_INGESTION_ZIP_DOWLOAD_DIR_CONFIG_KEY]\n",
    "        ingested_dir = data_ingested_config[DATA_INGESTION_DIR_CONFIG_KEY]\n",
    "        ingested_train_dir = data_ingested_config[DATA_INGESTIONTRAIN_TRAIN_DIR_CONFIG_KEY]\n",
    "        ingested_test_dir = data_ingested_config[DATA_INGESTIONTEST_TEST_DIR_CONFIG_KEY]\n",
    "        ingested_dir_config = DataIngestionConfig(\n",
    "            data_url=data_url,\n",
    "            zip_download_dir=zip_download_dir,\n",
    "            raw_data_dir=raw_data_dir,\n",
    "            ingested_train_dir=ingested_train_dir,\n",
    "            ingested_test_dir=ingested_test_dir,\n",
    "            ingested_dir=ingested_dir\n",
    "\n",
    "        )\n",
    "        #print(f\"data_ingestion_config{data_ingested_config}\")\n",
    "        #print(data_ingestion_artifact_dir)\n",
    "        return ingested_dir_config\n",
    "    except Exception as e :\n",
    "        raise ANPR_Exceptioon(e,sys) from e\n",
    "\n",
    "        \n",
    "        "
   ]
  },
  {
   "cell_type": "code",
   "execution_count": 11,
   "metadata": {},
   "outputs": [
    {
     "ename": "ANPR_Exceptioon",
     "evalue": "\n        Error occured in script:\n        [C:\\Users\\jotir\\AppData\\Local\\Temp\\ipykernel_5720\\151807599.py] at\n        try block line number: [13] and exception block line number:[28]\n        error message: ['train']\n        ",
     "output_type": "error",
     "traceback": [
      "\u001b[1;31m---------------------------------------------------------------------------\u001b[0m",
      "\u001b[1;31mKeyError\u001b[0m                                  Traceback (most recent call last)",
      "Cell \u001b[1;32mIn[10], line 13\u001b[0m, in \u001b[0;36mget_data_ingestion_config\u001b[1;34m()\u001b[0m\n\u001b[0;32m     12\u001b[0m ingested_dir \u001b[38;5;241m=\u001b[39m data_ingested_config[DATA_INGESTION_DIR_CONFIG_KEY]\n\u001b[1;32m---> 13\u001b[0m ingested_train_dir \u001b[38;5;241m=\u001b[39m \u001b[43mdata_ingested_config\u001b[49m\u001b[43m[\u001b[49m\u001b[43mDATA_INGESTIONTRAIN_TRAIN_DIR_CONFIG_KEY\u001b[49m\u001b[43m]\u001b[49m\n\u001b[0;32m     14\u001b[0m ingested_test_dir \u001b[38;5;241m=\u001b[39m data_ingested_config[DATA_INGESTIONTEST_TEST_DIR_CONFIG_KEY]\n",
      "\u001b[1;31mKeyError\u001b[0m: 'train'",
      "\nThe above exception was the direct cause of the following exception:\n",
      "\u001b[1;31mANPR_Exceptioon\u001b[0m                           Traceback (most recent call last)",
      "Cell \u001b[1;32mIn[11], line 1\u001b[0m\n\u001b[1;32m----> 1\u001b[0m \u001b[43mget_data_ingestion_config\u001b[49m\u001b[43m(\u001b[49m\u001b[43m)\u001b[49m\n",
      "Cell \u001b[1;32mIn[10], line 28\u001b[0m, in \u001b[0;36mget_data_ingestion_config\u001b[1;34m()\u001b[0m\n\u001b[0;32m     26\u001b[0m     \u001b[38;5;28;01mreturn\u001b[39;00m ingested_dir_config\n\u001b[0;32m     27\u001b[0m \u001b[38;5;28;01mexcept\u001b[39;00m \u001b[38;5;167;01mException\u001b[39;00m \u001b[38;5;28;01mas\u001b[39;00m e :\n\u001b[1;32m---> 28\u001b[0m     \u001b[38;5;28;01mraise\u001b[39;00m ANPR_Exceptioon(e,sys) \u001b[38;5;28;01mfrom\u001b[39;00m\u001b[38;5;250m \u001b[39m\u001b[38;5;21;01me\u001b[39;00m\n",
      "\u001b[1;31mANPR_Exceptioon\u001b[0m: \n        Error occured in script:\n        [C:\\Users\\jotir\\AppData\\Local\\Temp\\ipykernel_5720\\151807599.py] at\n        try block line number: [13] and exception block line number:[28]\n        error message: ['train']\n        "
     ]
    }
   ],
   "source": [
    "get_data_ingestion_config()"
   ]
  },
  {
   "cell_type": "code",
   "execution_count": 19,
   "metadata": {},
   "outputs": [
    {
     "data": {
      "text/plain": [
       "{'training_pipeline_config': {'pipeline_name': 'src\\\\ANPR',\n",
       "  'artifact_dir': 'artifact'},\n",
       " 'data_ingestion_config': {'data_url': 'https://drive.google.com/file/d/1d3IcHxIbP-FRiUzhhDtdnALwcnJ0AqMP/view?usp=sharing',\n",
       "  'raw_data_dir': 'raw_data',\n",
       "  'zip_download_dir': 'zip_data',\n",
       "  'ingested_dir': 'ingested_dir',\n",
       "  'ingested_train_dir': 'train',\n",
       "  'ingested_test_dir': 'test'}}"
      ]
     },
     "execution_count": 19,
     "metadata": {},
     "output_type": "execute_result"
    }
   ],
   "source": [
    "config_info"
   ]
  },
  {
   "cell_type": "code",
   "execution_count": null,
   "metadata": {},
   "outputs": [],
   "source": []
  },
  {
   "cell_type": "code",
   "execution_count": null,
   "metadata": {},
   "outputs": [],
   "source": []
  },
  {
   "cell_type": "code",
   "execution_count": null,
   "metadata": {},
   "outputs": [],
   "source": []
  },
  {
   "cell_type": "code",
   "execution_count": 12,
   "metadata": {},
   "outputs": [
    {
     "data": {
      "text/plain": [
       "'ingested_dir'"
      ]
     },
     "execution_count": 12,
     "metadata": {},
     "output_type": "execute_result"
    }
   ],
   "source": [
    "DATA_INGESTION_DIR_CONFIG_KEY"
   ]
  },
  {
   "cell_type": "code",
   "execution_count": 61,
   "metadata": {},
   "outputs": [
    {
     "data": {
      "text/plain": [
       "'raw_data'"
      ]
     },
     "execution_count": 61,
     "metadata": {},
     "output_type": "execute_result"
    }
   ],
   "source": [
    "DATA_INGESTION_RAW_DATA_DIR_CONFIG_KEY"
   ]
  },
  {
   "cell_type": "code",
   "execution_count": 62,
   "metadata": {},
   "outputs": [
    {
     "ename": "SyntaxError",
     "evalue": "invalid syntax (994184695.py, line 1)",
     "output_type": "error",
     "traceback": [
      "\u001b[1;36m  Cell \u001b[1;32mIn[62], line 1\u001b[1;36m\u001b[0m\n\u001b[1;33m    from from-root import from-root\u001b[0m\n\u001b[1;37m         ^\u001b[0m\n\u001b[1;31mSyntaxError\u001b[0m\u001b[1;31m:\u001b[0m invalid syntax\n"
     ]
    }
   ],
   "source": [
    "from from-root import from-root"
   ]
  },
  {
   "cell_type": "code",
   "execution_count": null,
   "metadata": {},
   "outputs": [],
   "source": []
  },
  {
   "cell_type": "code",
   "execution_count": null,
   "metadata": {},
   "outputs": [],
   "source": []
  },
  {
   "cell_type": "code",
   "execution_count": null,
   "metadata": {},
   "outputs": [],
   "source": []
  },
  {
   "cell_type": "code",
   "execution_count": null,
   "metadata": {},
   "outputs": [],
   "source": []
  },
  {
   "cell_type": "code",
   "execution_count": null,
   "metadata": {},
   "outputs": [],
   "source": []
  },
  {
   "cell_type": "code",
   "execution_count": null,
   "metadata": {},
   "outputs": [],
   "source": []
  },
  {
   "cell_type": "code",
   "execution_count": null,
   "metadata": {},
   "outputs": [],
   "source": []
  },
  {
   "cell_type": "code",
   "execution_count": null,
   "metadata": {},
   "outputs": [],
   "source": []
  },
  {
   "cell_type": "code",
   "execution_count": null,
   "metadata": {},
   "outputs": [],
   "source": []
  },
  {
   "cell_type": "code",
   "execution_count": null,
   "metadata": {},
   "outputs": [],
   "source": []
  },
  {
   "cell_type": "code",
   "execution_count": null,
   "metadata": {},
   "outputs": [],
   "source": []
  }
 ],
 "metadata": {
  "kernelspec": {
   "display_name": "venv_ANPR",
   "language": "python",
   "name": "python3"
  },
  "language_info": {
   "codemirror_mode": {
    "name": "ipython",
    "version": 3
   },
   "file_extension": ".py",
   "mimetype": "text/x-python",
   "name": "python",
   "nbconvert_exporter": "python",
   "pygments_lexer": "ipython3",
   "version": "3.10.16"
  }
 },
 "nbformat": 4,
 "nbformat_minor": 2
}

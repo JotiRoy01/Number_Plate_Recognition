{
 "cells": [
  {
   "cell_type": "code",
   "execution_count": 1,
   "metadata": {},
   "outputs": [],
   "source": [
    "from ANPR.constants import *\n",
    "from ANPR.logger.log import *\n",
    "from ANPR.exception import ANPR_Exceptioon\n",
    "from ANPR.utils.common import read_yaml\n",
    "import os, sys\n",
    "from ANPR.entity.config_entity import DataIngestionConfig, DataTransformationConfig, PrepareBaseModelConfig, PrepareCallbacksConfig, TrainingConfig"
   ]
  },
  {
   "cell_type": "code",
   "execution_count": 2,
   "metadata": {},
   "outputs": [],
   "source": [
    "# ROOT_DIR = os.getcwd()\n",
    "# CONFIG_DIR = \"config\"\n",
    "# CONFIG_FILE_NAME = \"config.yaml\"\n",
    "# CONFIG_FILE_PATH = os.path.join(ROOT_DIR,CONFIG_DIR)"
   ]
  },
  {
   "cell_type": "code",
   "execution_count": 3,
   "metadata": {},
   "outputs": [],
   "source": [
    "CONFIG_FILE_PATH = \"D:/Develops/ML_PROJECT/Number_Plate_Recognition/config/config.yaml\""
   ]
  },
  {
   "cell_type": "code",
   "execution_count": 4,
   "metadata": {},
   "outputs": [],
   "source": [
    "config_info = read_yaml(config_file_path=CONFIG_FILE_PATH)"
   ]
  },
  {
   "cell_type": "code",
   "execution_count": 5,
   "metadata": {},
   "outputs": [
    {
     "data": {
      "text/plain": [
       "'d:\\\\Develops\\\\ML_PROJECT\\\\Number_Plate_Recognition\\\\notebook'"
      ]
     },
     "execution_count": 5,
     "metadata": {},
     "output_type": "execute_result"
    }
   ],
   "source": [
    "ROOT_DIR"
   ]
  },
  {
   "cell_type": "code",
   "execution_count": 6,
   "metadata": {},
   "outputs": [],
   "source": [
    "def get_training_pipeline_config() :\n",
    "    training_pipeline_config = config_info[TRAINING_PIPELINE_CONFIG_KEY]\n",
    "    artifact_dir = os.path.join(ROOT_DIR,\n",
    "                                training_pipeline_config[TRAINING_PIPELINE_NAME_KEY],\n",
    "                                training_pipeline_config[TRAINING_PIPELINE_ARTIFACT_DIR_KEY])\n",
    "    return training_pipeline_config, artifact_dir\n"
   ]
  },
  {
   "cell_type": "code",
   "execution_count": 7,
   "metadata": {},
   "outputs": [],
   "source": [
    "training_pipeline, Artifact = get_training_pipeline_config()"
   ]
  },
  {
   "cell_type": "code",
   "execution_count": 8,
   "metadata": {},
   "outputs": [
    {
     "data": {
      "text/plain": [
       "{'pipeline_name': 'src\\\\ANPR', 'artifact_dir': 'artifacts'}"
      ]
     },
     "execution_count": 8,
     "metadata": {},
     "output_type": "execute_result"
    }
   ],
   "source": [
    "training_pipeline"
   ]
  },
  {
   "cell_type": "code",
   "execution_count": 9,
   "metadata": {},
   "outputs": [
    {
     "data": {
      "text/plain": [
       "'d:\\\\Develops\\\\ML_PROJECT\\\\Number_Plate_Recognition\\\\notebook\\\\src\\\\ANPR\\\\artifacts'"
      ]
     },
     "execution_count": 9,
     "metadata": {},
     "output_type": "execute_result"
    }
   ],
   "source": [
    "Artifact"
   ]
  },
  {
   "cell_type": "code",
   "execution_count": 10,
   "metadata": {},
   "outputs": [],
   "source": [
    "training_pipeline, Artifact = get_training_pipeline_config()\n",
    "\n",
    "def get_data_ingestion_config() -> DataIngestionConfig :\n",
    "    try :\n",
    "        \n",
    "        artifact_dir = Artifact\n",
    "        data_ingestion_artifact_dir = os.path.join(artifact_dir,DATA_INGESTION_DIR_CONFIG_KEY)\n",
    "\n",
    "        data_ingested_config_info = config_info[DATA_INGESTION_CONFIG_KEY]\n",
    "        data_url = data_ingested_config_info[DATA_INGESTION_URL_CONFIG_KEY]\n",
    "        \n",
    "        raw_data_dir = os.path.join(data_ingestion_artifact_dir, data_ingested_config_info[DATA_INGESTION_RAW_DATA_DIR_CONFIG_KEY])\n",
    "        zip_download_dir = os.path.join(data_ingestion_artifact_dir,data_ingested_config_info[DATA_INGESTION_RAW_DATA_DIR_CONFIG_KEY],data_ingested_config_info[DATA_INGESTION_ZIP_DOWLOAD_DIR_CONFIG_KEY])\n",
    "        ingested_train_dir = os.path.join(data_ingestion_artifact_dir, data_ingested_config_info[DATA_INGESTIONTRAIN_TRAIN_DIR_CONFIG_KEY])\n",
    "\n",
    "        ingested_test_dir = os.path.join(data_ingestion_artifact_dir, data_ingested_config_info[DATA_INGESTIONTEST_TEST_DIR_CONFIG_KEY])\n",
    "        ingested_dir_config = DataIngestionConfig(\n",
    "            data_url=data_url,\n",
    "            zip_download_dir=zip_download_dir,\n",
    "            raw_data_dir=raw_data_dir,\n",
    "            ingested_train_dir=ingested_train_dir,\n",
    "            ingested_test_dir=ingested_test_dir,\n",
    "            ingested_dir=data_ingestion_artifact_dir\n",
    "\n",
    "        )\n",
    "\n",
    "        return ingested_dir_config\n",
    "    except Exception as e :\n",
    "        raise ANPR_Exceptioon(e,sys) from e\n",
    "\n",
    "        \n",
    "        "
   ]
  },
  {
   "cell_type": "code",
   "execution_count": 11,
   "metadata": {},
   "outputs": [
    {
     "data": {
      "text/plain": [
       "DataIngestionConfig(data_url='https://drive.google.com/file/d/1d3IcHxIbP-FRiUzhhDtdnALwcnJ0AqMP/view?usp=sharing', zip_download_dir='d:\\\\Develops\\\\ML_PROJECT\\\\Number_Plate_Recognition\\\\notebook\\\\src\\\\ANPR\\\\artifacts\\\\ingested_dir\\\\raw_data\\\\zip_data', raw_data_dir='d:\\\\Develops\\\\ML_PROJECT\\\\Number_Plate_Recognition\\\\notebook\\\\src\\\\ANPR\\\\artifacts\\\\ingested_dir\\\\raw_data', ingested_train_dir='d:\\\\Develops\\\\ML_PROJECT\\\\Number_Plate_Recognition\\\\notebook\\\\src\\\\ANPR\\\\artifacts\\\\ingested_dir\\\\train', ingested_test_dir='d:\\\\Develops\\\\ML_PROJECT\\\\Number_Plate_Recognition\\\\notebook\\\\src\\\\ANPR\\\\artifacts\\\\ingested_dir\\\\test', ingested_dir='d:\\\\Develops\\\\ML_PROJECT\\\\Number_Plate_Recognition\\\\notebook\\\\src\\\\ANPR\\\\artifacts\\\\ingested_dir')"
      ]
     },
     "execution_count": 11,
     "metadata": {},
     "output_type": "execute_result"
    }
   ],
   "source": [
    "get_data_ingestion_config()"
   ]
  },
  {
   "cell_type": "code",
   "execution_count": 12,
   "metadata": {},
   "outputs": [
    {
     "data": {
      "text/plain": [
       "{'training_pipeline_config': {'pipeline_name': 'src\\\\ANPR',\n",
       "  'artifact_dir': 'artifacts'},\n",
       " 'data_ingestion_config': {'data_url': 'https://drive.google.com/file/d/1d3IcHxIbP-FRiUzhhDtdnALwcnJ0AqMP/view?usp=sharing',\n",
       "  'raw_data_dir': 'raw_data',\n",
       "  'zip_download_dir': 'zip_data',\n",
       "  'ingested_dir': 'ingested_dir',\n",
       "  'ingested_train_dir': 'train',\n",
       "  'ingested_test_dir': 'test'},\n",
       " 'data_transformation_config': {'data_transformation_artifact_dir': 'data_transformation',\n",
       "  'labeled_dataframe': 'labels.csv',\n",
       "  'transformed_data': 'data.npy',\n",
       "  'transformed_output': 'output.npy'},\n",
       " 'prepare_base_model_config': {'prepare_base_model_dir': 'preparebasemodel',\n",
       "  'base_model_path': 'base_model.h5',\n",
       "  'updated_model_path': 'updated_model.h5',\n",
       "  'augmentaion': True,\n",
       "  'image_size': 8,\n",
       "  'inlcude_top': False,\n",
       "  'epochs': 1,\n",
       "  'weights': 'imagenet',\n",
       "  'learning_rate': '1e-4',\n",
       "  'classes': 4},\n",
       " 'prepare_callbacks_config': {'prepare_callbacks_artifacts_dir': 'callbacks',\n",
       "  'tensorbroad_root_log_dir': 'tensorbroad_root_log_dir',\n",
       "  'checkpoint_dir': 'checkpoint_dir',\n",
       "  'checkpoint_model': 'model.h5'},\n",
       " 'training_config': {'model_training_dir': 'training',\n",
       "  'trained_model': 'model.h5'},\n",
       " 'predicted_pipeline_config': {'static_dir': 'static',\n",
       "  'predict_sub_dir': 'predict',\n",
       "  'roi_sub_dir': 'roi',\n",
       "  'upload_sub_dir': 'upload',\n",
       "  'ocr_sub_dir': 'ocr_result'}}"
      ]
     },
     "execution_count": 12,
     "metadata": {},
     "output_type": "execute_result"
    }
   ],
   "source": [
    "config_info"
   ]
  },
  {
   "cell_type": "code",
   "execution_count": 13,
   "metadata": {},
   "outputs": [],
   "source": [
    "def get_data_validation_config() :\n",
    "    try :\n",
    "        pass\n",
    "    except Exception as e :\n",
    "        raise ANPR_Exceptioon(e, sys) from e"
   ]
  },
  {
   "cell_type": "code",
   "execution_count": 14,
   "metadata": {},
   "outputs": [],
   "source": [
    "def data_transformation_config() -> DataTransformationConfig:\n",
    "    try :\n",
    "        artifact = Artifact\n",
    "        data_transformation_config_info = config_info[DATA_TRANSFORMATION_CONFIG]\n",
    "        data_transformation_dir_path = os.path.join(artifact,data_transformation_config_info[DATA_TRANSFORMATION_ARTIFACT_DIR])\n",
    "        data_transformantion_labeled_dataframe_file_path = os.path.join(data_transformation_dir_path,data_transformation_config_info[DATA_TRANSFORMATION_LABELED_DATAFRAME])\n",
    "        data_transformation_transformed_data_file_path = os.path.join(data_transformation_dir_path, data_transformation_config_info[DATA_TRANSFORMATION_TRANSFORMED_DATA])\n",
    "        data_transformation_transformed_ouput_file_path = os.path.join(data_transformation_dir_path, data_transformation_config_info[DATA_TRANSFORMATION_TRANSFORMED_OUTPUT])\n",
    "\n",
    "        transform_dir_config = DataTransformationConfig(\n",
    "            data_transformation_artifact_dir=data_transformation_dir_path,\n",
    "            labeled_dataframe=data_transformantion_labeled_dataframe_file_path,\n",
    "            transformed_data=data_transformation_transformed_data_file_path,\n",
    "            transfromed_output=data_transformation_transformed_ouput_file_path\n",
    "        )\n",
    "\n",
    "        return transform_dir_config\n",
    "\n",
    "        # print(data_transformation_config_info)\n",
    "        # print(data_transformation_dir_path)\n",
    "        # print(data_transformantion_labeled_dataframe_file_path)\n",
    "        # print(data_transformation_transformed_data_file_path)\n",
    "        # print(data_transformation_transformed_ouput_file_path)\n",
    "    except Exception as e :\n",
    "        raise ANPR_Exceptioon(e,sys) from e\n",
    "    \n",
    "    \n",
    "    "
   ]
  },
  {
   "cell_type": "code",
   "execution_count": 15,
   "metadata": {},
   "outputs": [
    {
     "data": {
      "text/plain": [
       "DataTransformationConfig(data_transformation_artifact_dir='d:\\\\Develops\\\\ML_PROJECT\\\\Number_Plate_Recognition\\\\notebook\\\\src\\\\ANPR\\\\artifacts\\\\data_transformation', labeled_dataframe='d:\\\\Develops\\\\ML_PROJECT\\\\Number_Plate_Recognition\\\\notebook\\\\src\\\\ANPR\\\\artifacts\\\\data_transformation\\\\labels.csv', transformed_data='d:\\\\Develops\\\\ML_PROJECT\\\\Number_Plate_Recognition\\\\notebook\\\\src\\\\ANPR\\\\artifacts\\\\data_transformation\\\\data.npy', transfromed_output='d:\\\\Develops\\\\ML_PROJECT\\\\Number_Plate_Recognition\\\\notebook\\\\src\\\\ANPR\\\\artifacts\\\\data_transformation\\\\output.npy')"
      ]
     },
     "execution_count": 15,
     "metadata": {},
     "output_type": "execute_result"
    }
   ],
   "source": [
    "data_transformation_config()"
   ]
  },
  {
   "cell_type": "code",
   "execution_count": 16,
   "metadata": {},
   "outputs": [],
   "source": [
    "def get_prepare_base_model_config() -> PrepareBaseModelConfig :\n",
    "    artifact = Artifact\n",
    "    prepare_base_model_config_info = config_info[PREPARE_BASE_MODEL_CONFIG]\n",
    "    prepare_base_model_dir_path = os.path.join(artifact, prepare_base_model_config_info[PREPARE_BASE_MODEL_DIR])\n",
    "    base_model_path = os.path.join(prepare_base_model_dir_path, prepare_base_model_config_info[PREPARE_BASE_MODEL_PATH])\n",
    "    updated_base_model_path = os.path.join(prepare_base_model_dir_path, prepare_base_model_config_info[PREPARE_BASE_UPDATED_MODEL_PATH])\n",
    "\n",
    "    prepare_base_config = PrepareBaseModelConfig(\n",
    "        prepare_base_model_dir=prepare_base_model_dir_path,\n",
    "        base_model_path=base_model_path,\n",
    "        updated_model_path=updated_base_model_path\n",
    "    )\n",
    "    return prepare_base_config"
   ]
  },
  {
   "cell_type": "code",
   "execution_count": 17,
   "metadata": {},
   "outputs": [
    {
     "data": {
      "text/plain": [
       "PrepareBaseModelConfig(prepare_base_model_dir='d:\\\\Develops\\\\ML_PROJECT\\\\Number_Plate_Recognition\\\\notebook\\\\src\\\\ANPR\\\\artifacts\\\\preparebasemodel', base_model_path='d:\\\\Develops\\\\ML_PROJECT\\\\Number_Plate_Recognition\\\\notebook\\\\src\\\\ANPR\\\\artifacts\\\\preparebasemodel\\\\base_model.h5', updated_model_path='d:\\\\Develops\\\\ML_PROJECT\\\\Number_Plate_Recognition\\\\notebook\\\\src\\\\ANPR\\\\artifacts\\\\preparebasemodel\\\\updated_model.h5')"
      ]
     },
     "execution_count": 17,
     "metadata": {},
     "output_type": "execute_result"
    }
   ],
   "source": [
    "get_prepare_base_model_config()"
   ]
  },
  {
   "cell_type": "code",
   "execution_count": 18,
   "metadata": {},
   "outputs": [],
   "source": [
    "def get_prepare_callbacks_config() -> PrepareCallbacksConfig :\n",
    "    try:\n",
    "        artifact = Artifact\n",
    "        prepare_callbacks_config = config_info[PREPARE_CALLBACKS_CONFIG]\n",
    "        prepare_callbacks_artifacts_dir_path = os.path.join(artifact, prepare_callbacks_config[PREPARE_CALLBACKS_ARTIFACTS_DIR])\n",
    "        prepare_callbacks_tensorbroad_root_log_dir = os.path.join(prepare_callbacks_artifacts_dir_path, prepare_callbacks_config[PREPARE_TENSORBROAD_ROOT_LOG_DIR])\n",
    "        prepare_callbacks_checkpoint_dir = os.path.join(prepare_callbacks_artifacts_dir_path, prepare_callbacks_config[PREPARE_CHECKPOINT_DIR])\n",
    "        prepare_callbacks_checkpoint_model = os.path.join(prepare_callbacks_artifacts_dir_path, prepare_callbacks_config[PREPARE_CHECKPOINT_MODEL])\n",
    "\n",
    "        print(prepare_callbacks_config)\n",
    "        print(prepare_callbacks_artifacts_dir_path)\n",
    "        print(prepare_callbacks_tensorbroad_root_log_dir)\n",
    "        print(prepare_callbacks_checkpoint_dir)\n",
    "        print(prepare_callbacks_checkpoint_model)\n",
    "    except Exception as e :\n",
    "        raise ANPR_Exceptioon(e,sys) from e\n"
   ]
  },
  {
   "cell_type": "code",
   "execution_count": 19,
   "metadata": {},
   "outputs": [
    {
     "name": "stdout",
     "output_type": "stream",
     "text": [
      "{'prepare_callbacks_artifacts_dir': 'callbacks', 'tensorbroad_root_log_dir': 'tensorbroad_root_log_dir', 'checkpoint_dir': 'checkpoint_dir', 'checkpoint_model': 'model.h5'}\n",
      "d:\\Develops\\ML_PROJECT\\Number_Plate_Recognition\\notebook\\src\\ANPR\\artifacts\\callbacks\n",
      "d:\\Develops\\ML_PROJECT\\Number_Plate_Recognition\\notebook\\src\\ANPR\\artifacts\\callbacks\\tensorbroad_root_log_dir\n",
      "d:\\Develops\\ML_PROJECT\\Number_Plate_Recognition\\notebook\\src\\ANPR\\artifacts\\callbacks\\checkpoint_dir\n",
      "d:\\Develops\\ML_PROJECT\\Number_Plate_Recognition\\notebook\\src\\ANPR\\artifacts\\callbacks\\model.h5\n"
     ]
    }
   ],
   "source": [
    "get_prepare_callbacks_config()"
   ]
  },
  {
   "cell_type": "code",
   "execution_count": 22,
   "metadata": {},
   "outputs": [],
   "source": [
    "def get_training_config() -> TrainingConfig :\n",
    "    try :\n",
    "        artifact = Artifact\n",
    "        training_config = config_info[TRAINING_CONFIG]\n",
    "        training_trained_dir_path = os.path.join(artifact, training_config[TRAINING_TRAINED_MODEL_DIR])\n",
    "        training_model_dir_path = os.path.join(training_trained_dir_path,training_config[TRAINING_TRAINED_MODEL])\n",
    "        \n",
    "        training_config = TrainingConfig(\n",
    "            trained_model=training_model_dir_path,\n",
    "            model_training_dir=training_trained_dir_path\n",
    "        )\n",
    "        return training_config\n",
    "    except Exception as e :\n",
    "        raise ANPR_Exceptioon(e,sys) from e\n"
   ]
  },
  {
   "cell_type": "code",
   "execution_count": 23,
   "metadata": {},
   "outputs": [
    {
     "data": {
      "text/plain": [
       "TrainingConfig(model_training_dir='d:\\\\Develops\\\\ML_PROJECT\\\\Number_Plate_Recognition\\\\notebook\\\\src\\\\ANPR\\\\artifacts\\\\training', trained_model='d:\\\\Develops\\\\ML_PROJECT\\\\Number_Plate_Recognition\\\\notebook\\\\src\\\\ANPR\\\\artifacts\\\\training\\\\model.h5')"
      ]
     },
     "execution_count": 23,
     "metadata": {},
     "output_type": "execute_result"
    }
   ],
   "source": [
    "get_training_config()"
   ]
  },
  {
   "cell_type": "code",
   "execution_count": null,
   "metadata": {},
   "outputs": [],
   "source": []
  },
  {
   "cell_type": "code",
   "execution_count": 1,
   "metadata": {},
   "outputs": [],
   "source": [
    "from zipfile import ZipFile"
   ]
  },
  {
   "cell_type": "code",
   "execution_count": null,
   "metadata": {},
   "outputs": [],
   "source": []
  },
  {
   "cell_type": "code",
   "execution_count": null,
   "metadata": {},
   "outputs": [],
   "source": []
  },
  {
   "cell_type": "code",
   "execution_count": null,
   "metadata": {},
   "outputs": [],
   "source": []
  },
  {
   "cell_type": "code",
   "execution_count": null,
   "metadata": {},
   "outputs": [],
   "source": []
  },
  {
   "cell_type": "code",
   "execution_count": null,
   "metadata": {},
   "outputs": [],
   "source": []
  },
  {
   "cell_type": "code",
   "execution_count": null,
   "metadata": {},
   "outputs": [],
   "source": []
  },
  {
   "cell_type": "code",
   "execution_count": null,
   "metadata": {},
   "outputs": [],
   "source": []
  },
  {
   "cell_type": "code",
   "execution_count": null,
   "metadata": {},
   "outputs": [],
   "source": []
  },
  {
   "cell_type": "code",
   "execution_count": null,
   "metadata": {},
   "outputs": [],
   "source": []
  },
  {
   "cell_type": "code",
   "execution_count": null,
   "metadata": {},
   "outputs": [],
   "source": []
  },
  {
   "cell_type": "code",
   "execution_count": null,
   "metadata": {},
   "outputs": [],
   "source": []
  }
 ],
 "metadata": {
  "kernelspec": {
   "display_name": "venv_ANPR",
   "language": "python",
   "name": "python3"
  },
  "language_info": {
   "codemirror_mode": {
    "name": "ipython",
    "version": 3
   },
   "file_extension": ".py",
   "mimetype": "text/x-python",
   "name": "python",
   "nbconvert_exporter": "python",
   "pygments_lexer": "ipython3",
   "version": "3.10.16"
  }
 },
 "nbformat": 4,
 "nbformat_minor": 2
}

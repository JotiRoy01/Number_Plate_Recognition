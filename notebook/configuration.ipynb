{
 "cells": [
  {
   "cell_type": "code",
   "execution_count": 31,
   "metadata": {},
   "outputs": [],
   "source": [
    "from ANPR.constants import *\n",
    "from ANPR.logger.log import *\n",
    "from ANPR.exception import ANPR_Exceptioon\n",
    "from ANPR.utils.common import read_yaml\n",
    "import os, sys\n",
    "from ANPR.entity.config_entity import DataIngestionConfig, DataTransformationConfig"
   ]
  },
  {
   "cell_type": "code",
   "execution_count": 32,
   "metadata": {},
   "outputs": [],
   "source": [
    "# ROOT_DIR = os.getcwd()\n",
    "# CONFIG_DIR = \"config\"\n",
    "# CONFIG_FILE_NAME = \"config.yaml\"\n",
    "# CONFIG_FILE_PATH = os.path.join(ROOT_DIR,CONFIG_DIR)"
   ]
  },
  {
   "cell_type": "code",
   "execution_count": 33,
   "metadata": {},
   "outputs": [],
   "source": [
    "CONFIG_FILE_PATH = \"D:/Develops/ML_PROJECT/Number_Plate_Recognition/config/config.yaml\""
   ]
  },
  {
   "cell_type": "code",
   "execution_count": 34,
   "metadata": {},
   "outputs": [],
   "source": [
    "config_info = read_yaml(config_file_path=CONFIG_FILE_PATH)"
   ]
  },
  {
   "cell_type": "code",
   "execution_count": 35,
   "metadata": {},
   "outputs": [
    {
     "data": {
      "text/plain": [
       "'d:\\\\Develops\\\\ML_PROJECT\\\\Number_Plate_Recognition\\\\notebook'"
      ]
     },
     "execution_count": 35,
     "metadata": {},
     "output_type": "execute_result"
    }
   ],
   "source": [
    "ROOT_DIR"
   ]
  },
  {
   "cell_type": "code",
   "execution_count": 36,
   "metadata": {},
   "outputs": [],
   "source": [
    "def get_training_pipeline_config() :\n",
    "    training_pipeline_config = config_info[TRAINING_PIPELINE_CONFIG_KEY]\n",
    "    artifact_dir = os.path.join(ROOT_DIR,\n",
    "                                training_pipeline_config[TRAINING_PIPELINE_NAME_KEY],\n",
    "                                training_pipeline_config[TRAINING_PIPELINE_ARTIFACT_DIR_KEY])\n",
    "    return training_pipeline_config, artifact_dir\n"
   ]
  },
  {
   "cell_type": "code",
   "execution_count": 37,
   "metadata": {},
   "outputs": [],
   "source": [
    "training_pipeline, Artifact = get_training_pipeline_config()"
   ]
  },
  {
   "cell_type": "code",
   "execution_count": 38,
   "metadata": {},
   "outputs": [
    {
     "data": {
      "text/plain": [
       "{'pipeline_name': 'src\\\\ANPR', 'artifact_dir': 'artifact'}"
      ]
     },
     "execution_count": 38,
     "metadata": {},
     "output_type": "execute_result"
    }
   ],
   "source": [
    "training_pipeline"
   ]
  },
  {
   "cell_type": "code",
   "execution_count": 39,
   "metadata": {},
   "outputs": [
    {
     "data": {
      "text/plain": [
       "'d:\\\\Develops\\\\ML_PROJECT\\\\Number_Plate_Recognition\\\\notebook\\\\src\\\\ANPR\\\\artifact'"
      ]
     },
     "execution_count": 39,
     "metadata": {},
     "output_type": "execute_result"
    }
   ],
   "source": [
    "Artifact"
   ]
  },
  {
   "cell_type": "code",
   "execution_count": 73,
   "metadata": {},
   "outputs": [],
   "source": [
    "training_pipeline, Artifact = get_training_pipeline_config()\n",
    "\n",
    "def get_data_ingestion_config() -> DataIngestionConfig :\n",
    "    try :\n",
    "        #training_pipeline, Artifact = get_training_pipeline_config()\n",
    "        artifact_dir = Artifact\n",
    "        data_ingestion_artifact_dir = os.path.join(artifact_dir,DATA_INGESTION_DIR_CONFIG_KEY)\n",
    "\n",
    "        data_ingested_config_info = config_info[DATA_INGESTION_CONFIG_KEY]\n",
    "        data_url = data_ingested_config_info[DATA_INGESTION_URL_CONFIG_KEY]\n",
    "        #data_url_dir = os.path.join(data_ingestion_artifact_dir,data_ingested_config_info[DATA_INGESTION_URL_CONFIG_KEY])\n",
    "        raw_data_dir = os.path.join(data_ingestion_artifact_dir, data_ingested_config_info[DATA_INGESTION_RAW_DATA_DIR_CONFIG_KEY])\n",
    "        zip_download_dir = os.path.join(data_ingestion_artifact_dir,data_ingested_config_info[DATA_INGESTION_RAW_DATA_DIR_CONFIG_KEY],data_ingested_config_info[DATA_INGESTION_ZIP_DOWLOAD_DIR_CONFIG_KEY])\n",
    "        ingested_train_dir = os.path.join(data_ingestion_artifact_dir, data_ingested_config_info[DATA_INGESTIONTRAIN_TRAIN_DIR_CONFIG_KEY])\n",
    "\n",
    "        ingested_test_dir = os.path.join(data_ingestion_artifact_dir, data_ingested_config_info[DATA_INGESTIONTEST_TEST_DIR_CONFIG_KEY])\n",
    "        ingested_dir_config = DataIngestionConfig(\n",
    "            data_url=data_url,\n",
    "            zip_download_dir=zip_download_dir,\n",
    "            raw_data_dir=raw_data_dir,\n",
    "            ingested_train_dir=ingested_train_dir,\n",
    "            ingested_test_dir=ingested_test_dir,\n",
    "            ingested_dir=data_ingestion_artifact_dir\n",
    "\n",
    "        )\n",
    "        #print(f\"data_ingestion_config{data_ingested_config}\")\n",
    "        # print(data_url_dir)\n",
    "        # print(raw_data_dir)\n",
    "        # print(zip_download_dir)\n",
    "        # print(ingested_train_dir)\n",
    "        # print(ingested_test_dir)\n",
    "        #print(data_ingested_config_info)\n",
    "        #print(raw_data_dir_p)\n",
    "        return ingested_dir_config\n",
    "    except Exception as e :\n",
    "        raise ANPR_Exceptioon(e,sys) from e\n",
    "\n",
    "        \n",
    "        "
   ]
  },
  {
   "cell_type": "code",
   "execution_count": 74,
   "metadata": {},
   "outputs": [
    {
     "data": {
      "text/plain": [
       "DataIngestionConfig(data_url='https://drive.google.com/file/d/1d3IcHxIbP-FRiUzhhDtdnALwcnJ0AqMP/view?usp=sharing', zip_download_dir='d:\\\\Develops\\\\ML_PROJECT\\\\Number_Plate_Recognition\\\\notebook\\\\src\\\\ANPR\\\\artifact\\\\ingested_dir\\\\raw_data\\\\zip_data', raw_data_dir='d:\\\\Develops\\\\ML_PROJECT\\\\Number_Plate_Recognition\\\\notebook\\\\src\\\\ANPR\\\\artifact\\\\ingested_dir\\\\raw_data', ingested_train_dir='d:\\\\Develops\\\\ML_PROJECT\\\\Number_Plate_Recognition\\\\notebook\\\\src\\\\ANPR\\\\artifact\\\\ingested_dir\\\\train', ingested_test_dir='d:\\\\Develops\\\\ML_PROJECT\\\\Number_Plate_Recognition\\\\notebook\\\\src\\\\ANPR\\\\artifact\\\\ingested_dir\\\\test', ingested_dir='d:\\\\Develops\\\\ML_PROJECT\\\\Number_Plate_Recognition\\\\notebook\\\\src\\\\ANPR\\\\artifact\\\\ingested_dir')"
      ]
     },
     "execution_count": 74,
     "metadata": {},
     "output_type": "execute_result"
    }
   ],
   "source": [
    "get_data_ingestion_config()"
   ]
  },
  {
   "cell_type": "code",
   "execution_count": 42,
   "metadata": {},
   "outputs": [
    {
     "data": {
      "text/plain": [
       "{'training_pipeline_config': {'pipeline_name': 'src\\\\ANPR',\n",
       "  'artifact_dir': 'artifact'},\n",
       " 'data_ingestion_config': {'data_url': 'https://drive.google.com/file/d/1d3IcHxIbP-FRiUzhhDtdnALwcnJ0AqMP/view?usp=sharing',\n",
       "  'raw_data_dir': 'raw_data',\n",
       "  'zip_download_dir': 'zip_data',\n",
       "  'ingested_dir': 'ingested_dir',\n",
       "  'ingested_train_dir': 'train',\n",
       "  'ingested_test_dir': 'test'},\n",
       " 'data_transformation_config': {'data_transformation_artifact_dir': 'data_transformation',\n",
       "  'labeled_dataframe': 'labels.csv',\n",
       "  'transformed_data': 'data.npy',\n",
       "  'transformed_output': 'output.npy'}}"
      ]
     },
     "execution_count": 42,
     "metadata": {},
     "output_type": "execute_result"
    }
   ],
   "source": [
    "config_info"
   ]
  },
  {
   "cell_type": "code",
   "execution_count": 13,
   "metadata": {},
   "outputs": [],
   "source": [
    "def get_data_validation_config() :\n",
    "    try :\n",
    "        pass\n",
    "    except Exception as e :\n",
    "        raise ANPR_Exceptioon(e, sys) from e"
   ]
  },
  {
   "cell_type": "code",
   "execution_count": 14,
   "metadata": {},
   "outputs": [],
   "source": [
    "def data_transformation_config() -> DataTransformationConfig:\n",
    "    artifact = Artifact\n",
    "    \n",
    "    \n",
    "    "
   ]
  },
  {
   "cell_type": "code",
   "execution_count": null,
   "metadata": {},
   "outputs": [],
   "source": []
  },
  {
   "cell_type": "code",
   "execution_count": null,
   "metadata": {},
   "outputs": [],
   "source": []
  },
  {
   "cell_type": "code",
   "execution_count": null,
   "metadata": {},
   "outputs": [],
   "source": []
  },
  {
   "cell_type": "code",
   "execution_count": null,
   "metadata": {},
   "outputs": [],
   "source": []
  },
  {
   "cell_type": "code",
   "execution_count": null,
   "metadata": {},
   "outputs": [],
   "source": []
  },
  {
   "cell_type": "code",
   "execution_count": null,
   "metadata": {},
   "outputs": [],
   "source": []
  },
  {
   "cell_type": "code",
   "execution_count": null,
   "metadata": {},
   "outputs": [],
   "source": []
  },
  {
   "cell_type": "code",
   "execution_count": null,
   "metadata": {},
   "outputs": [],
   "source": []
  },
  {
   "cell_type": "code",
   "execution_count": null,
   "metadata": {},
   "outputs": [],
   "source": []
  },
  {
   "cell_type": "code",
   "execution_count": null,
   "metadata": {},
   "outputs": [],
   "source": []
  }
 ],
 "metadata": {
  "kernelspec": {
   "display_name": "venv_ANPR",
   "language": "python",
   "name": "python3"
  },
  "language_info": {
   "codemirror_mode": {
    "name": "ipython",
    "version": 3
   },
   "file_extension": ".py",
   "mimetype": "text/x-python",
   "name": "python",
   "nbconvert_exporter": "python",
   "pygments_lexer": "ipython3",
   "version": "3.10.16"
  }
 },
 "nbformat": 4,
 "nbformat_minor": 2
}
